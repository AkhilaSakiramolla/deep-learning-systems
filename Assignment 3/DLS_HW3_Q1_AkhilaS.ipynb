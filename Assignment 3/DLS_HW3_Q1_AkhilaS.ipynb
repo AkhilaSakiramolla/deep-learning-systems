{
 "cells": [
  {
   "cell_type": "markdown",
   "metadata": {
    "id": "2vmHCDHGOHQp"
   },
   "source": [
    "# ENGR-E 533 Deep Learning Systems - Assignment 3"
   ]
  },
  {
   "cell_type": "markdown",
   "metadata": {
    "id": "3PkHhgI_OjGI"
   },
   "source": [
    "## Name : Akhila Sakiramolla (asakiram@iu.edu)\n",
    "## UID : 2000886005"
   ]
  },
  {
   "cell_type": "markdown",
   "metadata": {
    "id": "StpT7Ru5On2B"
   },
   "source": [
    "## Importing required libraries"
   ]
  },
  {
   "cell_type": "code",
   "execution_count": 1,
   "metadata": {
    "id": "2Sr3wljXO2Nb"
   },
   "outputs": [],
   "source": [
    "import numpy as np\n",
    "import pandas as pd\n",
    "import librosa\n",
    "import matplotlib.pyplot as plt\n",
    "import IPython.display as ipd\n",
    "import cv2\n",
    "import os\n",
    "import tensorflow as tf\n",
    "import keras\n",
    "from tensorflow.keras.datasets import cifar10\n",
    "from tensorflow.keras import initializers\n",
    "from keras.models import Sequential\n",
    "from keras.models import Model\n",
    "from keras.layers import Dense\n",
    "from keras.callbacks import History \n",
    "from keras.layers.core import Dense, Activation\n",
    "from tensorflow.keras.layers import Conv1D\n",
    "from tensorflow.keras.layers import MaxPooling1D\n",
    "from tensorflow.keras.layers import Flatten\n",
    "from tensorflow.keras.layers import Conv2D\n",
    "from tensorflow.keras.layers import MaxPooling2D\n",
    "from tensorflow.keras.layers import Input\n",
    "from tensorflow.keras.layers import LSTM\n",
    "\n",
    "# To execute a cell line by line\n",
    "from IPython.core.interactiveshell import InteractiveShell\n",
    "InteractiveShell.ast_node_interactivity = \"all\""
   ]
  },
  {
   "cell_type": "markdown",
   "metadata": {
    "id": "4HlZ4F30ZNIr"
   },
   "source": [
    "## Problem 1: Data Augmentation"
   ]
  },
  {
   "cell_type": "code",
   "execution_count": 2,
   "metadata": {
    "colab": {
     "base_uri": "https://localhost:8080/"
    },
    "id": "rmnXzASQZPot",
    "outputId": "7536018f-1924-4174-a888-cb07cb9b67e6"
   },
   "outputs": [
    {
     "name": "stdout",
     "output_type": "stream",
     "text": [
      "Downloading data from https://www.cs.toronto.edu/~kriz/cifar-10-python.tar.gz\n",
      "170498071/170498071 [==============================] - 3s 0us/step\n"
     ]
    },
    {
     "data": {
      "text/plain": [
       "(50000, 32, 32, 3)"
      ]
     },
     "execution_count": 2,
     "metadata": {},
     "output_type": "execute_result"
    },
    {
     "data": {
      "text/plain": [
       "(50000, 1)"
      ]
     },
     "execution_count": 2,
     "metadata": {},
     "output_type": "execute_result"
    },
    {
     "data": {
      "text/plain": [
       "(10000, 32, 32, 3)"
      ]
     },
     "execution_count": 2,
     "metadata": {},
     "output_type": "execute_result"
    },
    {
     "data": {
      "text/plain": [
       "(10000, 1)"
      ]
     },
     "execution_count": 2,
     "metadata": {},
     "output_type": "execute_result"
    }
   ],
   "source": [
    "# Loading data\n",
    "\n",
    "(x_train1, y_train1), (x_test, y_test) = cifar10.load_data()\n",
    "x_train1.shape\n",
    "y_train1.shape\n",
    "x_test.shape\n",
    "y_test.shape"
   ]
  },
  {
   "cell_type": "code",
   "execution_count": 3,
   "metadata": {
    "colab": {
     "base_uri": "https://localhost:8080/"
    },
    "id": "g1n-YX33MYA0",
    "outputId": "df2f02e9-b0b1-41a1-dffd-c032d608aa50"
   },
   "outputs": [
    {
     "data": {
      "text/plain": [
       "(45000, 32, 32, 3)"
      ]
     },
     "execution_count": 3,
     "metadata": {},
     "output_type": "execute_result"
    },
    {
     "data": {
      "text/plain": [
       "(45000, 1)"
      ]
     },
     "execution_count": 3,
     "metadata": {},
     "output_type": "execute_result"
    },
    {
     "data": {
      "text/plain": [
       "(5000, 32, 32, 3)"
      ]
     },
     "execution_count": 3,
     "metadata": {},
     "output_type": "execute_result"
    },
    {
     "data": {
      "text/plain": [
       "(5000, 1)"
      ]
     },
     "execution_count": 3,
     "metadata": {},
     "output_type": "execute_result"
    }
   ],
   "source": [
    "# Separating validation set\n",
    "\n",
    "x_train = x_train1[0:45000]\n",
    "y_train = y_train1[0:45000]\n",
    "x_val = x_train1[45000:50000]\n",
    "y_val = y_train1[45000:50000]\n",
    "\n",
    "x_train.shape\n",
    "y_train.shape\n",
    "x_val.shape\n",
    "y_val.shape"
   ]
  },
  {
   "cell_type": "code",
   "execution_count": 4,
   "metadata": {
    "colab": {
     "base_uri": "https://localhost:8080/"
    },
    "id": "7IhAQMQmNaEj",
    "outputId": "a8def729-a620-4bc2-f2a1-6b83fc6bc7b2"
   },
   "outputs": [
    {
     "data": {
      "text/plain": [
       "(0, 255)"
      ]
     },
     "execution_count": 4,
     "metadata": {},
     "output_type": "execute_result"
    },
    {
     "data": {
      "text/plain": [
       "(0, 255)"
      ]
     },
     "execution_count": 4,
     "metadata": {},
     "output_type": "execute_result"
    }
   ],
   "source": [
    "# Checking for min and max pixel values\n",
    "\n",
    "x_train.min(), x_train.max()\n",
    "x_val.min(), x_val.max()"
   ]
  },
  {
   "cell_type": "code",
   "execution_count": 5,
   "metadata": {
    "colab": {
     "base_uri": "https://localhost:8080/"
    },
    "id": "pakvOjKLNaB4",
    "outputId": "79ca84ed-2d34-4466-9cde-43bdaaed9d47"
   },
   "outputs": [
    {
     "data": {
      "text/plain": [
       "(-1.0, 1.0)"
      ]
     },
     "execution_count": 5,
     "metadata": {},
     "output_type": "execute_result"
    },
    {
     "data": {
      "text/plain": [
       "(-1.0, 1.0)"
      ]
     },
     "execution_count": 5,
     "metadata": {},
     "output_type": "execute_result"
    }
   ],
   "source": [
    "# Scaling the pixel values between -1 and 1\n",
    "\n",
    "x_train = (2*(x_train/255))-1\n",
    "x_val = (2*(x_val/255))-1\n",
    "\n",
    "x_train.min(), x_train.max()\n",
    "x_val.min(), x_val.max()"
   ]
  },
  {
   "cell_type": "code",
   "execution_count": 6,
   "metadata": {
    "id": "aKBii6V9Up9-"
   },
   "outputs": [],
   "source": [
    "# Coverting labels to categorical\n",
    "\n",
    "y_train = tf.keras.utils.to_categorical(y_train, num_classes=10)\n",
    "y_val = tf.keras.utils.to_categorical(y_val, num_classes=10)"
   ]
  },
  {
   "cell_type": "code",
   "execution_count": 7,
   "metadata": {
    "id": "M0kqtFOENZ_Q"
   },
   "outputs": [],
   "source": [
    "# Building a model \n",
    "\n",
    "hist = History()\n",
    "model = Sequential()\n",
    "model.add(Input(shape = (32,32,3)))\n",
    "model.add(Conv2D(10, kernel_size=(5,5), activation='relu', kernel_initializer=tf.keras.initializers.HeNormal(), strides=1))\n",
    "model.add(MaxPooling2D(pool_size=(2, 2), strides=2))\n",
    "model.add(Conv2D(10, kernel_size=(5,5), activation='relu',kernel_initializer=tf.keras.initializers.HeNormal(), strides=1))\n",
    "model.add(MaxPooling2D(pool_size=(2, 2), strides=2))\n",
    "model.add(Flatten())\n",
    "model.add(Dense(20, activation='relu',kernel_initializer = tf.keras.initializers.HeNormal()))\n",
    "model.add(Dense(10, activation='softmax',kernel_initializer = tf.keras.initializers.HeNormal()))"
   ]
  },
  {
   "cell_type": "code",
   "execution_count": 8,
   "metadata": {
    "id": "eOW4sUFQWBmT"
   },
   "outputs": [],
   "source": [
    "# Calculating loss and optimizing it\n",
    "\n",
    "model.compile(optimizer=tf.keras.optimizers.Adam(learning_rate=0.001),loss='categorical_crossentropy', metrics=['accuracy'])"
   ]
  },
  {
   "cell_type": "code",
   "execution_count": 9,
   "metadata": {
    "colab": {
     "base_uri": "https://localhost:8080/"
    },
    "id": "CbOIUt9rT46I",
    "outputId": "ec1ea9dc-c6cd-4a3f-d7a5-d31d23ab3985"
   },
   "outputs": [
    {
     "name": "stdout",
     "output_type": "stream",
     "text": [
      "Epoch 1/100\n",
      "450/450 [==============================] - 12s 5ms/step - loss: 1.8374 - accuracy: 0.3298 - val_loss: 1.5625 - val_accuracy: 0.4386\n",
      "Epoch 2/100\n",
      "450/450 [==============================] - 2s 4ms/step - loss: 1.4708 - accuracy: 0.4684 - val_loss: 1.4335 - val_accuracy: 0.4844\n",
      "Epoch 3/100\n",
      "450/450 [==============================] - 2s 4ms/step - loss: 1.3625 - accuracy: 0.5107 - val_loss: 1.3473 - val_accuracy: 0.5194\n",
      "Epoch 4/100\n",
      "450/450 [==============================] - 2s 4ms/step - loss: 1.2942 - accuracy: 0.5386 - val_loss: 1.2998 - val_accuracy: 0.5382\n",
      "Epoch 5/100\n",
      "450/450 [==============================] - 2s 4ms/step - loss: 1.2447 - accuracy: 0.5566 - val_loss: 1.2206 - val_accuracy: 0.5738\n",
      "Epoch 6/100\n",
      "450/450 [==============================] - 2s 4ms/step - loss: 1.2077 - accuracy: 0.5735 - val_loss: 1.2027 - val_accuracy: 0.5750\n",
      "Epoch 7/100\n",
      "450/450 [==============================] - 2s 4ms/step - loss: 1.1754 - accuracy: 0.5860 - val_loss: 1.1897 - val_accuracy: 0.5814\n",
      "Epoch 8/100\n",
      "450/450 [==============================] - 2s 4ms/step - loss: 1.1561 - accuracy: 0.5911 - val_loss: 1.1503 - val_accuracy: 0.5950\n",
      "Epoch 9/100\n",
      "450/450 [==============================] - 2s 4ms/step - loss: 1.1357 - accuracy: 0.6003 - val_loss: 1.1524 - val_accuracy: 0.5980\n",
      "Epoch 10/100\n",
      "450/450 [==============================] - 2s 4ms/step - loss: 1.1142 - accuracy: 0.6073 - val_loss: 1.1312 - val_accuracy: 0.6064\n",
      "Epoch 11/100\n",
      "450/450 [==============================] - 2s 4ms/step - loss: 1.0950 - accuracy: 0.6154 - val_loss: 1.0995 - val_accuracy: 0.6144\n",
      "Epoch 12/100\n",
      "450/450 [==============================] - 2s 4ms/step - loss: 1.0796 - accuracy: 0.6200 - val_loss: 1.1298 - val_accuracy: 0.6088\n",
      "Epoch 13/100\n",
      "450/450 [==============================] - 2s 4ms/step - loss: 1.0693 - accuracy: 0.6232 - val_loss: 1.1100 - val_accuracy: 0.6082\n",
      "Epoch 14/100\n",
      "450/450 [==============================] - 2s 4ms/step - loss: 1.0537 - accuracy: 0.6304 - val_loss: 1.1134 - val_accuracy: 0.6108\n",
      "Epoch 15/100\n",
      "450/450 [==============================] - 2s 4ms/step - loss: 1.0405 - accuracy: 0.6337 - val_loss: 1.0661 - val_accuracy: 0.6224\n",
      "Epoch 16/100\n",
      "450/450 [==============================] - 2s 4ms/step - loss: 1.0327 - accuracy: 0.6366 - val_loss: 1.0713 - val_accuracy: 0.6212\n",
      "Epoch 17/100\n",
      "450/450 [==============================] - 2s 4ms/step - loss: 1.0203 - accuracy: 0.6420 - val_loss: 1.0524 - val_accuracy: 0.6298\n",
      "Epoch 18/100\n",
      "450/450 [==============================] - 2s 4ms/step - loss: 1.0130 - accuracy: 0.6448 - val_loss: 1.0493 - val_accuracy: 0.6276\n",
      "Epoch 19/100\n",
      "450/450 [==============================] - 2s 4ms/step - loss: 1.0031 - accuracy: 0.6484 - val_loss: 1.0600 - val_accuracy: 0.6256\n",
      "Epoch 20/100\n",
      "450/450 [==============================] - 2s 4ms/step - loss: 0.9992 - accuracy: 0.6505 - val_loss: 1.0503 - val_accuracy: 0.6302\n",
      "Epoch 21/100\n",
      "450/450 [==============================] - 2s 4ms/step - loss: 0.9903 - accuracy: 0.6537 - val_loss: 1.0540 - val_accuracy: 0.6290\n",
      "Epoch 22/100\n",
      "450/450 [==============================] - 2s 4ms/step - loss: 0.9831 - accuracy: 0.6547 - val_loss: 1.0613 - val_accuracy: 0.6250\n",
      "Epoch 23/100\n",
      "450/450 [==============================] - 2s 4ms/step - loss: 0.9764 - accuracy: 0.6571 - val_loss: 1.0508 - val_accuracy: 0.6298\n",
      "Epoch 24/100\n",
      "450/450 [==============================] - 2s 4ms/step - loss: 0.9706 - accuracy: 0.6610 - val_loss: 1.0392 - val_accuracy: 0.6322\n",
      "Epoch 25/100\n",
      "450/450 [==============================] - 2s 4ms/step - loss: 0.9693 - accuracy: 0.6612 - val_loss: 1.0569 - val_accuracy: 0.6332\n",
      "Epoch 26/100\n",
      "450/450 [==============================] - 2s 4ms/step - loss: 0.9635 - accuracy: 0.6616 - val_loss: 1.0382 - val_accuracy: 0.6324\n",
      "Epoch 27/100\n",
      "450/450 [==============================] - 2s 4ms/step - loss: 0.9564 - accuracy: 0.6638 - val_loss: 1.0272 - val_accuracy: 0.6398\n",
      "Epoch 28/100\n",
      "450/450 [==============================] - 2s 4ms/step - loss: 0.9546 - accuracy: 0.6660 - val_loss: 1.0435 - val_accuracy: 0.6334\n",
      "Epoch 29/100\n",
      "450/450 [==============================] - 2s 4ms/step - loss: 0.9462 - accuracy: 0.6683 - val_loss: 1.0184 - val_accuracy: 0.6334\n",
      "Epoch 30/100\n",
      "450/450 [==============================] - 2s 4ms/step - loss: 0.9426 - accuracy: 0.6697 - val_loss: 1.0529 - val_accuracy: 0.6326\n",
      "Epoch 31/100\n",
      "450/450 [==============================] - 2s 4ms/step - loss: 0.9420 - accuracy: 0.6699 - val_loss: 1.0272 - val_accuracy: 0.6380\n",
      "Epoch 32/100\n",
      "450/450 [==============================] - 2s 4ms/step - loss: 0.9322 - accuracy: 0.6743 - val_loss: 1.0343 - val_accuracy: 0.6328\n",
      "Epoch 33/100\n",
      "450/450 [==============================] - 2s 4ms/step - loss: 0.9348 - accuracy: 0.6716 - val_loss: 1.0224 - val_accuracy: 0.6394\n",
      "Epoch 34/100\n",
      "450/450 [==============================] - 2s 4ms/step - loss: 0.9281 - accuracy: 0.6734 - val_loss: 1.0466 - val_accuracy: 0.6332\n",
      "Epoch 35/100\n",
      "450/450 [==============================] - 2s 4ms/step - loss: 0.9257 - accuracy: 0.6746 - val_loss: 1.0244 - val_accuracy: 0.6350\n",
      "Epoch 36/100\n",
      "450/450 [==============================] - 2s 4ms/step - loss: 0.9261 - accuracy: 0.6763 - val_loss: 1.0345 - val_accuracy: 0.6364\n",
      "Epoch 37/100\n",
      "450/450 [==============================] - 2s 4ms/step - loss: 0.9185 - accuracy: 0.6771 - val_loss: 1.0388 - val_accuracy: 0.6340\n",
      "Epoch 38/100\n",
      "450/450 [==============================] - 2s 4ms/step - loss: 0.9200 - accuracy: 0.6753 - val_loss: 1.0206 - val_accuracy: 0.6428\n",
      "Epoch 39/100\n",
      "450/450 [==============================] - 2s 4ms/step - loss: 0.9129 - accuracy: 0.6792 - val_loss: 1.0126 - val_accuracy: 0.6484\n",
      "Epoch 40/100\n",
      "450/450 [==============================] - 2s 4ms/step - loss: 0.9115 - accuracy: 0.6804 - val_loss: 1.0358 - val_accuracy: 0.6466\n",
      "Epoch 41/100\n",
      "450/450 [==============================] - 2s 4ms/step - loss: 0.9073 - accuracy: 0.6820 - val_loss: 1.0269 - val_accuracy: 0.6394\n",
      "Epoch 42/100\n",
      "450/450 [==============================] - 2s 4ms/step - loss: 0.9074 - accuracy: 0.6804 - val_loss: 1.0139 - val_accuracy: 0.6412\n",
      "Epoch 43/100\n",
      "450/450 [==============================] - 2s 4ms/step - loss: 0.9053 - accuracy: 0.6836 - val_loss: 1.0289 - val_accuracy: 0.6416\n",
      "Epoch 44/100\n",
      "450/450 [==============================] - 2s 4ms/step - loss: 0.9022 - accuracy: 0.6850 - val_loss: 1.0412 - val_accuracy: 0.6360\n",
      "Epoch 45/100\n",
      "450/450 [==============================] - 2s 4ms/step - loss: 0.9018 - accuracy: 0.6826 - val_loss: 1.0383 - val_accuracy: 0.6322\n",
      "Epoch 46/100\n",
      "450/450 [==============================] - 2s 4ms/step - loss: 0.9030 - accuracy: 0.6832 - val_loss: 1.0273 - val_accuracy: 0.6458\n",
      "Epoch 47/100\n",
      "450/450 [==============================] - 2s 4ms/step - loss: 0.8944 - accuracy: 0.6838 - val_loss: 1.0101 - val_accuracy: 0.6474\n",
      "Epoch 48/100\n",
      "450/450 [==============================] - 2s 4ms/step - loss: 0.8943 - accuracy: 0.6872 - val_loss: 1.0126 - val_accuracy: 0.6430\n",
      "Epoch 49/100\n",
      "450/450 [==============================] - 2s 4ms/step - loss: 0.8940 - accuracy: 0.6849 - val_loss: 1.0234 - val_accuracy: 0.6418\n",
      "Epoch 50/100\n",
      "450/450 [==============================] - 2s 4ms/step - loss: 0.8885 - accuracy: 0.6886 - val_loss: 1.0277 - val_accuracy: 0.6412\n",
      "Epoch 51/100\n",
      "450/450 [==============================] - 2s 4ms/step - loss: 0.8902 - accuracy: 0.6870 - val_loss: 1.0319 - val_accuracy: 0.6410\n",
      "Epoch 52/100\n",
      "450/450 [==============================] - 2s 4ms/step - loss: 0.8885 - accuracy: 0.6864 - val_loss: 1.0333 - val_accuracy: 0.6430\n",
      "Epoch 53/100\n",
      "450/450 [==============================] - 2s 4ms/step - loss: 0.8817 - accuracy: 0.6907 - val_loss: 1.0212 - val_accuracy: 0.6454\n",
      "Epoch 54/100\n",
      "450/450 [==============================] - 2s 4ms/step - loss: 0.8856 - accuracy: 0.6908 - val_loss: 1.0250 - val_accuracy: 0.6438\n",
      "Epoch 55/100\n",
      "450/450 [==============================] - 2s 4ms/step - loss: 0.8834 - accuracy: 0.6885 - val_loss: 1.0256 - val_accuracy: 0.6400\n",
      "Epoch 56/100\n",
      "450/450 [==============================] - 2s 4ms/step - loss: 0.8799 - accuracy: 0.6910 - val_loss: 1.0383 - val_accuracy: 0.6420\n",
      "Epoch 57/100\n",
      "450/450 [==============================] - 2s 4ms/step - loss: 0.8828 - accuracy: 0.6902 - val_loss: 1.0420 - val_accuracy: 0.6380\n",
      "Epoch 58/100\n",
      "450/450 [==============================] - 2s 4ms/step - loss: 0.8789 - accuracy: 0.6905 - val_loss: 1.0151 - val_accuracy: 0.6414\n",
      "Epoch 59/100\n",
      "450/450 [==============================] - 2s 4ms/step - loss: 0.8744 - accuracy: 0.6917 - val_loss: 1.0109 - val_accuracy: 0.6510\n",
      "Epoch 60/100\n",
      "450/450 [==============================] - 2s 4ms/step - loss: 0.8721 - accuracy: 0.6921 - val_loss: 1.0278 - val_accuracy: 0.6430\n",
      "Epoch 61/100\n",
      "450/450 [==============================] - 2s 4ms/step - loss: 0.8735 - accuracy: 0.6926 - val_loss: 1.0516 - val_accuracy: 0.6374\n",
      "Epoch 62/100\n",
      "450/450 [==============================] - 2s 4ms/step - loss: 0.8736 - accuracy: 0.6930 - val_loss: 1.0274 - val_accuracy: 0.6424\n",
      "Epoch 63/100\n",
      "450/450 [==============================] - 2s 4ms/step - loss: 0.8654 - accuracy: 0.6973 - val_loss: 1.0215 - val_accuracy: 0.6480\n",
      "Epoch 64/100\n",
      "450/450 [==============================] - 2s 4ms/step - loss: 0.8726 - accuracy: 0.6917 - val_loss: 1.0563 - val_accuracy: 0.6336\n",
      "Epoch 65/100\n",
      "450/450 [==============================] - 2s 4ms/step - loss: 0.8682 - accuracy: 0.6958 - val_loss: 1.0527 - val_accuracy: 0.6320\n",
      "Epoch 66/100\n",
      "450/450 [==============================] - 2s 4ms/step - loss: 0.8662 - accuracy: 0.6948 - val_loss: 1.0739 - val_accuracy: 0.6308\n",
      "Epoch 67/100\n",
      "450/450 [==============================] - 2s 4ms/step - loss: 0.8641 - accuracy: 0.6968 - val_loss: 1.0276 - val_accuracy: 0.6472\n",
      "Epoch 68/100\n",
      "450/450 [==============================] - 2s 4ms/step - loss: 0.8596 - accuracy: 0.6973 - val_loss: 1.0276 - val_accuracy: 0.6450\n",
      "Epoch 69/100\n",
      "450/450 [==============================] - 2s 4ms/step - loss: 0.8663 - accuracy: 0.6945 - val_loss: 1.0384 - val_accuracy: 0.6422\n",
      "Epoch 70/100\n",
      "450/450 [==============================] - 2s 4ms/step - loss: 0.8603 - accuracy: 0.6967 - val_loss: 1.0413 - val_accuracy: 0.6414\n",
      "Epoch 71/100\n",
      "450/450 [==============================] - 2s 4ms/step - loss: 0.8628 - accuracy: 0.6958 - val_loss: 1.0373 - val_accuracy: 0.6426\n",
      "Epoch 72/100\n",
      "450/450 [==============================] - 2s 4ms/step - loss: 0.8631 - accuracy: 0.6947 - val_loss: 1.0271 - val_accuracy: 0.6444\n",
      "Epoch 73/100\n",
      "450/450 [==============================] - 2s 4ms/step - loss: 0.8594 - accuracy: 0.6981 - val_loss: 1.0486 - val_accuracy: 0.6428\n",
      "Epoch 74/100\n",
      "450/450 [==============================] - 2s 4ms/step - loss: 0.8583 - accuracy: 0.6969 - val_loss: 1.0386 - val_accuracy: 0.6376\n",
      "Epoch 75/100\n",
      "450/450 [==============================] - 2s 4ms/step - loss: 0.8549 - accuracy: 0.6989 - val_loss: 1.0316 - val_accuracy: 0.6422\n",
      "Epoch 76/100\n",
      "450/450 [==============================] - 2s 4ms/step - loss: 0.8542 - accuracy: 0.6984 - val_loss: 1.0290 - val_accuracy: 0.6472\n",
      "Epoch 77/100\n",
      "450/450 [==============================] - 2s 4ms/step - loss: 0.8528 - accuracy: 0.7009 - val_loss: 1.0465 - val_accuracy: 0.6420\n",
      "Epoch 78/100\n",
      "450/450 [==============================] - 2s 4ms/step - loss: 0.8585 - accuracy: 0.6992 - val_loss: 1.0260 - val_accuracy: 0.6432\n",
      "Epoch 79/100\n",
      "450/450 [==============================] - 2s 4ms/step - loss: 0.8519 - accuracy: 0.6998 - val_loss: 1.0421 - val_accuracy: 0.6410\n",
      "Epoch 80/100\n",
      "450/450 [==============================] - 2s 4ms/step - loss: 0.8524 - accuracy: 0.6977 - val_loss: 1.0536 - val_accuracy: 0.6392\n",
      "Epoch 81/100\n",
      "450/450 [==============================] - 2s 4ms/step - loss: 0.8540 - accuracy: 0.7015 - val_loss: 1.0432 - val_accuracy: 0.6472\n",
      "Epoch 82/100\n",
      "450/450 [==============================] - 2s 4ms/step - loss: 0.8486 - accuracy: 0.7023 - val_loss: 1.0746 - val_accuracy: 0.6336\n",
      "Epoch 83/100\n",
      "450/450 [==============================] - 2s 4ms/step - loss: 0.8473 - accuracy: 0.7024 - val_loss: 1.0435 - val_accuracy: 0.6436\n",
      "Epoch 84/100\n",
      "450/450 [==============================] - 2s 4ms/step - loss: 0.8469 - accuracy: 0.7019 - val_loss: 1.0292 - val_accuracy: 0.6448\n",
      "Epoch 85/100\n",
      "450/450 [==============================] - 2s 4ms/step - loss: 0.8493 - accuracy: 0.7013 - val_loss: 1.0269 - val_accuracy: 0.6494\n",
      "Epoch 86/100\n",
      "450/450 [==============================] - 2s 4ms/step - loss: 0.8454 - accuracy: 0.7019 - val_loss: 1.0527 - val_accuracy: 0.6394\n",
      "Epoch 87/100\n",
      "450/450 [==============================] - 2s 4ms/step - loss: 0.8420 - accuracy: 0.7030 - val_loss: 1.0282 - val_accuracy: 0.6468\n",
      "Epoch 88/100\n",
      "450/450 [==============================] - 2s 4ms/step - loss: 0.8443 - accuracy: 0.7029 - val_loss: 1.0433 - val_accuracy: 0.6462\n",
      "Epoch 89/100\n",
      "450/450 [==============================] - 2s 4ms/step - loss: 0.8454 - accuracy: 0.7024 - val_loss: 1.0318 - val_accuracy: 0.6492\n",
      "Epoch 90/100\n",
      "450/450 [==============================] - 2s 4ms/step - loss: 0.8406 - accuracy: 0.7024 - val_loss: 1.0413 - val_accuracy: 0.6464\n",
      "Epoch 91/100\n",
      "450/450 [==============================] - 2s 4ms/step - loss: 0.8423 - accuracy: 0.7053 - val_loss: 1.0457 - val_accuracy: 0.6424\n",
      "Epoch 92/100\n",
      "450/450 [==============================] - 2s 4ms/step - loss: 0.8407 - accuracy: 0.7039 - val_loss: 1.0466 - val_accuracy: 0.6384\n",
      "Epoch 93/100\n",
      "450/450 [==============================] - 2s 4ms/step - loss: 0.8461 - accuracy: 0.7020 - val_loss: 1.0335 - val_accuracy: 0.6456\n",
      "Epoch 94/100\n",
      "450/450 [==============================] - 2s 4ms/step - loss: 0.8428 - accuracy: 0.7029 - val_loss: 1.0382 - val_accuracy: 0.6452\n",
      "Epoch 95/100\n",
      "450/450 [==============================] - 2s 4ms/step - loss: 0.8410 - accuracy: 0.7027 - val_loss: 1.0514 - val_accuracy: 0.6374\n",
      "Epoch 96/100\n",
      "450/450 [==============================] - 2s 4ms/step - loss: 0.8391 - accuracy: 0.7047 - val_loss: 1.0336 - val_accuracy: 0.6466\n",
      "Epoch 97/100\n",
      "450/450 [==============================] - 2s 4ms/step - loss: 0.8400 - accuracy: 0.7054 - val_loss: 1.0410 - val_accuracy: 0.6420\n",
      "Epoch 98/100\n",
      "450/450 [==============================] - 2s 4ms/step - loss: 0.8379 - accuracy: 0.7028 - val_loss: 1.0422 - val_accuracy: 0.6440\n",
      "Epoch 99/100\n",
      "450/450 [==============================] - 2s 4ms/step - loss: 0.8357 - accuracy: 0.7060 - val_loss: 1.0649 - val_accuracy: 0.6392\n",
      "Epoch 100/100\n",
      "450/450 [==============================] - 2s 4ms/step - loss: 0.8357 - accuracy: 0.7045 - val_loss: 1.0572 - val_accuracy: 0.6440\n"
     ]
    },
    {
     "data": {
      "text/plain": [
       "<keras.callbacks.History at 0x7f1ead568e90>"
      ]
     },
     "execution_count": 9,
     "metadata": {},
     "output_type": "execute_result"
    }
   ],
   "source": [
    "# Fitting the model\n",
    "\n",
    "model.fit(x=x_train, y=y_train, batch_size=100, epochs=100, validation_data=(x_val, y_val),callbacks=[hist])"
   ]
  },
  {
   "cell_type": "code",
   "execution_count": 10,
   "metadata": {
    "colab": {
     "base_uri": "https://localhost:8080/",
     "height": 296
    },
    "id": "ILfRJ5pfNZ5q",
    "outputId": "19b48200-26d7-41d6-8745-1c26db303bfe"
   },
   "outputs": [
    {
     "data": {
      "text/plain": [
       "[<matplotlib.lines.Line2D at 0x7f1e4652b210>]"
      ]
     },
     "execution_count": 10,
     "metadata": {},
     "output_type": "execute_result"
    },
    {
     "data": {
      "text/plain": [
       "Text(0.5, 0, 'Epochs')"
      ]
     },
     "execution_count": 10,
     "metadata": {},
     "output_type": "execute_result"
    },
    {
     "data": {
      "text/plain": [
       "Text(0, 0.5, 'Validation Accuracy')"
      ]
     },
     "execution_count": 10,
     "metadata": {},
     "output_type": "execute_result"
    },
    {
     "data": {
      "image/png": "[encoded data removed]",
      "text/plain": [
       "<Figure size 432x288 with 1 Axes>"
      ]
     },
     "metadata": {
      "needs_background": "light"
     },
     "output_type": "display_data"
    }
   ],
   "source": [
    "val_accuracy = hist.history['val_accuracy']\n",
    "plt.plot(val_accuracy)\n",
    "plt.xlabel('Epochs')\n",
    "plt.ylabel('Validation Accuracy')"
   ]
  },
  {
   "cell_type": "code",
   "execution_count": 11,
   "metadata": {
    "colab": {
     "base_uri": "https://localhost:8080/"
    },
    "id": "a3zgI2BZYdpj",
    "outputId": "8db38fc9-8da5-43e7-9d9b-bdd03404f8d9"
   },
   "outputs": [
    {
     "data": {
      "text/plain": [
       "(0.0, 1.0)"
      ]
     },
     "execution_count": 11,
     "metadata": {},
     "output_type": "execute_result"
    }
   ],
   "source": [
    "# Scaling the pixel values between 0 and 1\n",
    "\n",
    "x_train = x_train1[0:45000]\n",
    "y_train = y_train1[0:45000]\n",
    "x_val = x_train1[45000:50000]\n",
    "y_val = y_train1[45000:50000]\n",
    "\n",
    "x_train = x_train/255\n",
    "\n",
    "x_train.min(), x_train.max()"
   ]
  },
  {
   "cell_type": "code",
   "execution_count": 12,
   "metadata": {
    "id": "qOmn5T4wvqlf"
   },
   "outputs": [],
   "source": [
    "# Coverting labels to categorical\n",
    "\n",
    "y_train = tf.keras.utils.to_categorical(y_train, num_classes=10)\n",
    "y_val = tf.keras.utils.to_categorical(y_val, num_classes=10)"
   ]
  },
  {
   "cell_type": "code",
   "execution_count": 13,
   "metadata": {
    "colab": {
     "base_uri": "https://localhost:8080/"
    },
    "id": "6g61Zap-YdeY",
    "outputId": "60482ddc-f3da-4069-a976-7542a56333bf"
   },
   "outputs": [
    {
     "data": {
      "text/plain": [
       "(0.0, 1.0)"
      ]
     },
     "execution_count": 13,
     "metadata": {},
     "output_type": "execute_result"
    }
   ],
   "source": [
    "# Augumented dataset 1\n",
    "\n",
    "x_train1 = np.minimum(1.1*x_train, 1)\n",
    "x_train1.min(), x_train1.max()"
   ]
  },
  {
   "cell_type": "code",
   "execution_count": 14,
   "metadata": {
    "colab": {
     "base_uri": "https://localhost:8080/"
    },
    "id": "wdvCNXTWYdOQ",
    "outputId": "4513b01b-589e-4c88-a13b-4925daa8f431"
   },
   "outputs": [
    {
     "data": {
      "text/plain": [
       "(0.0, 0.9)"
      ]
     },
     "execution_count": 14,
     "metadata": {},
     "output_type": "execute_result"
    }
   ],
   "source": [
    "# Augumented dataset 2\n",
    "\n",
    "x_train2 = 0.9*x_train\n",
    "x_train2.min(), x_train2.max()"
   ]
  },
  {
   "cell_type": "code",
   "execution_count": 15,
   "metadata": {
    "colab": {
     "base_uri": "https://localhost:8080/"
    },
    "id": "i0yNTt2AZ-0c",
    "outputId": "162ac1ca-844a-47db-adbd-e5c396ae1871"
   },
   "outputs": [
    {
     "data": {
      "text/plain": [
       "(0.0, 1.0)"
      ]
     },
     "execution_count": 15,
     "metadata": {},
     "output_type": "execute_result"
    }
   ],
   "source": [
    "# Augumented dataset 3\n",
    "\n",
    "x_train3 = np.fliplr(x_train)\n",
    "x_train3.min(), x_train3.max()"
   ]
  },
  {
   "cell_type": "code",
   "execution_count": 16,
   "metadata": {
    "colab": {
     "base_uri": "https://localhost:8080/",
     "height": 359
    },
    "id": "DXn2JHyqZ-4f",
    "outputId": "21348826-a69f-435e-859f-58e4d374cfcd"
   },
   "outputs": [
    {
     "data": {
      "text/plain": [
       "<matplotlib.image.AxesImage at 0x7f1e460ca710>"
      ]
     },
     "execution_count": 16,
     "metadata": {},
     "output_type": "execute_result"
    },
    {
     "data": {
      "text/plain": [
       "Text(0.5, 1.0, 'Training dataset')"
      ]
     },
     "execution_count": 16,
     "metadata": {},
     "output_type": "execute_result"
    },
    {
     "data": {
      "text/plain": [
       "<matplotlib.image.AxesImage at 0x7f1e460ca810>"
      ]
     },
     "execution_count": 16,
     "metadata": {},
     "output_type": "execute_result"
    },
    {
     "data": {
      "text/plain": [
       "Text(0.5, 1.0, 'Augmented dataset 1')"
      ]
     },
     "execution_count": 16,
     "metadata": {},
     "output_type": "execute_result"
    },
    {
     "data": {
      "text/plain": [
       "<matplotlib.image.AxesImage at 0x7f1e46178b10>"
      ]
     },
     "execution_count": 16,
     "metadata": {},
     "output_type": "execute_result"
    },
    {
     "data": {
      "text/plain": [
       "Text(0.5, 1.0, 'Augmented dataset 2')"
      ]
     },
     "execution_count": 16,
     "metadata": {},
     "output_type": "execute_result"
    },
    {
     "data": {
      "text/plain": [
       "<matplotlib.image.AxesImage at 0x7f1e46187690>"
      ]
     },
     "execution_count": 16,
     "metadata": {},
     "output_type": "execute_result"
    },
    {
     "data": {
      "text/plain": [
       "Text(0.5, 1.0, 'Augmented dataset 3')"
      ]
     },
     "execution_count": 16,
     "metadata": {},
     "output_type": "execute_result"
    },
    {
     "data": {
      "text/plain": [
       "<function matplotlib.pyplot.show(*args, **kw)>"
      ]
     },
     "execution_count": 16,
     "metadata": {},
     "output_type": "execute_result"
    },
    {
     "data": {
      "image/png": "[encoded data removed]",
      "text/plain": [
       "<Figure size 1440x360 with 4 Axes>"
      ]
     },
     "metadata": {
      "needs_background": "light"
     },
     "output_type": "display_data"
    }
   ],
   "source": [
    "# Plotting images \n",
    "\n",
    "fig, (ax1, ax2, ax3, ax4) = plt.subplots(1,4)\n",
    "fig.set_figheight(5)\n",
    "fig.set_figwidth(20)\n",
    "ax1.imshow(x_train[2], interpolation='nearest')\n",
    "ax1.set_title(\"Training dataset\")\n",
    "ax2.imshow(x_train1[2], interpolation='nearest')\n",
    "ax2.set_title(\"Augmented dataset 1\")\n",
    "ax3.imshow(x_train2[2], interpolation='nearest')\n",
    "ax3.set_title(\"Augmented dataset 2\")\n",
    "ax4.imshow(x_train3[2], interpolation='nearest')\n",
    "ax4.set_title(\"Augmented dataset 3\")\n",
    "plt.show"
   ]
  },
  {
   "cell_type": "code",
   "execution_count": 17,
   "metadata": {
    "id": "-lUdrnkVZ-7c"
   },
   "outputs": [],
   "source": [
    "# Scaling pixel values to -1 and 1\n",
    "\n",
    "x_train = (2*(x_train/np.amax(x_train)))-1\n",
    "x_train1 = (2*(x_train1/np.amax(x_train1)))-1\n",
    "x_train2 = (2*(x_train2/np.amax(x_train2)))-1\n",
    "x_train3 = (2*(x_train3/np.amax(x_train3)))-1\n",
    "\n",
    "x_val=(2*(x_val/255))-1"
   ]
  },
  {
   "cell_type": "code",
   "execution_count": 18,
   "metadata": {
    "colab": {
     "base_uri": "https://localhost:8080/"
    },
    "id": "YX2cY8A9tNVa",
    "outputId": "1299fe73-2e37-491a-922e-bc630fe93927"
   },
   "outputs": [
    {
     "data": {
      "text/plain": [
       "(180000, 32, 32, 3)"
      ]
     },
     "execution_count": 18,
     "metadata": {},
     "output_type": "execute_result"
    },
    {
     "data": {
      "text/plain": [
       "(180000, 10)"
      ]
     },
     "execution_count": 18,
     "metadata": {},
     "output_type": "execute_result"
    }
   ],
   "source": [
    "# Concating the datasets\n",
    "\n",
    "X_train = np.vstack((x_train,x_train1,x_train2,x_train3))\n",
    "Y_train = np.vstack((y_train,y_train,y_train,y_train))\n",
    "X_train.shape\n",
    "Y_train.shape"
   ]
  },
  {
   "cell_type": "code",
   "execution_count": 19,
   "metadata": {
    "colab": {
     "base_uri": "https://localhost:8080/"
    },
    "id": "Q6xj38B3tNaA",
    "outputId": "ce26bfb1-03f0-4eaa-ec2c-c134c09f9d39"
   },
   "outputs": [
    {
     "data": {
      "text/plain": [
       "(5000, 32, 32, 3)"
      ]
     },
     "execution_count": 19,
     "metadata": {},
     "output_type": "execute_result"
    },
    {
     "data": {
      "text/plain": [
       "(5000, 10)"
      ]
     },
     "execution_count": 19,
     "metadata": {},
     "output_type": "execute_result"
    }
   ],
   "source": [
    "x_val.shape\n",
    "y_val.shape"
   ]
  },
  {
   "cell_type": "code",
   "execution_count": 20,
   "metadata": {
    "id": "7NKpXtQhwi_e"
   },
   "outputs": [],
   "source": [
    "# Building a model \n",
    "\n",
    "hist1 = History()\n",
    "model = Sequential()\n",
    "model.add(Input(shape = (32,32,3)))\n",
    "model.add(Conv2D(10, kernel_size=(5,5), activation='relu', kernel_initializer=tf.keras.initializers.HeNormal(), strides=1))\n",
    "model.add(MaxPooling2D(pool_size=(2, 2), strides=2))\n",
    "model.add(Conv2D(10, kernel_size=(5,5), activation='relu',kernel_initializer=tf.keras.initializers.HeNormal(), strides=1))\n",
    "model.add(MaxPooling2D(pool_size=(2, 2), strides=2))\n",
    "model.add(Flatten())\n",
    "model.add(Dense(20, activation='relu',kernel_initializer = tf.keras.initializers.HeNormal()))\n",
    "model.add(Dense(10, activation='softmax',kernel_initializer = tf.keras.initializers.HeNormal()))"
   ]
  },
  {
   "cell_type": "code",
   "execution_count": 21,
   "metadata": {
    "id": "g0vhni0Nwi_f"
   },
   "outputs": [],
   "source": [
    "# Calculating loss and optimizing it\n",
    "\n",
    "model.compile(optimizer=tf.keras.optimizers.Adam(learning_rate=0.001),loss='categorical_crossentropy', metrics=['accuracy'])"
   ]
  },
  {
   "cell_type": "code",
   "execution_count": 22,
   "metadata": {
    "colab": {
     "base_uri": "https://localhost:8080/"
    },
    "id": "hPjhRRB9wi_f",
    "outputId": "fdeb7f48-527b-4765-9ee4-13fe2aa631be"
   },
   "outputs": [
    {
     "name": "stdout",
     "output_type": "stream",
     "text": [
      "Epoch 1/100\n",
      "1800/1800 [==============================] - 7s 4ms/step - loss: 1.5854 - accuracy: 0.4231 - val_loss: 1.3189 - val_accuracy: 0.5312\n",
      "Epoch 2/100\n",
      "1800/1800 [==============================] - 7s 4ms/step - loss: 1.3327 - accuracy: 0.5226 - val_loss: 1.2393 - val_accuracy: 0.5692\n",
      "Epoch 3/100\n",
      "1800/1800 [==============================] - 6s 4ms/step - loss: 1.2507 - accuracy: 0.5540 - val_loss: 1.1487 - val_accuracy: 0.6062\n",
      "Epoch 4/100\n",
      "1800/1800 [==============================] - 6s 4ms/step - loss: 1.1975 - accuracy: 0.5745 - val_loss: 1.1374 - val_accuracy: 0.6046\n",
      "Epoch 5/100\n",
      "1800/1800 [==============================] - 7s 4ms/step - loss: 1.1616 - accuracy: 0.5893 - val_loss: 1.1105 - val_accuracy: 0.6148\n",
      "Epoch 6/100\n",
      "1800/1800 [==============================] - 7s 4ms/step - loss: 1.1371 - accuracy: 0.5989 - val_loss: 1.1001 - val_accuracy: 0.6218\n",
      "Epoch 7/100\n",
      "1800/1800 [==============================] - 7s 4ms/step - loss: 1.1148 - accuracy: 0.6083 - val_loss: 1.0810 - val_accuracy: 0.6318\n",
      "Epoch 8/100\n",
      "1800/1800 [==============================] - 7s 4ms/step - loss: 1.0964 - accuracy: 0.6149 - val_loss: 1.0837 - val_accuracy: 0.6188\n",
      "Epoch 9/100\n",
      "1800/1800 [==============================] - 7s 4ms/step - loss: 1.0838 - accuracy: 0.6187 - val_loss: 1.0758 - val_accuracy: 0.6286\n",
      "Epoch 10/100\n",
      "1800/1800 [==============================] - 7s 4ms/step - loss: 1.0720 - accuracy: 0.6235 - val_loss: 1.0473 - val_accuracy: 0.6384\n",
      "Epoch 11/100\n",
      "1800/1800 [==============================] - 7s 4ms/step - loss: 1.0632 - accuracy: 0.6265 - val_loss: 1.0462 - val_accuracy: 0.6394\n",
      "Epoch 12/100\n",
      "1800/1800 [==============================] - 7s 4ms/step - loss: 1.0525 - accuracy: 0.6306 - val_loss: 1.0484 - val_accuracy: 0.6372\n",
      "Epoch 13/100\n",
      "1800/1800 [==============================] - 7s 4ms/step - loss: 1.0475 - accuracy: 0.6316 - val_loss: 1.0512 - val_accuracy: 0.6362\n",
      "Epoch 14/100\n",
      "1800/1800 [==============================] - 7s 4ms/step - loss: 1.0401 - accuracy: 0.6333 - val_loss: 1.0347 - val_accuracy: 0.6394\n",
      "Epoch 15/100\n",
      "1800/1800 [==============================] - 7s 4ms/step - loss: 1.0359 - accuracy: 0.6364 - val_loss: 1.0517 - val_accuracy: 0.6378\n",
      "Epoch 16/100\n",
      "1800/1800 [==============================] - 7s 4ms/step - loss: 1.0305 - accuracy: 0.6382 - val_loss: 1.0484 - val_accuracy: 0.6334\n",
      "Epoch 17/100\n",
      "1800/1800 [==============================] - 7s 4ms/step - loss: 1.0259 - accuracy: 0.6397 - val_loss: 1.0415 - val_accuracy: 0.6426\n",
      "Epoch 18/100\n",
      "1800/1800 [==============================] - 7s 4ms/step - loss: 1.0208 - accuracy: 0.6411 - val_loss: 1.0492 - val_accuracy: 0.6308\n",
      "Epoch 19/100\n",
      "1800/1800 [==============================] - 7s 4ms/step - loss: 1.0174 - accuracy: 0.6431 - val_loss: 1.0463 - val_accuracy: 0.6452\n",
      "Epoch 20/100\n",
      "1800/1800 [==============================] - 7s 4ms/step - loss: 1.0134 - accuracy: 0.6438 - val_loss: 1.0287 - val_accuracy: 0.6424\n",
      "Epoch 21/100\n",
      "1800/1800 [==============================] - 7s 4ms/step - loss: 1.0102 - accuracy: 0.6457 - val_loss: 1.0447 - val_accuracy: 0.6388\n",
      "Epoch 22/100\n",
      "1800/1800 [==============================] - 7s 4ms/step - loss: 1.0083 - accuracy: 0.6458 - val_loss: 1.0371 - val_accuracy: 0.6366\n",
      "Epoch 23/100\n",
      "1800/1800 [==============================] - 7s 4ms/step - loss: 1.0047 - accuracy: 0.6475 - val_loss: 1.0258 - val_accuracy: 0.6492\n",
      "Epoch 24/100\n",
      "1800/1800 [==============================] - 7s 4ms/step - loss: 0.9996 - accuracy: 0.6491 - val_loss: 1.0560 - val_accuracy: 0.6402\n",
      "Epoch 25/100\n",
      "1800/1800 [==============================] - 7s 4ms/step - loss: 0.9990 - accuracy: 0.6493 - val_loss: 1.0191 - val_accuracy: 0.6496\n",
      "Epoch 26/100\n",
      "1800/1800 [==============================] - 7s 4ms/step - loss: 0.9934 - accuracy: 0.6505 - val_loss: 1.0300 - val_accuracy: 0.6470\n",
      "Epoch 27/100\n",
      "1800/1800 [==============================] - 7s 4ms/step - loss: 0.9907 - accuracy: 0.6514 - val_loss: 1.0360 - val_accuracy: 0.6420\n",
      "Epoch 28/100\n",
      "1800/1800 [==============================] - 7s 4ms/step - loss: 0.9912 - accuracy: 0.6510 - val_loss: 1.0579 - val_accuracy: 0.6382\n",
      "Epoch 29/100\n",
      "1800/1800 [==============================] - 7s 4ms/step - loss: 0.9875 - accuracy: 0.6528 - val_loss: 1.0591 - val_accuracy: 0.6356\n",
      "Epoch 30/100\n",
      "1800/1800 [==============================] - 7s 4ms/step - loss: 0.9833 - accuracy: 0.6544 - val_loss: 1.0297 - val_accuracy: 0.6454\n",
      "Epoch 31/100\n",
      "1800/1800 [==============================] - 7s 4ms/step - loss: 0.9827 - accuracy: 0.6545 - val_loss: 1.0049 - val_accuracy: 0.6526\n",
      "Epoch 32/100\n",
      "1800/1800 [==============================] - 7s 4ms/step - loss: 0.9807 - accuracy: 0.6546 - val_loss: 1.0612 - val_accuracy: 0.6394\n",
      "Epoch 33/100\n",
      "1800/1800 [==============================] - 7s 4ms/step - loss: 0.9778 - accuracy: 0.6551 - val_loss: 1.0368 - val_accuracy: 0.6434\n",
      "Epoch 34/100\n",
      "1800/1800 [==============================] - 7s 4ms/step - loss: 0.9758 - accuracy: 0.6568 - val_loss: 1.0231 - val_accuracy: 0.6484\n",
      "Epoch 35/100\n",
      "1800/1800 [==============================] - 7s 4ms/step - loss: 0.9731 - accuracy: 0.6570 - val_loss: 1.0506 - val_accuracy: 0.6396\n",
      "Epoch 36/100\n",
      "1800/1800 [==============================] - 7s 4ms/step - loss: 0.9731 - accuracy: 0.6564 - val_loss: 0.9994 - val_accuracy: 0.6570\n",
      "Epoch 37/100\n",
      "1800/1800 [==============================] - 7s 4ms/step - loss: 0.9705 - accuracy: 0.6590 - val_loss: 1.0166 - val_accuracy: 0.6460\n",
      "Epoch 38/100\n",
      "1800/1800 [==============================] - 7s 4ms/step - loss: 0.9682 - accuracy: 0.6593 - val_loss: 1.0308 - val_accuracy: 0.6412\n",
      "Epoch 39/100\n",
      "1800/1800 [==============================] - 7s 4ms/step - loss: 0.9676 - accuracy: 0.6589 - val_loss: 1.0204 - val_accuracy: 0.6440\n",
      "Epoch 40/100\n",
      "1800/1800 [==============================] - 7s 4ms/step - loss: 0.9654 - accuracy: 0.6599 - val_loss: 1.0060 - val_accuracy: 0.6536\n",
      "Epoch 41/100\n",
      "1800/1800 [==============================] - 7s 4ms/step - loss: 0.9627 - accuracy: 0.6611 - val_loss: 1.0069 - val_accuracy: 0.6506\n",
      "Epoch 42/100\n",
      "1800/1800 [==============================] - 7s 4ms/step - loss: 0.9617 - accuracy: 0.6624 - val_loss: 1.0180 - val_accuracy: 0.6518\n",
      "Epoch 43/100\n",
      "1800/1800 [==============================] - 7s 4ms/step - loss: 0.9615 - accuracy: 0.6616 - val_loss: 1.0467 - val_accuracy: 0.6400\n",
      "Epoch 44/100\n",
      "1800/1800 [==============================] - 7s 4ms/step - loss: 0.9598 - accuracy: 0.6617 - val_loss: 1.0218 - val_accuracy: 0.6484\n",
      "Epoch 45/100\n",
      "1800/1800 [==============================] - 7s 4ms/step - loss: 0.9577 - accuracy: 0.6626 - val_loss: 1.0086 - val_accuracy: 0.6484\n",
      "Epoch 46/100\n",
      "1800/1800 [==============================] - 7s 4ms/step - loss: 0.9571 - accuracy: 0.6626 - val_loss: 1.0051 - val_accuracy: 0.6512\n",
      "Epoch 47/100\n",
      "1800/1800 [==============================] - 7s 4ms/step - loss: 0.9564 - accuracy: 0.6632 - val_loss: 1.0057 - val_accuracy: 0.6590\n",
      "Epoch 48/100\n",
      "1800/1800 [==============================] - 7s 4ms/step - loss: 0.9556 - accuracy: 0.6638 - val_loss: 1.0092 - val_accuracy: 0.6532\n",
      "Epoch 49/100\n",
      "1800/1800 [==============================] - 7s 4ms/step - loss: 0.9521 - accuracy: 0.6653 - val_loss: 1.0167 - val_accuracy: 0.6542\n",
      "Epoch 50/100\n",
      "1800/1800 [==============================] - 7s 4ms/step - loss: 0.9530 - accuracy: 0.6640 - val_loss: 1.0542 - val_accuracy: 0.6402\n",
      "Epoch 51/100\n",
      "1800/1800 [==============================] - 7s 4ms/step - loss: 0.9499 - accuracy: 0.6657 - val_loss: 1.0074 - val_accuracy: 0.6512\n",
      "Epoch 52/100\n",
      "1800/1800 [==============================] - 6s 4ms/step - loss: 0.9501 - accuracy: 0.6664 - val_loss: 1.0084 - val_accuracy: 0.6546\n",
      "Epoch 53/100\n",
      "1800/1800 [==============================] - 7s 4ms/step - loss: 0.9477 - accuracy: 0.6657 - val_loss: 1.0195 - val_accuracy: 0.6518\n",
      "Epoch 54/100\n",
      "1800/1800 [==============================] - 7s 4ms/step - loss: 0.9497 - accuracy: 0.6660 - val_loss: 1.0029 - val_accuracy: 0.6566\n",
      "Epoch 55/100\n",
      "1800/1800 [==============================] - 7s 4ms/step - loss: 0.9452 - accuracy: 0.6661 - val_loss: 1.0078 - val_accuracy: 0.6514\n",
      "Epoch 56/100\n",
      "1800/1800 [==============================] - 7s 4ms/step - loss: 0.9469 - accuracy: 0.6662 - val_loss: 1.0189 - val_accuracy: 0.6538\n",
      "Epoch 57/100\n",
      "1800/1800 [==============================] - 7s 4ms/step - loss: 0.9442 - accuracy: 0.6668 - val_loss: 1.0206 - val_accuracy: 0.6524\n",
      "Epoch 58/100\n",
      "1800/1800 [==============================] - 7s 4ms/step - loss: 0.9430 - accuracy: 0.6682 - val_loss: 1.0291 - val_accuracy: 0.6524\n",
      "Epoch 59/100\n",
      "1800/1800 [==============================] - 7s 4ms/step - loss: 0.9422 - accuracy: 0.6681 - val_loss: 1.0022 - val_accuracy: 0.6606\n",
      "Epoch 60/100\n",
      "1800/1800 [==============================] - 7s 4ms/step - loss: 0.9430 - accuracy: 0.6676 - val_loss: 1.0103 - val_accuracy: 0.6502\n",
      "Epoch 61/100\n",
      "1800/1800 [==============================] - 7s 4ms/step - loss: 0.9413 - accuracy: 0.6682 - val_loss: 1.0271 - val_accuracy: 0.6534\n",
      "Epoch 62/100\n",
      "1800/1800 [==============================] - 7s 4ms/step - loss: 0.9404 - accuracy: 0.6693 - val_loss: 0.9990 - val_accuracy: 0.6588\n",
      "Epoch 63/100\n",
      "1800/1800 [==============================] - 7s 4ms/step - loss: 0.9417 - accuracy: 0.6684 - val_loss: 1.0292 - val_accuracy: 0.6514\n",
      "Epoch 64/100\n",
      "1800/1800 [==============================] - 7s 4ms/step - loss: 0.9377 - accuracy: 0.6697 - val_loss: 1.0049 - val_accuracy: 0.6562\n",
      "Epoch 65/100\n",
      "1800/1800 [==============================] - 7s 4ms/step - loss: 0.9373 - accuracy: 0.6697 - val_loss: 1.0229 - val_accuracy: 0.6502\n",
      "Epoch 66/100\n",
      "1800/1800 [==============================] - 7s 4ms/step - loss: 0.9351 - accuracy: 0.6702 - val_loss: 1.0185 - val_accuracy: 0.6554\n",
      "Epoch 67/100\n",
      "1800/1800 [==============================] - 7s 4ms/step - loss: 0.9351 - accuracy: 0.6712 - val_loss: 1.0134 - val_accuracy: 0.6546\n",
      "Epoch 68/100\n",
      "1800/1800 [==============================] - 7s 4ms/step - loss: 0.9342 - accuracy: 0.6709 - val_loss: 1.0269 - val_accuracy: 0.6528\n",
      "Epoch 69/100\n",
      "1800/1800 [==============================] - 7s 4ms/step - loss: 0.9333 - accuracy: 0.6712 - val_loss: 1.0016 - val_accuracy: 0.6554\n",
      "Epoch 70/100\n",
      "1800/1800 [==============================] - 7s 4ms/step - loss: 0.9339 - accuracy: 0.6704 - val_loss: 1.0130 - val_accuracy: 0.6534\n",
      "Epoch 71/100\n",
      "1800/1800 [==============================] - 7s 4ms/step - loss: 0.9340 - accuracy: 0.6703 - val_loss: 1.0005 - val_accuracy: 0.6620\n",
      "Epoch 72/100\n",
      "1800/1800 [==============================] - 7s 4ms/step - loss: 0.9321 - accuracy: 0.6715 - val_loss: 0.9980 - val_accuracy: 0.6578\n",
      "Epoch 73/100\n",
      "1800/1800 [==============================] - 7s 4ms/step - loss: 0.9319 - accuracy: 0.6716 - val_loss: 1.0241 - val_accuracy: 0.6546\n",
      "Epoch 74/100\n",
      "1800/1800 [==============================] - 7s 4ms/step - loss: 0.9313 - accuracy: 0.6713 - val_loss: 1.0121 - val_accuracy: 0.6516\n",
      "Epoch 75/100\n",
      "1800/1800 [==============================] - 7s 4ms/step - loss: 0.9316 - accuracy: 0.6706 - val_loss: 0.9994 - val_accuracy: 0.6592\n",
      "Epoch 76/100\n",
      "1800/1800 [==============================] - 7s 4ms/step - loss: 0.9296 - accuracy: 0.6716 - val_loss: 0.9915 - val_accuracy: 0.6644\n",
      "Epoch 77/100\n",
      "1800/1800 [==============================] - 7s 4ms/step - loss: 0.9300 - accuracy: 0.6713 - val_loss: 1.0059 - val_accuracy: 0.6578\n",
      "Epoch 78/100\n",
      "1800/1800 [==============================] - 7s 4ms/step - loss: 0.9287 - accuracy: 0.6726 - val_loss: 1.0166 - val_accuracy: 0.6500\n",
      "Epoch 79/100\n",
      "1800/1800 [==============================] - 7s 4ms/step - loss: 0.9275 - accuracy: 0.6730 - val_loss: 1.0063 - val_accuracy: 0.6560\n",
      "Epoch 80/100\n",
      "1800/1800 [==============================] - 7s 4ms/step - loss: 0.9280 - accuracy: 0.6734 - val_loss: 1.0073 - val_accuracy: 0.6546\n",
      "Epoch 81/100\n",
      "1800/1800 [==============================] - 7s 4ms/step - loss: 0.9272 - accuracy: 0.6736 - val_loss: 1.0138 - val_accuracy: 0.6584\n",
      "Epoch 82/100\n",
      "1800/1800 [==============================] - 7s 4ms/step - loss: 0.9256 - accuracy: 0.6732 - val_loss: 1.0082 - val_accuracy: 0.6608\n",
      "Epoch 83/100\n",
      "1800/1800 [==============================] - 7s 4ms/step - loss: 0.9267 - accuracy: 0.6729 - val_loss: 1.0124 - val_accuracy: 0.6576\n",
      "Epoch 84/100\n",
      "1800/1800 [==============================] - 7s 4ms/step - loss: 0.9255 - accuracy: 0.6739 - val_loss: 1.0001 - val_accuracy: 0.6598\n",
      "Epoch 85/100\n",
      "1800/1800 [==============================] - 7s 4ms/step - loss: 0.9258 - accuracy: 0.6737 - val_loss: 1.0024 - val_accuracy: 0.6582\n",
      "Epoch 86/100\n",
      "1800/1800 [==============================] - 7s 4ms/step - loss: 0.9237 - accuracy: 0.6737 - val_loss: 1.0116 - val_accuracy: 0.6592\n",
      "Epoch 87/100\n",
      "1800/1800 [==============================] - 7s 4ms/step - loss: 0.9237 - accuracy: 0.6737 - val_loss: 1.0137 - val_accuracy: 0.6528\n",
      "Epoch 88/100\n",
      "1800/1800 [==============================] - 7s 4ms/step - loss: 0.9233 - accuracy: 0.6739 - val_loss: 1.0071 - val_accuracy: 0.6538\n",
      "Epoch 89/100\n",
      "1800/1800 [==============================] - 7s 4ms/step - loss: 0.9238 - accuracy: 0.6743 - val_loss: 1.0172 - val_accuracy: 0.6570\n",
      "Epoch 90/100\n",
      "1800/1800 [==============================] - 7s 4ms/step - loss: 0.9241 - accuracy: 0.6743 - val_loss: 1.0145 - val_accuracy: 0.6578\n",
      "Epoch 91/100\n",
      "1800/1800 [==============================] - 7s 4ms/step - loss: 0.9224 - accuracy: 0.6737 - val_loss: 1.0122 - val_accuracy: 0.6532\n",
      "Epoch 92/100\n",
      "1800/1800 [==============================] - 7s 4ms/step - loss: 0.9203 - accuracy: 0.6751 - val_loss: 1.0084 - val_accuracy: 0.6546\n",
      "Epoch 93/100\n",
      "1800/1800 [==============================] - 7s 4ms/step - loss: 0.9209 - accuracy: 0.6750 - val_loss: 1.0098 - val_accuracy: 0.6580\n",
      "Epoch 94/100\n",
      "1800/1800 [==============================] - 7s 4ms/step - loss: 0.9201 - accuracy: 0.6753 - val_loss: 1.0256 - val_accuracy: 0.6582\n",
      "Epoch 95/100\n",
      "1800/1800 [==============================] - 7s 4ms/step - loss: 0.9213 - accuracy: 0.6745 - val_loss: 1.0279 - val_accuracy: 0.6464\n",
      "Epoch 96/100\n",
      "1800/1800 [==============================] - 7s 4ms/step - loss: 0.9195 - accuracy: 0.6751 - val_loss: 1.0224 - val_accuracy: 0.6514\n",
      "Epoch 97/100\n",
      "1800/1800 [==============================] - 7s 4ms/step - loss: 0.9186 - accuracy: 0.6754 - val_loss: 1.0077 - val_accuracy: 0.6588\n",
      "Epoch 98/100\n",
      "1800/1800 [==============================] - 7s 4ms/step - loss: 0.9202 - accuracy: 0.6751 - val_loss: 1.0229 - val_accuracy: 0.6554\n",
      "Epoch 99/100\n",
      "1800/1800 [==============================] - 7s 4ms/step - loss: 0.9197 - accuracy: 0.6759 - val_loss: 0.9942 - val_accuracy: 0.6596\n",
      "Epoch 100/100\n",
      "1800/1800 [==============================] - 7s 4ms/step - loss: 0.9183 - accuracy: 0.6763 - val_loss: 1.0288 - val_accuracy: 0.6536\n"
     ]
    },
    {
     "data": {
      "text/plain": [
       "<keras.callbacks.History at 0x7f1e305a9110>"
      ]
     },
     "execution_count": 22,
     "metadata": {},
     "output_type": "execute_result"
    }
   ],
   "source": [
    "# Fitting the model\n",
    "model.fit(x=X_train, y=Y_train, batch_size=100, epochs=100, validation_data=(x_val, y_val),callbacks=[hist1])"
   ]
  },
  {
   "cell_type": "code",
   "execution_count": 23,
   "metadata": {
    "id": "Z9rcq1MNw6Ti"
   },
   "outputs": [],
   "source": [
    "val_accuracy1 = hist1.history['val_accuracy']"
   ]
  },
  {
   "cell_type": "code",
   "execution_count": 24,
   "metadata": {
    "colab": {
     "base_uri": "https://localhost:8080/",
     "height": 532
    },
    "id": "rLtDf2EHwi_g",
    "outputId": "1561bd47-2dcd-4c08-9e06-3e56486cfd27"
   },
   "outputs": [
    {
     "data": {
      "text/plain": [
       "<Figure size 864x576 with 0 Axes>"
      ]
     },
     "execution_count": 24,
     "metadata": {},
     "output_type": "execute_result"
    },
    {
     "data": {
      "text/plain": [
       "[<matplotlib.lines.Line2D at 0x7f1e30345950>]"
      ]
     },
     "execution_count": 24,
     "metadata": {},
     "output_type": "execute_result"
    },
    {
     "data": {
      "text/plain": [
       "[<matplotlib.lines.Line2D at 0x7f1e3034f050>]"
      ]
     },
     "execution_count": 24,
     "metadata": {},
     "output_type": "execute_result"
    },
    {
     "data": {
      "text/plain": [
       "Text(0.5, 0, 'Epochs')"
      ]
     },
     "execution_count": 24,
     "metadata": {},
     "output_type": "execute_result"
    },
    {
     "data": {
      "text/plain": [
       "Text(0, 0.5, 'Validation Accuracy')"
      ]
     },
     "execution_count": 24,
     "metadata": {},
     "output_type": "execute_result"
    },
    {
     "data": {
      "text/plain": [
       "<matplotlib.legend.Legend at 0x7f1e30345dd0>"
      ]
     },
     "execution_count": 24,
     "metadata": {},
     "output_type": "execute_result"
    },
    {
     "data": {
      "image/png": "[encoded data removed]",
      "text/plain": [
       "<Figure size 864x576 with 1 Axes>"
      ]
     },
     "metadata": {
      "needs_background": "light"
     },
     "output_type": "display_data"
    }
   ],
   "source": [
    "plt.figure(figsize=(12,8))\n",
    "plt.plot(val_accuracy, label='Baseline')\n",
    "plt.plot(val_accuracy1, label='Augmented')\n",
    "plt.xlabel('Epochs')\n",
    "plt.ylabel('Validation Accuracy')\n",
    "plt.legend()\n"
   ]
  },
  {
   "cell_type": "code",
   "execution_count": null,
   "metadata": {
    "id": "XJOZoDfK2B7D"
   },
   "outputs": [],
   "source": []
  }
 ],
 "metadata": {
  "accelerator": "GPU",
  "colab": {
   "collapsed_sections": [],
   "machine_shape": "hm",
   "provenance": []
  },
  "gpuClass": "premium",
  "kernelspec": {
   "display_name": "Python 3",
   "language": "python",
   "name": "python3"
  },
  "language_info": {
   "codemirror_mode": {
    "name": "ipython",
    "version": 3
   },
   "file_extension": ".py",
   "mimetype": "text/x-python",
   "name": "python",
   "nbconvert_exporter": "python",
   "pygments_lexer": "ipython3",
   "version": "3.8.8"
  }
 },
 "nbformat": 4,
 "nbformat_minor": 1
}
