{
 "cells": [
  {
   "cell_type": "markdown",
   "metadata": {
    "id": "2vmHCDHGOHQp"
   },
   "source": [
    "# ENGR-E 533 Deep Learning Systems - Assignment 3"
   ]
  },
  {
   "cell_type": "markdown",
   "metadata": {
    "id": "3PkHhgI_OjGI"
   },
   "source": [
    "## Name : Akhila Sakiramolla (asakiram@iu.edu)\n",
    "## UID : 2000886005"
   ]
  },
  {
   "cell_type": "markdown",
   "metadata": {
    "id": "StpT7Ru5On2B"
   },
   "source": [
    "## Importing required libraries"
   ]
  },
  {
   "cell_type": "code",
   "execution_count": 70,
   "metadata": {
    "colab": {
     "base_uri": "https://localhost:8080/"
    },
    "id": "2Sr3wljXO2Nb",
    "outputId": "77bdb73b-0981-4d8c-825a-d523b6790f28"
   },
   "outputs": [
    {
     "name": "stdout",
     "output_type": "stream",
     "text": [
      "Looking in indexes: https://pypi.org/simple, https://us-python.pkg.dev/colab-wheels/public/simple/\n",
      "Requirement already satisfied: tensorflow-addons in /usr/local/lib/python3.7/dist-packages (0.18.0)\n",
      "Requirement already satisfied: typeguard>=2.7 in /usr/local/lib/python3.7/dist-packages (from tensorflow-addons) (2.7.1)\n",
      "Requirement already satisfied: packaging in /usr/local/lib/python3.7/dist-packages (from tensorflow-addons) (21.3)\n",
      "Requirement already satisfied: pyparsing!=3.0.5,>=2.0.2 in /usr/local/lib/python3.7/dist-packages (from packaging->tensorflow-addons) (3.0.9)\n"
     ]
    }
   ],
   "source": [
    "import numpy as np\n",
    "import pandas as pd\n",
    "import librosa\n",
    "import matplotlib.pyplot as plt\n",
    "import IPython.display as ipd\n",
    "import cv2\n",
    "import os\n",
    "import tensorflow as tf\n",
    "import keras\n",
    "from tensorflow.keras.datasets import cifar10\n",
    "from tensorflow.keras import initializers\n",
    "from keras.models import Sequential\n",
    "from keras.models import Model\n",
    "from keras.layers import Dense\n",
    "from keras.callbacks import History \n",
    "from keras.layers.core import Dense, Activation\n",
    "from tensorflow.keras.layers import Conv1D\n",
    "from tensorflow.keras.layers import MaxPooling1D\n",
    "from tensorflow.keras.layers import Flatten\n",
    "from tensorflow.keras.layers import Conv2D\n",
    "from tensorflow.keras.layers import MaxPooling2D\n",
    "from tensorflow.keras.layers import Input\n",
    "from tensorflow.keras.layers import LSTM\n",
    "!pip install tensorflow-addons\n",
    "import tensorflow_addons as tfa\n",
    "\n",
    "# To execute a cell line by line\n",
    "from IPython.core.interactiveshell import InteractiveShell\n",
    "InteractiveShell.ast_node_interactivity = \"all\""
   ]
  },
  {
   "cell_type": "markdown",
   "metadata": {
    "id": "eugMLav4ZP92"
   },
   "source": [
    "## Problem 2: Self-Supervised Learning via Pretext Tasks"
   ]
  },
  {
   "cell_type": "code",
   "execution_count": 45,
   "metadata": {
    "colab": {
     "base_uri": "https://localhost:8080/"
    },
    "id": "gHhg6Cpsk9an",
    "outputId": "cac63b02-7927-45dc-efee-24cd037e2adc"
   },
   "outputs": [
    {
     "data": {
      "text/plain": [
       "(50000, 32, 32, 3)"
      ]
     },
     "execution_count": 45,
     "metadata": {},
     "output_type": "execute_result"
    },
    {
     "data": {
      "text/plain": [
       "(50000, 1)"
      ]
     },
     "execution_count": 45,
     "metadata": {},
     "output_type": "execute_result"
    },
    {
     "data": {
      "text/plain": [
       "(10000, 32, 32, 3)"
      ]
     },
     "execution_count": 45,
     "metadata": {},
     "output_type": "execute_result"
    },
    {
     "data": {
      "text/plain": [
       "(10000, 1)"
      ]
     },
     "execution_count": 45,
     "metadata": {},
     "output_type": "execute_result"
    }
   ],
   "source": [
    "# Loading data\n",
    "\n",
    "(x_train1, y_train1), (x_test, y_test) = cifar10.load_data()\n",
    "x_train1.shape\n",
    "y_train1.shape\n",
    "x_test.shape\n",
    "y_test.shape"
   ]
  },
  {
   "cell_type": "code",
   "execution_count": 46,
   "metadata": {
    "colab": {
     "base_uri": "https://localhost:8080/"
    },
    "id": "NQG5Ecco_Tti",
    "outputId": "7e4c4966-69ce-44a5-8733-fe666b55b29f"
   },
   "outputs": [
    {
     "data": {
      "text/plain": [
       "(500, 32, 32, 3)"
      ]
     },
     "execution_count": 46,
     "metadata": {},
     "output_type": "execute_result"
    },
    {
     "data": {
      "text/plain": [
       "(500, 1)"
      ]
     },
     "execution_count": 46,
     "metadata": {},
     "output_type": "execute_result"
    }
   ],
   "source": [
    "# Separating validation set\n",
    "\n",
    "x_train = x_train1[49500:50000]\n",
    "y_train = y_train1[49500:50000]\n",
    "\n",
    "x_train.shape\n",
    "y_train.shape"
   ]
  },
  {
   "cell_type": "code",
   "execution_count": 47,
   "metadata": {
    "colab": {
     "base_uri": "https://localhost:8080/"
    },
    "id": "LXoMj83rAOme",
    "outputId": "f95486cf-4963-4edd-c045-1bc5c5bb2f86"
   },
   "outputs": [
    {
     "data": {
      "text/plain": [
       "((49500, 32, 32, 3), (49500, 1))"
      ]
     },
     "execution_count": 47,
     "metadata": {},
     "output_type": "execute_result"
    }
   ],
   "source": [
    "# Class 0 dataset\n",
    "\n",
    "x_train_class0 = x_train1[0:49500]\n",
    "y_train_class0 = np.full((x_train_class0.shape[0],1), 0)\n",
    "x_train_class0.shape, y_train_class0.shape"
   ]
  },
  {
   "cell_type": "code",
   "execution_count": 48,
   "metadata": {
    "colab": {
     "base_uri": "https://localhost:8080/"
    },
    "id": "cdmxIiluAOQl",
    "outputId": "3d417f84-0f98-42dc-f097-fb019359f257"
   },
   "outputs": [
    {
     "data": {
      "text/plain": [
       "((49500, 32, 32, 3), (49500, 1))"
      ]
     },
     "execution_count": 48,
     "metadata": {},
     "output_type": "execute_result"
    }
   ],
   "source": [
    "# Class 1 dataset\n",
    "\n",
    "x_train_class1 = []\n",
    "for i in x_train_class0:\n",
    "  x_train_class1.append(list(np.flipud(i)))\n",
    "x_train_class1 = np.array(x_train_class1)\n",
    "\n",
    "y_train_class1 = np.full((x_train_class1.shape[0],1), 1)\n",
    "\n",
    "x_train_class1.shape, y_train_class1.shape"
   ]
  },
  {
   "cell_type": "code",
   "execution_count": 49,
   "metadata": {
    "colab": {
     "base_uri": "https://localhost:8080/"
    },
    "id": "PDzsDD6d_3AM",
    "outputId": "49c29a21-a74e-42be-abeb-5a35403ac4f3"
   },
   "outputs": [
    {
     "data": {
      "text/plain": [
       "((49500, 32, 32, 3), (49500, 1))"
      ]
     },
     "execution_count": 49,
     "metadata": {},
     "output_type": "execute_result"
    }
   ],
   "source": [
    "# Class 2 dataset\n",
    "\n",
    "x_train_class2 = []\n",
    "for i in x_train_class0:\n",
    "  x_train_class2.append(list(np.rot90(i)))\n",
    "x_train_class2 = np.array(x_train_class2)\n",
    "\n",
    "y_train_class2 = np.full((x_train_class2.shape[0],1), 2)\n",
    "\n",
    "x_train_class2.shape, y_train_class2.shape"
   ]
  },
  {
   "cell_type": "code",
   "execution_count": 50,
   "metadata": {
    "colab": {
     "base_uri": "https://localhost:8080/",
     "height": 371
    },
    "id": "SugtU1QHBaFP",
    "outputId": "e62b6add-a4a5-4d46-b4db-ff268990ebed"
   },
   "outputs": [
    {
     "data": {
      "text/plain": [
       "<matplotlib.image.AxesImage at 0x7efb7aebc150>"
      ]
     },
     "execution_count": 50,
     "metadata": {},
     "output_type": "execute_result"
    },
    {
     "data": {
      "text/plain": [
       "Text(0.5, 1.0, 'Class 0')"
      ]
     },
     "execution_count": 50,
     "metadata": {},
     "output_type": "execute_result"
    },
    {
     "data": {
      "text/plain": [
       "<matplotlib.image.AxesImage at 0x7efb7aebccd0>"
      ]
     },
     "execution_count": 50,
     "metadata": {},
     "output_type": "execute_result"
    },
    {
     "data": {
      "text/plain": [
       "Text(0.5, 1.0, 'Class 1')"
      ]
     },
     "execution_count": 50,
     "metadata": {},
     "output_type": "execute_result"
    },
    {
     "data": {
      "text/plain": [
       "<matplotlib.image.AxesImage at 0x7efb7a724b90>"
      ]
     },
     "execution_count": 50,
     "metadata": {},
     "output_type": "execute_result"
    },
    {
     "data": {
      "text/plain": [
       "Text(0.5, 1.0, 'Class 2')"
      ]
     },
     "execution_count": 50,
     "metadata": {},
     "output_type": "execute_result"
    },
    {
     "data": {
      "text/plain": [
       "<function matplotlib.pyplot.show(*args, **kw)>"
      ]
     },
     "execution_count": 50,
     "metadata": {},
     "output_type": "execute_result"
    },
    {
     "data": {
      "image/png": "[encoded data removed]",
      "text/plain": [
       "<Figure size 1440x360 with 3 Axes>"
      ]
     },
     "metadata": {
      "needs_background": "light"
     },
     "output_type": "display_data"
    }
   ],
   "source": [
    "# Plotting images \n",
    "\n",
    "fig, (ax1, ax2, ax3) = plt.subplots(1,3)\n",
    "fig.set_figheight(5)\n",
    "fig.set_figwidth(20)\n",
    "\n",
    "ax1.imshow(x_train_class0[1], interpolation='nearest')\n",
    "ax1.set_title(\"Class 0\")\n",
    "ax2.imshow(x_train_class1[1], interpolation='nearest')\n",
    "ax2.set_title(\"Class 1\")\n",
    "ax3.imshow(x_train_class2[1], interpolation='nearest')\n",
    "ax3.set_title(\"Class 2\")\n",
    "plt.show"
   ]
  },
  {
   "cell_type": "code",
   "execution_count": 51,
   "metadata": {
    "colab": {
     "base_uri": "https://localhost:8080/"
    },
    "id": "OTicBjuQBaCa",
    "outputId": "cbaf3025-27d6-4862-94e9-4d7385fd8e31"
   },
   "outputs": [
    {
     "data": {
      "text/plain": [
       "((148500, 32, 32, 3), (148500, 1))"
      ]
     },
     "execution_count": 51,
     "metadata": {},
     "output_type": "execute_result"
    }
   ],
   "source": [
    "# Concating the datasets\n",
    "\n",
    "X_train = np.vstack((x_train_class0,x_train_class1,x_train_class2))\n",
    "Y_train = np.vstack((y_train_class0,y_train_class1,y_train_class2))\n",
    "X_train.shape, Y_train.shape"
   ]
  },
  {
   "cell_type": "code",
   "execution_count": 52,
   "metadata": {
    "colab": {
     "base_uri": "https://localhost:8080/"
    },
    "id": "Xo59tslZBZ_T",
    "outputId": "039cf93a-3882-4805-d460-e86ad216db9d"
   },
   "outputs": [
    {
     "data": {
      "text/plain": [
       "(-1.0, 1.0)"
      ]
     },
     "execution_count": 52,
     "metadata": {},
     "output_type": "execute_result"
    }
   ],
   "source": [
    "# Scaling pixel values between -1 and 1 and coverting labels to categorical\n",
    "\n",
    "X_train = (2*(X_train/255))-1\n",
    "Y_train = tf.keras.utils.to_categorical(Y_train, num_classes=3)\n",
    "X_train.min(), X_train.max()"
   ]
  },
  {
   "cell_type": "code",
   "execution_count": 53,
   "metadata": {
    "id": "KClQUqLgBmXf"
   },
   "outputs": [],
   "source": [
    "# Building the model\n",
    "\n",
    "model = Sequential()\n",
    "model.add(Input(shape = (32,32,3)))\n",
    "model.add(Conv2D(10, kernel_size=(5,5), activation='relu', kernel_initializer = tf.keras.initializers.HeNormal(), strides = 1))\n",
    "model.add(MaxPooling2D(pool_size=(2, 2), strides=2))\n",
    "model.add(Conv2D(10, kernel_size=(5,5),activation='relu', kernel_initializer = tf.keras.initializers.HeNormal(), strides = 1))\n",
    "model.add(MaxPooling2D(pool_size=(2, 2), strides=2))\n",
    "model.add(Flatten(name = \"flatten\"))\n",
    "model.add(Dense(20, activation='relu', kernel_initializer = tf.keras.initializers.HeNormal()))\n",
    "model.add(Dense(3, activation='softmax', kernel_initializer = tf.keras.initializers.HeNormal()))\n"
   ]
  },
  {
   "cell_type": "code",
   "execution_count": 54,
   "metadata": {
    "id": "CEuMIbvpE65O"
   },
   "outputs": [],
   "source": [
    "# Calculating loss and optimizing it\n",
    "\n",
    "model.compile(optimizer=tf.keras.optimizers.Adam(learning_rate=0.001),loss='categorical_crossentropy', metrics=['accuracy'])"
   ]
  },
  {
   "cell_type": "code",
   "execution_count": 55,
   "metadata": {
    "colab": {
     "base_uri": "https://localhost:8080/"
    },
    "id": "UaS1OachBmUg",
    "outputId": "8ab81f60-b095-4e5f-9b34-1dc850ecaf33"
   },
   "outputs": [
    {
     "name": "stdout",
     "output_type": "stream",
     "text": [
      "Epoch 1/100\n",
      "291/291 [==============================] - 3s 8ms/step - loss: 0.8918 - accuracy: 0.5641\n",
      "Epoch 2/100\n",
      "291/291 [==============================] - 3s 9ms/step - loss: 0.7918 - accuracy: 0.6411\n",
      "Epoch 3/100\n",
      "291/291 [==============================] - 2s 7ms/step - loss: 0.7607 - accuracy: 0.6595\n",
      "Epoch 4/100\n",
      "291/291 [==============================] - 2s 8ms/step - loss: 0.7384 - accuracy: 0.6720\n",
      "Epoch 5/100\n",
      "291/291 [==============================] - 2s 7ms/step - loss: 0.7192 - accuracy: 0.6815\n",
      "Epoch 6/100\n",
      "291/291 [==============================] - 2s 7ms/step - loss: 0.7062 - accuracy: 0.6879\n",
      "Epoch 7/100\n",
      "291/291 [==============================] - 2s 7ms/step - loss: 0.6914 - accuracy: 0.6959\n",
      "Epoch 8/100\n",
      "291/291 [==============================] - 2s 7ms/step - loss: 0.6812 - accuracy: 0.7010\n",
      "Epoch 9/100\n",
      "291/291 [==============================] - 2s 7ms/step - loss: 0.6694 - accuracy: 0.7063\n",
      "Epoch 10/100\n",
      "291/291 [==============================] - 2s 7ms/step - loss: 0.6620 - accuracy: 0.7104\n",
      "Epoch 11/100\n",
      "291/291 [==============================] - 2s 7ms/step - loss: 0.6546 - accuracy: 0.7145\n",
      "Epoch 12/100\n",
      "291/291 [==============================] - 2s 8ms/step - loss: 0.6475 - accuracy: 0.7186\n",
      "Epoch 13/100\n",
      "291/291 [==============================] - 2s 8ms/step - loss: 0.6428 - accuracy: 0.7203\n",
      "Epoch 14/100\n",
      "291/291 [==============================] - 3s 9ms/step - loss: 0.6371 - accuracy: 0.7231\n",
      "Epoch 15/100\n",
      "291/291 [==============================] - 2s 8ms/step - loss: 0.6327 - accuracy: 0.7248\n",
      "Epoch 16/100\n",
      "291/291 [==============================] - 3s 9ms/step - loss: 0.6289 - accuracy: 0.7272\n",
      "Epoch 17/100\n",
      "291/291 [==============================] - 3s 9ms/step - loss: 0.6243 - accuracy: 0.7302\n",
      "Epoch 18/100\n",
      "291/291 [==============================] - 2s 9ms/step - loss: 0.6214 - accuracy: 0.7325\n",
      "Epoch 19/100\n",
      "291/291 [==============================] - 2s 8ms/step - loss: 0.6165 - accuracy: 0.7354\n",
      "Epoch 20/100\n",
      "291/291 [==============================] - 2s 7ms/step - loss: 0.6140 - accuracy: 0.7357\n",
      "Epoch 21/100\n",
      "291/291 [==============================] - 2s 8ms/step - loss: 0.6097 - accuracy: 0.7377\n",
      "Epoch 22/100\n",
      "291/291 [==============================] - 2s 8ms/step - loss: 0.6082 - accuracy: 0.7387\n",
      "Epoch 23/100\n",
      "291/291 [==============================] - 2s 7ms/step - loss: 0.6048 - accuracy: 0.7398\n",
      "Epoch 24/100\n",
      "291/291 [==============================] - 3s 9ms/step - loss: 0.6028 - accuracy: 0.7406\n",
      "Epoch 25/100\n",
      "291/291 [==============================] - 2s 8ms/step - loss: 0.6004 - accuracy: 0.7426\n",
      "Epoch 26/100\n",
      "291/291 [==============================] - 2s 8ms/step - loss: 0.5995 - accuracy: 0.7433\n",
      "Epoch 27/100\n",
      "291/291 [==============================] - 2s 8ms/step - loss: 0.5964 - accuracy: 0.7453\n",
      "Epoch 28/100\n",
      "291/291 [==============================] - 3s 9ms/step - loss: 0.5943 - accuracy: 0.7465\n",
      "Epoch 29/100\n",
      "291/291 [==============================] - 2s 8ms/step - loss: 0.5925 - accuracy: 0.7466\n",
      "Epoch 30/100\n",
      "291/291 [==============================] - 2s 8ms/step - loss: 0.5899 - accuracy: 0.7478\n",
      "Epoch 31/100\n",
      "291/291 [==============================] - 2s 7ms/step - loss: 0.5885 - accuracy: 0.7481\n",
      "Epoch 32/100\n",
      "291/291 [==============================] - 2s 7ms/step - loss: 0.5863 - accuracy: 0.7495\n",
      "Epoch 33/100\n",
      "291/291 [==============================] - 2s 8ms/step - loss: 0.5844 - accuracy: 0.7508\n",
      "Epoch 34/100\n",
      "291/291 [==============================] - 2s 8ms/step - loss: 0.5841 - accuracy: 0.7512\n",
      "Epoch 35/100\n",
      "291/291 [==============================] - 2s 8ms/step - loss: 0.5814 - accuracy: 0.7520\n",
      "Epoch 36/100\n",
      "291/291 [==============================] - 2s 8ms/step - loss: 0.5826 - accuracy: 0.7513\n",
      "Epoch 37/100\n",
      "291/291 [==============================] - 2s 8ms/step - loss: 0.5788 - accuracy: 0.7539\n",
      "Epoch 38/100\n",
      "291/291 [==============================] - 2s 8ms/step - loss: 0.5779 - accuracy: 0.7536\n",
      "Epoch 39/100\n",
      "291/291 [==============================] - 2s 7ms/step - loss: 0.5767 - accuracy: 0.7537\n",
      "Epoch 40/100\n",
      "291/291 [==============================] - 2s 7ms/step - loss: 0.5744 - accuracy: 0.7554\n",
      "Epoch 41/100\n",
      "291/291 [==============================] - 2s 8ms/step - loss: 0.5751 - accuracy: 0.7559\n",
      "Epoch 42/100\n",
      "291/291 [==============================] - 2s 8ms/step - loss: 0.5737 - accuracy: 0.7556\n",
      "Epoch 43/100\n",
      "291/291 [==============================] - 2s 7ms/step - loss: 0.5719 - accuracy: 0.7565\n",
      "Epoch 44/100\n",
      "291/291 [==============================] - 2s 7ms/step - loss: 0.5708 - accuracy: 0.7572\n",
      "Epoch 45/100\n",
      "291/291 [==============================] - 2s 7ms/step - loss: 0.5729 - accuracy: 0.7561\n",
      "Epoch 46/100\n",
      "291/291 [==============================] - 2s 8ms/step - loss: 0.5682 - accuracy: 0.7584\n",
      "Epoch 47/100\n",
      "291/291 [==============================] - 2s 7ms/step - loss: 0.5689 - accuracy: 0.7591\n",
      "Epoch 48/100\n",
      "291/291 [==============================] - 2s 8ms/step - loss: 0.5674 - accuracy: 0.7592\n",
      "Epoch 49/100\n",
      "291/291 [==============================] - 2s 8ms/step - loss: 0.5700 - accuracy: 0.7579\n",
      "Epoch 50/100\n",
      "291/291 [==============================] - 2s 8ms/step - loss: 0.5679 - accuracy: 0.7594\n",
      "Epoch 51/100\n",
      "291/291 [==============================] - 2s 8ms/step - loss: 0.5646 - accuracy: 0.7603\n",
      "Epoch 52/100\n",
      "291/291 [==============================] - 2s 8ms/step - loss: 0.5640 - accuracy: 0.7601\n",
      "Epoch 53/100\n",
      "291/291 [==============================] - 2s 8ms/step - loss: 0.5624 - accuracy: 0.7609\n",
      "Epoch 54/100\n",
      "291/291 [==============================] - 2s 8ms/step - loss: 0.5649 - accuracy: 0.7612\n",
      "Epoch 55/100\n",
      "291/291 [==============================] - 2s 7ms/step - loss: 0.5615 - accuracy: 0.7619\n",
      "Epoch 56/100\n",
      "291/291 [==============================] - 2s 7ms/step - loss: 0.5612 - accuracy: 0.7617\n",
      "Epoch 57/100\n",
      "291/291 [==============================] - 2s 7ms/step - loss: 0.5593 - accuracy: 0.7630\n",
      "Epoch 58/100\n",
      "291/291 [==============================] - 2s 8ms/step - loss: 0.5607 - accuracy: 0.7628\n",
      "Epoch 59/100\n",
      "291/291 [==============================] - 2s 8ms/step - loss: 0.5578 - accuracy: 0.7631\n",
      "Epoch 60/100\n",
      "291/291 [==============================] - 2s 7ms/step - loss: 0.5605 - accuracy: 0.7626\n",
      "Epoch 61/100\n",
      "291/291 [==============================] - 2s 8ms/step - loss: 0.5564 - accuracy: 0.7648\n",
      "Epoch 62/100\n",
      "291/291 [==============================] - 2s 8ms/step - loss: 0.5573 - accuracy: 0.7639\n",
      "Epoch 63/100\n",
      "291/291 [==============================] - 2s 8ms/step - loss: 0.5572 - accuracy: 0.7646\n",
      "Epoch 64/100\n",
      "291/291 [==============================] - 2s 8ms/step - loss: 0.5560 - accuracy: 0.7641\n",
      "Epoch 65/100\n",
      "291/291 [==============================] - 2s 7ms/step - loss: 0.5548 - accuracy: 0.7652\n",
      "Epoch 66/100\n",
      "291/291 [==============================] - 2s 8ms/step - loss: 0.5575 - accuracy: 0.7643\n",
      "Epoch 67/100\n",
      "291/291 [==============================] - 2s 8ms/step - loss: 0.5552 - accuracy: 0.7649\n",
      "Epoch 68/100\n",
      "291/291 [==============================] - 2s 8ms/step - loss: 0.5542 - accuracy: 0.7665\n",
      "Epoch 69/100\n",
      "291/291 [==============================] - 2s 8ms/step - loss: 0.5535 - accuracy: 0.7661\n",
      "Epoch 70/100\n",
      "291/291 [==============================] - 2s 8ms/step - loss: 0.5532 - accuracy: 0.7669\n",
      "Epoch 71/100\n",
      "291/291 [==============================] - 2s 7ms/step - loss: 0.5528 - accuracy: 0.7659\n",
      "Epoch 72/100\n",
      "291/291 [==============================] - 2s 7ms/step - loss: 0.5515 - accuracy: 0.7656\n",
      "Epoch 73/100\n",
      "291/291 [==============================] - 2s 7ms/step - loss: 0.5505 - accuracy: 0.7678\n",
      "Epoch 74/100\n",
      "291/291 [==============================] - 2s 7ms/step - loss: 0.5510 - accuracy: 0.7672\n",
      "Epoch 75/100\n",
      "291/291 [==============================] - 3s 9ms/step - loss: 0.5491 - accuracy: 0.7682\n",
      "Epoch 76/100\n",
      "291/291 [==============================] - 2s 8ms/step - loss: 0.5482 - accuracy: 0.7694\n",
      "Epoch 77/100\n",
      "291/291 [==============================] - 2s 7ms/step - loss: 0.5485 - accuracy: 0.7683\n",
      "Epoch 78/100\n",
      "291/291 [==============================] - 2s 7ms/step - loss: 0.5483 - accuracy: 0.7683\n",
      "Epoch 79/100\n",
      "291/291 [==============================] - 2s 8ms/step - loss: 0.5475 - accuracy: 0.7693\n",
      "Epoch 80/100\n",
      "291/291 [==============================] - 2s 8ms/step - loss: 0.5500 - accuracy: 0.7676\n",
      "Epoch 81/100\n",
      "291/291 [==============================] - 2s 8ms/step - loss: 0.5464 - accuracy: 0.7695\n",
      "Epoch 82/100\n",
      "291/291 [==============================] - 2s 7ms/step - loss: 0.5476 - accuracy: 0.7684\n",
      "Epoch 83/100\n",
      "291/291 [==============================] - 2s 7ms/step - loss: 0.5485 - accuracy: 0.7691\n",
      "Epoch 84/100\n",
      "291/291 [==============================] - 3s 9ms/step - loss: 0.5456 - accuracy: 0.7697\n",
      "Epoch 85/100\n",
      "291/291 [==============================] - 2s 8ms/step - loss: 0.5456 - accuracy: 0.7697\n",
      "Epoch 86/100\n",
      "291/291 [==============================] - 2s 8ms/step - loss: 0.5467 - accuracy: 0.7695\n",
      "Epoch 87/100\n",
      "291/291 [==============================] - 2s 7ms/step - loss: 0.5445 - accuracy: 0.7698\n",
      "Epoch 88/100\n",
      "291/291 [==============================] - 2s 7ms/step - loss: 0.5439 - accuracy: 0.7705\n",
      "Epoch 89/100\n",
      "291/291 [==============================] - 2s 8ms/step - loss: 0.5471 - accuracy: 0.7695\n",
      "Epoch 90/100\n",
      "291/291 [==============================] - 2s 8ms/step - loss: 0.5428 - accuracy: 0.7718\n",
      "Epoch 91/100\n",
      "291/291 [==============================] - 2s 8ms/step - loss: 0.5453 - accuracy: 0.7694\n",
      "Epoch 92/100\n",
      "291/291 [==============================] - 2s 7ms/step - loss: 0.5439 - accuracy: 0.7706\n",
      "Epoch 93/100\n",
      "291/291 [==============================] - 2s 7ms/step - loss: 0.5439 - accuracy: 0.7707\n",
      "Epoch 94/100\n",
      "291/291 [==============================] - 2s 7ms/step - loss: 0.5441 - accuracy: 0.7715\n",
      "Epoch 95/100\n",
      "291/291 [==============================] - 2s 7ms/step - loss: 0.5408 - accuracy: 0.7732\n",
      "Epoch 96/100\n",
      "291/291 [==============================] - 2s 8ms/step - loss: 0.5411 - accuracy: 0.7715\n",
      "Epoch 97/100\n",
      "291/291 [==============================] - 2s 8ms/step - loss: 0.5433 - accuracy: 0.7703\n",
      "Epoch 98/100\n",
      "291/291 [==============================] - 2s 8ms/step - loss: 0.5422 - accuracy: 0.7721\n",
      "Epoch 99/100\n",
      "291/291 [==============================] - 3s 9ms/step - loss: 0.5398 - accuracy: 0.7729\n",
      "Epoch 100/100\n",
      "291/291 [==============================] - 2s 7ms/step - loss: 0.5397 - accuracy: 0.7731\n"
     ]
    },
    {
     "data": {
      "text/plain": [
       "<keras.callbacks.History at 0x7efd54046490>"
      ]
     },
     "execution_count": 55,
     "metadata": {},
     "output_type": "execute_result"
    }
   ],
   "source": [
    "# Fitting the model\n",
    "\n",
    "hist1 = History()\n",
    "model.fit(X_train, Y_train, batch_size=512, epochs=100,callbacks=[hist1])"
   ]
  },
  {
   "cell_type": "code",
   "execution_count": 56,
   "metadata": {
    "colab": {
     "base_uri": "https://localhost:8080/",
     "height": 298
    },
    "id": "N4z4_p1sBmRi",
    "outputId": "d956638a-0461-4b82-a32c-101ba8495a5c"
   },
   "outputs": [
    {
     "data": {
      "text/plain": [
       "[<matplotlib.lines.Line2D at 0x7efd5a00c550>]"
      ]
     },
     "execution_count": 56,
     "metadata": {},
     "output_type": "execute_result"
    },
    {
     "data": {
      "text/plain": [
       "Text(0.5, 1.0, 'Training Accuracy')"
      ]
     },
     "execution_count": 56,
     "metadata": {},
     "output_type": "execute_result"
    },
    {
     "data": {
      "image/png": "[encoded data removed]",
      "text/plain": [
       "<Figure size 432x288 with 1 Axes>"
      ]
     },
     "metadata": {
      "needs_background": "light"
     },
     "output_type": "display_data"
    }
   ],
   "source": [
    "# Plotting the accuracy\n",
    "\n",
    "hist1 = hist1.history\n",
    "accuracy = hist1['accuracy']\n",
    "plt.plot(accuracy)\n",
    "plt.title('Training Accuracy')"
   ]
  },
  {
   "cell_type": "code",
   "execution_count": 57,
   "metadata": {
    "id": "oCrPqOukCVsL"
   },
   "outputs": [],
   "source": [
    "# Saving the weights from the model\n",
    "\n",
    "model.save_weights('model_weights',save_format='h5')"
   ]
  },
  {
   "cell_type": "code",
   "execution_count": 58,
   "metadata": {
    "colab": {
     "base_uri": "https://localhost:8080/"
    },
    "id": "QapVIflpCdt0",
    "outputId": "c04d709d-76f5-4a98-d159-3bf015104353"
   },
   "outputs": [
    {
     "data": {
      "text/plain": [
       "((500, 32, 32, 3), (500, 1))"
      ]
     },
     "execution_count": 58,
     "metadata": {},
     "output_type": "execute_result"
    },
    {
     "data": {
      "text/plain": [
       "((10000, 32, 32, 3), (10000, 1))"
      ]
     },
     "execution_count": 58,
     "metadata": {},
     "output_type": "execute_result"
    }
   ],
   "source": [
    "x_train.shape, y_train.shape\n",
    "x_test.shape, y_test.shape"
   ]
  },
  {
   "cell_type": "code",
   "execution_count": 59,
   "metadata": {
    "colab": {
     "base_uri": "https://localhost:8080/"
    },
    "id": "3H4fgfujCdt2",
    "outputId": "fe2fd3f7-53b0-49ce-a193-c0a3186103d5"
   },
   "outputs": [
    {
     "data": {
      "text/plain": [
       "(-1.0, 1.0)"
      ]
     },
     "execution_count": 59,
     "metadata": {},
     "output_type": "execute_result"
    }
   ],
   "source": [
    "# Scaling pixel values between -1 and 1 and coverting labels to categorical\n",
    "\n",
    "x_train = (2*(x_train/255))-1\n",
    "x_test = (2*(x_test/255))-1\n",
    "x_train.min(), x_train.max()\n",
    "\n",
    "y_train = tf.keras.utils.to_categorical(y_train, num_classes=10)\n",
    "y_test = tf.keras.utils.to_categorical(y_test, num_classes=10)"
   ]
  },
  {
   "cell_type": "code",
   "execution_count": 76,
   "metadata": {
    "id": "MfouAW-DCVmG"
   },
   "outputs": [],
   "source": [
    "# Building the model\n",
    "\n",
    "model = Sequential()\n",
    "model.add(Input(shape = (32,32,3)))\n",
    "model.add(Conv2D(10, kernel_size=(5,5), activation='relu', kernel_initializer = tf.keras.initializers.HeNormal(), strides = 1))\n",
    "model.add(MaxPooling2D(pool_size=(2, 2), strides=2))\n",
    "model.add(Conv2D(10, kernel_size=(5,5),activation='relu', kernel_initializer = tf.keras.initializers.HeNormal(), strides = 1))\n",
    "model.add(MaxPooling2D(pool_size=(2, 2), strides=2))\n",
    "model.add(Flatten(name = \"flatten\"))\n",
    "model.add(Dense(20, activation='relu', kernel_initializer = tf.keras.initializers.HeNormal()))\n",
    "model.add(Dense(10, activation='softmax', kernel_initializer = tf.keras.initializers.HeNormal()))\n"
   ]
  },
  {
   "cell_type": "code",
   "execution_count": 77,
   "metadata": {
    "id": "_E3ebuwiFvCV"
   },
   "outputs": [],
   "source": [
    "# Calculating loss and optimizing it\n",
    "\n",
    "model.compile(optimizer=tf.keras.optimizers.Adam(learning_rate=0.001),loss='categorical_crossentropy', metrics=['accuracy'])"
   ]
  },
  {
   "cell_type": "code",
   "execution_count": 78,
   "metadata": {
    "colab": {
     "base_uri": "https://localhost:8080/"
    },
    "id": "UbzO3LInFxqI",
    "outputId": "d40e2d2d-1786-4132-da8b-6bed57a72b31"
   },
   "outputs": [
    {
     "data": {
      "text/plain": [
       "<keras.callbacks.History at 0x7efd5c4ff350>"
      ]
     },
     "execution_count": 78,
     "metadata": {},
     "output_type": "execute_result"
    }
   ],
   "source": [
    "# Fitting the model\n",
    "\n",
    "hist2 = History()\n",
    "model.fit(x_train, y_train, batch_size=500, epochs=10000, validation_data=(x_test, y_test),callbacks=[hist2], validation_freq = 100,verbose = 0)"
   ]
  },
  {
   "cell_type": "code",
   "execution_count": 79,
   "metadata": {
    "colab": {
     "base_uri": "https://localhost:8080/",
     "height": 314
    },
    "id": "AJkAMcdKCkMn",
    "outputId": "4de303ed-42da-4271-d007-c4bde95369d4"
   },
   "outputs": [
    {
     "data": {
      "text/plain": [
       "[<matplotlib.lines.Line2D at 0x7efd5b96f350>]"
      ]
     },
     "execution_count": 79,
     "metadata": {},
     "output_type": "execute_result"
    },
    {
     "data": {
      "text/plain": [
       "[<matplotlib.lines.Line2D at 0x7efd5b96f950>]"
      ]
     },
     "execution_count": 79,
     "metadata": {},
     "output_type": "execute_result"
    },
    {
     "data": {
      "text/plain": [
       "Text(0.5, 0, 'Epochs')"
      ]
     },
     "execution_count": 79,
     "metadata": {},
     "output_type": "execute_result"
    },
    {
     "data": {
      "text/plain": [
       "Text(0, 0.5, 'Accuracy')"
      ]
     },
     "execution_count": 79,
     "metadata": {},
     "output_type": "execute_result"
    },
    {
     "data": {
      "text/plain": [
       "<matplotlib.legend.Legend at 0x7efd5b96fdd0>"
      ]
     },
     "execution_count": 79,
     "metadata": {},
     "output_type": "execute_result"
    },
    {
     "data": {
      "image/png": "[encoded data removed]",
      "text/plain": [
       "<Figure size 432x288 with 1 Axes>"
      ]
     },
     "metadata": {
      "needs_background": "light"
     },
     "output_type": "display_data"
    }
   ],
   "source": [
    "# Plotting the accuarcy for baseline model\n",
    "\n",
    "hist2 = hist2.history\n",
    "train_accuracy = hist2['accuracy'][::100]\n",
    "val_accuracy = hist2['val_accuracy']\n",
    "base_accuracy = pd.DataFrame(list(zip(train_accuracy, val_accuracy)),columns =['train_accuracy', 'val_accuracy'])\n",
    "\n",
    "plt.plot(train_accuracy, label = \"Train Accuracy\")\n",
    "plt.plot(val_accuracy, label = \"Validation Accuracy\")\n",
    "plt.xlabel('Epochs')\n",
    "plt.ylabel('Accuracy')\n",
    "plt.legend()"
   ]
  },
  {
   "cell_type": "code",
   "execution_count": 80,
   "metadata": {
    "id": "KByeC-N-CkSO"
   },
   "outputs": [],
   "source": [
    "# Building the model\n",
    "\n",
    "model = Sequential()\n",
    "model.add(Input(shape = (32,32,3)))\n",
    "model.add(Conv2D(10, kernel_size=(5,5), activation='relu', kernel_initializer = tf.keras.initializers.HeNormal(), strides = 1))\n",
    "model.add(MaxPooling2D(pool_size=(2, 2), strides=2))\n",
    "model.add(Conv2D(10, kernel_size=(5,5),activation='relu', kernel_initializer = tf.keras.initializers.HeNormal(), strides = 1))\n",
    "model.add(MaxPooling2D(pool_size=(2, 2), strides=2))\n",
    "model.add(Flatten(name = \"flatten\"))\n",
    "model.add(Dense(20, activation='relu', kernel_initializer = tf.keras.initializers.HeNormal()))\n",
    "model.add(Dense(10, activation='softmax', kernel_initializer = tf.keras.initializers.HeNormal()))\n"
   ]
  },
  {
   "cell_type": "code",
   "execution_count": 81,
   "metadata": {
    "id": "VRdM0ER_Gj8u"
   },
   "outputs": [],
   "source": [
    "# Calculating loss and optimizing it by using transfer learning\n",
    "\n",
    "opt = [tf.keras.optimizers.Adam(learning_rate=1e-7), tf.keras.optimizers.Adam(learning_rate=1e-3)]\n",
    "opt_and_layers = [(opt[0], model.layers[0]),(opt[0], model.layers[2]),(opt[0], model.layers[5]), (opt[1], model.layers[6])]\n",
    "optimizer = tfa.optimizers.MultiOptimizer(opt_and_layers)\n",
    "model.compile(optimizer=optimizer, loss='categorical_crossentropy', metrics=['accuracy'])\n",
    "model.load_weights('pretext_weights',by_name=True)"
   ]
  },
  {
   "cell_type": "code",
   "execution_count": 85,
   "metadata": {
    "colab": {
     "base_uri": "https://localhost:8080/"
    },
    "id": "AC6jYwGuG2b-",
    "outputId": "d8609385-44c0-48bf-aea7-00d8db38c795"
   },
   "outputs": [
    {
     "data": {
      "text/plain": [
       "<keras.callbacks.History at 0x7efd5b76ae90>"
      ]
     },
     "execution_count": 85,
     "metadata": {},
     "output_type": "execute_result"
    }
   ],
   "source": [
    "# Fitting the model\n",
    "\n",
    "history = History()\n",
    "model.fit(x_train, y_train, validation_data=(x_test,y_test), epochs=10000, callbacks=[history], batch_size=512, validation_freq=100, verbose = 0)"
   ]
  },
  {
   "cell_type": "code",
   "execution_count": 44,
   "metadata": {
    "colab": {
     "base_uri": "https://localhost:8080/",
     "height": 548
    },
    "id": "rTAh9swjC8gE",
    "outputId": "455e05c0-74d7-4c81-d720-a891c69319c8"
   },
   "outputs": [
    {
     "data": {
      "text/plain": [
       "<Figure size 720x576 with 0 Axes>"
      ]
     },
     "execution_count": 44,
     "metadata": {},
     "output_type": "execute_result"
    },
    {
     "data": {
      "text/plain": [
       "[<matplotlib.lines.Line2D at 0x7efd5dcec350>]"
      ]
     },
     "execution_count": 44,
     "metadata": {},
     "output_type": "execute_result"
    },
    {
     "data": {
      "text/plain": [
       "[<matplotlib.lines.Line2D at 0x7efd5d462a90>]"
      ]
     },
     "execution_count": 44,
     "metadata": {},
     "output_type": "execute_result"
    },
    {
     "data": {
      "text/plain": [
       "Text(0.5, 0, 'Epochs')"
      ]
     },
     "execution_count": 44,
     "metadata": {},
     "output_type": "execute_result"
    },
    {
     "data": {
      "text/plain": [
       "Text(0, 0.5, 'Validation Acc. (%)')"
      ]
     },
     "execution_count": 44,
     "metadata": {},
     "output_type": "execute_result"
    },
    {
     "data": {
      "text/plain": [
       "Text(0.5, 1.0, 'Model Performance')"
      ]
     },
     "execution_count": 44,
     "metadata": {},
     "output_type": "execute_result"
    },
    {
     "data": {
      "text/plain": [
       "<matplotlib.legend.Legend at 0x7efd5d465610>"
      ]
     },
     "execution_count": 44,
     "metadata": {},
     "output_type": "execute_result"
    },
    {
     "data": {
      "image/png": "[encoded data removed]",
      "text/plain": [
       "<Figure size 720x576 with 1 Axes>"
      ]
     },
     "metadata": {
      "needs_background": "light"
     },
     "output_type": "display_data"
    }
   ],
   "source": [
    "# Plotting the accurayc for baseline and transfer learning models\n",
    "\n",
    "hist = history.history\n",
    "train_accuracy = history['accuracy'][::100]\n",
    "val_accuracy = history['val_accuracy']\n",
    "transfer_accuracy = pd.DataFrame(list(zip(train_accuracy, val_accuracy)), columns =['train_accuracy', 'val_accuracy'])\n",
    "\n",
    "plt.plot(base_accuracy['val_accuracy'], label = 'Baseline model')\n",
    "plt.plot(transfer_accuracy['val_accuracy'], label = \"Transfer Learning model\")\n",
    "plt.xlabel('Epochs')\n",
    "plt.ylabel('Validation Acc. (%)')\n",
    "plt.title('Model Performance')\n",
    "plt.legend()\n",
    "plt.grid()"
   ]
  },
  {
   "cell_type": "code",
   "execution_count": null,
   "metadata": {
    "id": "2QP_UoWGC8jH"
   },
   "outputs": [],
   "source": []
  },
  {
   "cell_type": "code",
   "execution_count": null,
   "metadata": {
    "id": "7J8O7mVRC8l9"
   },
   "outputs": [],
   "source": []
  }
 ],
 "metadata": {
  "accelerator": "GPU",
  "colab": {
   "collapsed_sections": [],
   "machine_shape": "hm",
   "provenance": []
  },
  "gpuClass": "standard",
  "kernelspec": {
   "display_name": "Python 3",
   "language": "python",
   "name": "python3"
  },
  "language_info": {
   "codemirror_mode": {
    "name": "ipython",
    "version": 3
   },
   "file_extension": ".py",
   "mimetype": "text/x-python",
   "name": "python",
   "nbconvert_exporter": "python",
   "pygments_lexer": "ipython3",
   "version": "3.8.8"
  }
 },
 "nbformat": 4,
 "nbformat_minor": 1
}
