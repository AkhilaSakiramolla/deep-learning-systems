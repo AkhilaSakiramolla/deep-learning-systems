{
 "cells": [
  {
   "cell_type": "markdown",
   "metadata": {
    "id": "2vmHCDHGOHQp"
   },
   "source": [
    "# ENGR-E 533 Deep Learning Systems - Assignment 4"
   ]
  },
  {
   "cell_type": "markdown",
   "metadata": {
    "id": "3PkHhgI_OjGI"
   },
   "source": [
    "## Name : Akhila Sakiramolla (asakiram@iu.edu)\n",
    "## UID : 2000886005"
   ]
  },
  {
   "cell_type": "markdown",
   "metadata": {
    "id": "StpT7Ru5On2B"
   },
   "source": [
    "## Importing required libraries"
   ]
  },
  {
   "cell_type": "code",
   "execution_count": 1,
   "metadata": {
    "id": "tPXx6g9pYmta"
   },
   "outputs": [],
   "source": [
    "import numpy as np\n",
    "import pandas as pd\n",
    "import matplotlib.pyplot as plt\n",
    "import seaborn as sns\n",
    "import pickle\n",
    "import librosa\n",
    "import keras\n",
    "import tensorflow as tf\n",
    "from keras.models import Sequential\n",
    "from keras.models import Model\n",
    "from keras.layers import Dense\n",
    "from keras.layers.core import Dense, Activation\n",
    "from keras.callbacks import History \n",
    "from tensorflow.keras.layers import Input\n",
    "from tensorflow.keras.layers import Dropout,LSTM, GRU\n",
    "from tensorflow.keras.optimizers import Adam\n",
    "\n",
    "# To execute a cell line by line\n",
    "from IPython.core.interactiveshell import InteractiveShell\n",
    "InteractiveShell.ast_node_interactivity = \"all\""
   ]
  },
  {
   "cell_type": "markdown",
   "metadata": {
    "id": "l4MyXpVLkY3Z"
   },
   "source": [
    "## Problem 1: Network Compression Using SVD"
   ]
  },
  {
   "cell_type": "code",
   "execution_count": 2,
   "metadata": {
    "colab": {
     "base_uri": "https://localhost:8080/"
    },
    "id": "iIqq4ok3kbxC",
    "outputId": "693ef45b-27d0-4cd4-9a66-ae79571d094c"
   },
   "outputs": [
    {
     "data": {
      "text/plain": [
       "(60000, 28, 28)"
      ]
     },
     "execution_count": 2,
     "metadata": {},
     "output_type": "execute_result"
    },
    {
     "data": {
      "text/plain": [
       "(60000,)"
      ]
     },
     "execution_count": 2,
     "metadata": {},
     "output_type": "execute_result"
    },
    {
     "data": {
      "text/plain": [
       "(10000, 28, 28)"
      ]
     },
     "execution_count": 2,
     "metadata": {},
     "output_type": "execute_result"
    },
    {
     "data": {
      "text/plain": [
       "(10000,)"
      ]
     },
     "execution_count": 2,
     "metadata": {},
     "output_type": "execute_result"
    }
   ],
   "source": [
    "# Loading the data\n",
    "\n",
    "mnist = tf.keras.datasets.mnist\n",
    "(x_train, y_train), (x_test, y_test) = mnist.load_data()\n",
    "x_train.shape\n",
    "y_train.shape\n",
    "x_test.shape\n",
    "y_test.shape"
   ]
  },
  {
   "cell_type": "code",
   "execution_count": 3,
   "metadata": {
    "id": "MCMLByCfBhZi"
   },
   "outputs": [],
   "source": [
    "# Reshaping the data\n",
    "\n",
    "x_train = x_train.reshape(60000, 784)\n",
    "x_test = x_test.reshape(10000, 784)"
   ]
  },
  {
   "cell_type": "code",
   "execution_count": 4,
   "metadata": {
    "id": "Mk5nihcduyhS"
   },
   "outputs": [],
   "source": [
    "# Normalizing the data\n",
    "\n",
    "x_train, x_test = x_train / 255.0, x_test / 255.0"
   ]
  },
  {
   "cell_type": "code",
   "execution_count": 5,
   "metadata": {
    "id": "JMPeteM5Y90E"
   },
   "outputs": [],
   "source": [
    "# Converting labels to categorical\n",
    "\n",
    "y_train = tf.keras.utils.to_categorical(y_train, num_classes=10)\n",
    "y_test = tf.keras.utils.to_categorical(y_test, num_classes=10)"
   ]
  },
  {
   "cell_type": "code",
   "execution_count": 36,
   "metadata": {
    "colab": {
     "base_uri": "https://localhost:8080/"
    },
    "id": "589CHbA3Ba-0",
    "outputId": "e8845cc7-37c8-4fd2-af4d-5d1c81c74b86"
   },
   "outputs": [
    {
     "name": "stdout",
     "output_type": "stream",
     "text": [
      "Model: \"sequential_2\"\n",
      "_________________________________________________________________\n",
      " Layer (type)                Output Shape              Param #   \n",
      "=================================================================\n",
      " dense_17 (Dense)            (None, 1024)              803840    \n",
      "                                                                 \n",
      " dense_18 (Dense)            (None, 1024)              1049600   \n",
      "                                                                 \n",
      " dense_19 (Dense)            (None, 1024)              1049600   \n",
      "                                                                 \n",
      " dense_20 (Dense)            (None, 1024)              1049600   \n",
      "                                                                 \n",
      " dense_21 (Dense)            (None, 1024)              1049600   \n",
      "                                                                 \n",
      " dense_22 (Dense)            (None, 10)                10250     \n",
      "                                                                 \n",
      "=================================================================\n",
      "Total params: 5,012,490\n",
      "Trainable params: 5,012,490\n",
      "Non-trainable params: 0\n",
      "_________________________________________________________________\n"
     ]
    }
   ],
   "source": [
    "# Building a model and adding 5 hidden layers with 1024 hidden units and output layer with 10 units\n",
    "\n",
    "model = Sequential()\n",
    "model.add(Dense(1024, input_dim = 784, activation='relu', kernel_initializer=tf.keras.initializers.HeNormal()))\n",
    "model.add(Dense(1024, activation='relu', kernel_initializer=tf.keras.initializers.HeNormal()))\n",
    "model.add(Dense(1024, activation='relu', kernel_initializer=tf.keras.initializers.HeNormal()))\n",
    "model.add(Dense(1024, activation='relu', kernel_initializer=tf.keras.initializers.HeNormal()))\n",
    "model.add(Dense(1024, activation='relu', kernel_initializer=tf.keras.initializers.HeNormal()))\n",
    "model.add(Dense(10, activation='softmax', kernel_initializer=tf.keras.initializers.HeNormal()))\n",
    "\n",
    "model.summary()"
   ]
  },
  {
   "cell_type": "markdown",
   "metadata": {
    "id": "PIIpeoLg751e"
   },
   "source": [
    "For the base model, the total number of parameters = 5,012,490"
   ]
  },
  {
   "cell_type": "code",
   "execution_count": 7,
   "metadata": {
    "id": "5m7EEuvK0n21"
   },
   "outputs": [],
   "source": [
    "# Calculating loss and optimizing it\n",
    "\n",
    "model.compile(optimizer='adam', loss='categorical_crossentropy', metrics=['accuracy'])"
   ]
  },
  {
   "cell_type": "code",
   "execution_count": 8,
   "metadata": {
    "colab": {
     "base_uri": "https://localhost:8080/"
    },
    "id": "m4dtJ8RK0yua",
    "outputId": "b0edfcc5-f86f-4b05-a293-e890c0f32782"
   },
   "outputs": [
    {
     "name": "stdout",
     "output_type": "stream",
     "text": [
      "Epoch 1/70\n",
      "118/118 [==============================] - 2s 10ms/step - loss: 0.2795 - accuracy: 0.9154 - val_loss: 0.0967 - val_accuracy: 0.9705\n",
      "Epoch 2/70\n",
      "118/118 [==============================] - 1s 7ms/step - loss: 0.0765 - accuracy: 0.9758 - val_loss: 0.1122 - val_accuracy: 0.9663\n",
      "Epoch 3/70\n",
      "118/118 [==============================] - 1s 7ms/step - loss: 0.0508 - accuracy: 0.9840 - val_loss: 0.0756 - val_accuracy: 0.9770\n",
      "Epoch 4/70\n",
      "118/118 [==============================] - 1s 7ms/step - loss: 0.0381 - accuracy: 0.9880 - val_loss: 0.0824 - val_accuracy: 0.9768\n",
      "Epoch 5/70\n",
      "118/118 [==============================] - 1s 7ms/step - loss: 0.0287 - accuracy: 0.9907 - val_loss: 0.0936 - val_accuracy: 0.9752\n",
      "Epoch 6/70\n",
      "118/118 [==============================] - 1s 7ms/step - loss: 0.0212 - accuracy: 0.9934 - val_loss: 0.0926 - val_accuracy: 0.9766\n",
      "Epoch 7/70\n",
      "118/118 [==============================] - 1s 7ms/step - loss: 0.0192 - accuracy: 0.9937 - val_loss: 0.1008 - val_accuracy: 0.9759\n",
      "Epoch 8/70\n",
      "118/118 [==============================] - 1s 7ms/step - loss: 0.0233 - accuracy: 0.9923 - val_loss: 0.1055 - val_accuracy: 0.9748\n",
      "Epoch 9/70\n",
      "118/118 [==============================] - 1s 7ms/step - loss: 0.0198 - accuracy: 0.9937 - val_loss: 0.0927 - val_accuracy: 0.9781\n",
      "Epoch 10/70\n",
      "118/118 [==============================] - 1s 7ms/step - loss: 0.0132 - accuracy: 0.9960 - val_loss: 0.1007 - val_accuracy: 0.9778\n",
      "Epoch 11/70\n",
      "118/118 [==============================] - 1s 7ms/step - loss: 0.0145 - accuracy: 0.9956 - val_loss: 0.0986 - val_accuracy: 0.9775\n",
      "Epoch 12/70\n",
      "118/118 [==============================] - 1s 7ms/step - loss: 0.0112 - accuracy: 0.9966 - val_loss: 0.0904 - val_accuracy: 0.9811\n",
      "Epoch 13/70\n",
      "118/118 [==============================] - 1s 7ms/step - loss: 0.0112 - accuracy: 0.9963 - val_loss: 0.0845 - val_accuracy: 0.9808\n",
      "Epoch 14/70\n",
      "118/118 [==============================] - 1s 7ms/step - loss: 0.0127 - accuracy: 0.9965 - val_loss: 0.0929 - val_accuracy: 0.9779\n",
      "Epoch 15/70\n",
      "118/118 [==============================] - 1s 8ms/step - loss: 0.0099 - accuracy: 0.9970 - val_loss: 0.0917 - val_accuracy: 0.9821\n",
      "Epoch 16/70\n",
      "118/118 [==============================] - 1s 8ms/step - loss: 0.0158 - accuracy: 0.9954 - val_loss: 0.1199 - val_accuracy: 0.9780\n",
      "Epoch 17/70\n",
      "118/118 [==============================] - 1s 8ms/step - loss: 0.0095 - accuracy: 0.9970 - val_loss: 0.0952 - val_accuracy: 0.9816\n",
      "Epoch 18/70\n",
      "118/118 [==============================] - 1s 7ms/step - loss: 0.0114 - accuracy: 0.9967 - val_loss: 0.0839 - val_accuracy: 0.9810\n",
      "Epoch 19/70\n",
      "118/118 [==============================] - 1s 7ms/step - loss: 0.0070 - accuracy: 0.9982 - val_loss: 0.1100 - val_accuracy: 0.9784\n",
      "Epoch 20/70\n",
      "118/118 [==============================] - 1s 7ms/step - loss: 0.0070 - accuracy: 0.9982 - val_loss: 0.0909 - val_accuracy: 0.9831\n",
      "Epoch 21/70\n",
      "118/118 [==============================] - 1s 7ms/step - loss: 0.0085 - accuracy: 0.9976 - val_loss: 0.0977 - val_accuracy: 0.9805\n",
      "Epoch 22/70\n",
      "118/118 [==============================] - 1s 7ms/step - loss: 0.0085 - accuracy: 0.9974 - val_loss: 0.1119 - val_accuracy: 0.9798\n",
      "Epoch 23/70\n",
      "118/118 [==============================] - 1s 7ms/step - loss: 0.0094 - accuracy: 0.9971 - val_loss: 0.0888 - val_accuracy: 0.9812\n",
      "Epoch 24/70\n",
      "118/118 [==============================] - 1s 7ms/step - loss: 0.0084 - accuracy: 0.9977 - val_loss: 0.0913 - val_accuracy: 0.9841\n",
      "Epoch 25/70\n",
      "118/118 [==============================] - 1s 7ms/step - loss: 0.0105 - accuracy: 0.9971 - val_loss: 0.0846 - val_accuracy: 0.9831\n",
      "Epoch 26/70\n",
      "118/118 [==============================] - 1s 7ms/step - loss: 0.0100 - accuracy: 0.9972 - val_loss: 0.1115 - val_accuracy: 0.9791\n",
      "Epoch 27/70\n",
      "118/118 [==============================] - 1s 7ms/step - loss: 0.0090 - accuracy: 0.9976 - val_loss: 0.1033 - val_accuracy: 0.9813\n",
      "Epoch 28/70\n",
      "118/118 [==============================] - 1s 7ms/step - loss: 0.0093 - accuracy: 0.9975 - val_loss: 0.0901 - val_accuracy: 0.9809\n",
      "Epoch 29/70\n",
      "118/118 [==============================] - 1s 7ms/step - loss: 0.0045 - accuracy: 0.9987 - val_loss: 0.0988 - val_accuracy: 0.9832\n",
      "Epoch 30/70\n",
      "118/118 [==============================] - 1s 7ms/step - loss: 0.0032 - accuracy: 0.9991 - val_loss: 0.0992 - val_accuracy: 0.9839\n",
      "Epoch 31/70\n",
      "118/118 [==============================] - 1s 7ms/step - loss: 0.0061 - accuracy: 0.9985 - val_loss: 0.0993 - val_accuracy: 0.9826\n",
      "Epoch 32/70\n",
      "118/118 [==============================] - 1s 7ms/step - loss: 0.0068 - accuracy: 0.9985 - val_loss: 0.0944 - val_accuracy: 0.9826\n",
      "Epoch 33/70\n",
      "118/118 [==============================] - 1s 7ms/step - loss: 0.0097 - accuracy: 0.9973 - val_loss: 0.1147 - val_accuracy: 0.9793\n",
      "Epoch 34/70\n",
      "118/118 [==============================] - 1s 7ms/step - loss: 0.0104 - accuracy: 0.9972 - val_loss: 0.0861 - val_accuracy: 0.9823\n",
      "Epoch 35/70\n",
      "118/118 [==============================] - 1s 7ms/step - loss: 0.0036 - accuracy: 0.9991 - val_loss: 0.0932 - val_accuracy: 0.9841\n",
      "Epoch 36/70\n",
      "118/118 [==============================] - 1s 7ms/step - loss: 0.0058 - accuracy: 0.9986 - val_loss: 0.0826 - val_accuracy: 0.9850\n",
      "Epoch 37/70\n",
      "118/118 [==============================] - 1s 7ms/step - loss: 0.0064 - accuracy: 0.9982 - val_loss: 0.0925 - val_accuracy: 0.9836\n",
      "Epoch 38/70\n",
      "118/118 [==============================] - 1s 7ms/step - loss: 0.0075 - accuracy: 0.9981 - val_loss: 0.0889 - val_accuracy: 0.9822\n",
      "Epoch 39/70\n",
      "118/118 [==============================] - 1s 7ms/step - loss: 0.0069 - accuracy: 0.9984 - val_loss: 0.1088 - val_accuracy: 0.9841\n",
      "Epoch 40/70\n",
      "118/118 [==============================] - 1s 7ms/step - loss: 0.0101 - accuracy: 0.9975 - val_loss: 0.0843 - val_accuracy: 0.9827\n",
      "Epoch 41/70\n",
      "118/118 [==============================] - 1s 7ms/step - loss: 0.0091 - accuracy: 0.9974 - val_loss: 0.0901 - val_accuracy: 0.9848\n",
      "Epoch 42/70\n",
      "118/118 [==============================] - 1s 7ms/step - loss: 0.0056 - accuracy: 0.9985 - val_loss: 0.1177 - val_accuracy: 0.9819\n",
      "Epoch 43/70\n",
      "118/118 [==============================] - 1s 7ms/step - loss: 0.0057 - accuracy: 0.9984 - val_loss: 0.1319 - val_accuracy: 0.9815\n",
      "Epoch 44/70\n",
      "118/118 [==============================] - 1s 7ms/step - loss: 0.0083 - accuracy: 0.9982 - val_loss: 0.1143 - val_accuracy: 0.9830\n",
      "Epoch 45/70\n",
      "118/118 [==============================] - 1s 7ms/step - loss: 0.0066 - accuracy: 0.9986 - val_loss: 0.1067 - val_accuracy: 0.9822\n",
      "Epoch 46/70\n",
      "118/118 [==============================] - 1s 7ms/step - loss: 0.0050 - accuracy: 0.9988 - val_loss: 0.1030 - val_accuracy: 0.9844\n",
      "Epoch 47/70\n",
      "118/118 [==============================] - 1s 7ms/step - loss: 0.0062 - accuracy: 0.9984 - val_loss: 0.0862 - val_accuracy: 0.9850\n",
      "Epoch 48/70\n",
      "118/118 [==============================] - 1s 7ms/step - loss: 0.0084 - accuracy: 0.9982 - val_loss: 0.1226 - val_accuracy: 0.9828\n",
      "Epoch 49/70\n",
      "118/118 [==============================] - 1s 7ms/step - loss: 0.0098 - accuracy: 0.9977 - val_loss: 0.1265 - val_accuracy: 0.9803\n",
      "Epoch 50/70\n",
      "118/118 [==============================] - 1s 7ms/step - loss: 0.0077 - accuracy: 0.9984 - val_loss: 0.1248 - val_accuracy: 0.9816\n",
      "Epoch 51/70\n",
      "118/118 [==============================] - 1s 7ms/step - loss: 0.0033 - accuracy: 0.9990 - val_loss: 0.1251 - val_accuracy: 0.9825\n",
      "Epoch 52/70\n",
      "118/118 [==============================] - 1s 7ms/step - loss: 0.0027 - accuracy: 0.9993 - val_loss: 0.1153 - val_accuracy: 0.9847\n",
      "Epoch 53/70\n",
      "118/118 [==============================] - 1s 7ms/step - loss: 0.0073 - accuracy: 0.9984 - val_loss: 0.1099 - val_accuracy: 0.9807\n",
      "Epoch 54/70\n",
      "118/118 [==============================] - 1s 7ms/step - loss: 0.0065 - accuracy: 0.9985 - val_loss: 0.1166 - val_accuracy: 0.9821\n",
      "Epoch 55/70\n",
      "118/118 [==============================] - 1s 7ms/step - loss: 0.0061 - accuracy: 0.9987 - val_loss: 0.1162 - val_accuracy: 0.9834\n",
      "Epoch 56/70\n",
      "118/118 [==============================] - 1s 7ms/step - loss: 0.0041 - accuracy: 0.9992 - val_loss: 0.1198 - val_accuracy: 0.9828\n",
      "Epoch 57/70\n",
      "118/118 [==============================] - 1s 7ms/step - loss: 0.0066 - accuracy: 0.9987 - val_loss: 0.1147 - val_accuracy: 0.9843\n",
      "Epoch 58/70\n",
      "118/118 [==============================] - 1s 7ms/step - loss: 0.0027 - accuracy: 0.9993 - val_loss: 0.0998 - val_accuracy: 0.9856\n",
      "Epoch 59/70\n",
      "118/118 [==============================] - 1s 7ms/step - loss: 0.0027 - accuracy: 0.9995 - val_loss: 0.1077 - val_accuracy: 0.9861\n",
      "Epoch 60/70\n",
      "118/118 [==============================] - 1s 7ms/step - loss: 5.8494e-04 - accuracy: 0.9998 - val_loss: 0.1283 - val_accuracy: 0.9859\n",
      "Epoch 61/70\n",
      "118/118 [==============================] - 1s 7ms/step - loss: 0.0023 - accuracy: 0.9996 - val_loss: 0.1533 - val_accuracy: 0.9821\n",
      "Epoch 62/70\n",
      "118/118 [==============================] - 1s 7ms/step - loss: 0.0081 - accuracy: 0.9983 - val_loss: 0.1214 - val_accuracy: 0.9797\n",
      "Epoch 63/70\n",
      "118/118 [==============================] - 1s 7ms/step - loss: 0.0123 - accuracy: 0.9973 - val_loss: 0.0969 - val_accuracy: 0.9827\n",
      "Epoch 64/70\n",
      "118/118 [==============================] - 1s 7ms/step - loss: 0.0057 - accuracy: 0.9986 - val_loss: 0.1174 - val_accuracy: 0.9831\n",
      "Epoch 65/70\n",
      "118/118 [==============================] - 1s 7ms/step - loss: 0.0034 - accuracy: 0.9993 - val_loss: 0.1217 - val_accuracy: 0.9808\n",
      "Epoch 66/70\n",
      "118/118 [==============================] - 1s 7ms/step - loss: 0.0046 - accuracy: 0.9988 - val_loss: 0.1099 - val_accuracy: 0.9846\n",
      "Epoch 67/70\n",
      "118/118 [==============================] - 1s 7ms/step - loss: 0.0048 - accuracy: 0.9990 - val_loss: 0.1169 - val_accuracy: 0.9830\n",
      "Epoch 68/70\n",
      "118/118 [==============================] - 1s 7ms/step - loss: 0.0048 - accuracy: 0.9987 - val_loss: 0.1199 - val_accuracy: 0.9840\n",
      "Epoch 69/70\n",
      "118/118 [==============================] - 1s 7ms/step - loss: 0.0033 - accuracy: 0.9992 - val_loss: 0.1104 - val_accuracy: 0.9855\n",
      "Epoch 70/70\n",
      "118/118 [==============================] - 1s 7ms/step - loss: 0.0032 - accuracy: 0.9992 - val_loss: 0.1157 - val_accuracy: 0.9854\n"
     ]
    },
    {
     "data": {
      "text/plain": [
       "<keras.callbacks.History at 0x7f7e9a60c210>"
      ]
     },
     "execution_count": 8,
     "metadata": {},
     "output_type": "execute_result"
    }
   ],
   "source": [
    "# Fitting the model\n",
    "\n",
    "history = History()\n",
    "model.fit(x_train, y_train, epochs=70, batch_size=512, validation_data=(x_test,y_test))"
   ]
  },
  {
   "cell_type": "code",
   "execution_count": 9,
   "metadata": {
    "colab": {
     "base_uri": "https://localhost:8080/"
    },
    "id": "y8ukrkOW1FEO",
    "outputId": "3765d42a-edc4-468d-bf96-aa2a3ef836f5"
   },
   "outputs": [
    {
     "name": "stdout",
     "output_type": "stream",
     "text": [
      "313/313 [==============================] - 1s 3ms/step - loss: 0.1157 - accuracy: 0.9854\n",
      "Test accuracy: 98.54\n"
     ]
    }
   ],
   "source": [
    "# Calculating test accuarcy \n",
    "\n",
    "loss_base, accuracy_base = model.evaluate(x_test,  y_test)\n",
    "print(\"Test accuracy:\", round(accuracy_base*100,2))"
   ]
  },
  {
   "cell_type": "code",
   "execution_count": 10,
   "metadata": {
    "id": "B8W2iNbabe2b"
   },
   "outputs": [],
   "source": [
    "# Saving model weights\n",
    "\n",
    "model.save_weights(\"model_weights.h5\")"
   ]
  },
  {
   "cell_type": "code",
   "execution_count": 11,
   "metadata": {
    "colab": {
     "base_uri": "https://localhost:8080/"
    },
    "id": "Kajo_NvFjuQC",
    "outputId": "7e924f6d-c44a-4b18-b8c1-0a7af20f725a"
   },
   "outputs": [
    {
     "data": {
      "text/plain": [
       "(6, 6)"
      ]
     },
     "execution_count": 11,
     "metadata": {},
     "output_type": "execute_result"
    }
   ],
   "source": [
    "# Getting the weights and bias of the model\n",
    "\n",
    "model_wts = []\n",
    "model_bias = []\n",
    "for i in range(len(model.layers)):\n",
    "  model_wts.append(model.layers[i].get_weights()[0])\n",
    "  model_bias.append(model.layers[i].get_weights()[1])\n",
    "\n",
    "len(model_wts), len(model_bias)"
   ]
  },
  {
   "cell_type": "code",
   "execution_count": 12,
   "metadata": {
    "id": "tRg5UiaZm3vj"
   },
   "outputs": [],
   "source": [
    "# Performing svd on weights\n",
    "\n",
    "s = [[] for i in range(5)]\n",
    "u = [[] for i in range(5)]\n",
    "v = [[] for i in range(5)]\n",
    "\n",
    "for i in range(5):\n",
    "  s[i], u[i], v[i] = tf.linalg.svd(model_wts[i], compute_uv=True)"
   ]
  },
  {
   "cell_type": "code",
   "execution_count": 13,
   "metadata": {
    "colab": {
     "base_uri": "https://localhost:8080/"
    },
    "id": "hcm4NMWfii5R",
    "outputId": "56d4e2c4-80d2-4505-dabf-2450ce084598"
   },
   "outputs": [
    {
     "data": {
      "text/plain": [
       "1024"
      ]
     },
     "execution_count": 13,
     "metadata": {},
     "output_type": "execute_result"
    }
   ],
   "source": [
    "len(u[1])"
   ]
  },
  {
   "cell_type": "code",
   "execution_count": 14,
   "metadata": {
    "id": "TyhWGlBP7HPk"
   },
   "outputs": [],
   "source": [
    "# Function to set model weights based on D value\n",
    "\n",
    "def setWeights(D):\n",
    "  for i in range(5):\n",
    "      sv = tf.matmul(tf.linalg.diag(s[i][:D]), v[i][:,:D], adjoint_b=True)\n",
    "      wts = tf.matmul(u[i][:,:D], sv)\n",
    "      model.layers[i].set_weights((wts,model_bias[i]))"
   ]
  },
  {
   "cell_type": "code",
   "execution_count": 15,
   "metadata": {
    "id": "apakJIro3Ol8"
   },
   "outputs": [],
   "source": [
    "accuracy_vals = []"
   ]
  },
  {
   "cell_type": "code",
   "execution_count": 16,
   "metadata": {
    "colab": {
     "base_uri": "https://localhost:8080/"
    },
    "id": "BjpfIhOI1YbN",
    "outputId": "6beb1003-cdda-4fa0-e461-3606e03c44c4"
   },
   "outputs": [
    {
     "name": "stdout",
     "output_type": "stream",
     "text": [
      "313/313 [==============================] - 1s 2ms/step - loss: 1.6351 - accuracy: 0.6418\n",
      "Test accuracy: 64.18\n"
     ]
    }
   ],
   "source": [
    "# Setting weights for D=10\n",
    "D=10\n",
    "setWeights(D)\n",
    "\n",
    "# Calculating test accuarcy \n",
    "loss1, accuracy1 = model.evaluate(x_test,  y_test)\n",
    "print(\"Test accuracy:\", round(accuracy1*100,2))\n",
    "accuracy_vals.append(accuracy1)"
   ]
  },
  {
   "cell_type": "markdown",
   "metadata": {
    "id": "DzYkYhn59Efu"
   },
   "source": [
    "The total number of parameters when D = 10 is:\n",
    "10x1024 + 1024 + 10x1024 + 1024 + 10x1024 + 1024 + 10x1024 + 1024 + 10x1024 + 1024 + 10x1024 =  66,560\n",
    "\n",
    "This is 1.3% of base model parameters. "
   ]
  },
  {
   "cell_type": "code",
   "execution_count": 17,
   "metadata": {
    "colab": {
     "base_uri": "https://localhost:8080/"
    },
    "id": "FUFjhvnV1YKP",
    "outputId": "9729dc1e-8459-4c49-c787-287a94c29af7"
   },
   "outputs": [
    {
     "name": "stdout",
     "output_type": "stream",
     "text": [
      "313/313 [==============================] - 1s 3ms/step - loss: 0.3744 - accuracy: 0.9213\n",
      "Test accuracy: 92.13\n"
     ]
    }
   ],
   "source": [
    "# Setting weights for D=20\n",
    "D=20\n",
    "setWeights(D)\n",
    "\n",
    "# Calculating test accuarcy \n",
    "loss2, accuracy2 = model.evaluate(x_test,  y_test)\n",
    "print(\"Test accuracy:\", round(accuracy2*100,2))\n",
    "accuracy_vals.append(accuracy2)"
   ]
  },
  {
   "cell_type": "markdown",
   "metadata": {
    "id": "fAtirlFA-0kk"
   },
   "source": [
    "The total number of parameters when D = 20 is:\n",
    "20x1024 + 1024 + 20x1024 + 1024 + 20x1024 + 1024 + 20x1024 + 1024 + 20x1024 + 1024 + 10x1024 = 117,760\n",
    "\n",
    "This is 2.3% of base model parameters."
   ]
  },
  {
   "cell_type": "code",
   "execution_count": 18,
   "metadata": {
    "colab": {
     "base_uri": "https://localhost:8080/"
    },
    "id": "dXqhTYQI2_qo",
    "outputId": "4fdaaf0e-a7ee-4cb6-a45d-aa96e2f76191"
   },
   "outputs": [
    {
     "name": "stdout",
     "output_type": "stream",
     "text": [
      "313/313 [==============================] - 1s 2ms/step - loss: 0.1085 - accuracy: 0.9813\n",
      "Test accuracy: 98.13\n"
     ]
    }
   ],
   "source": [
    "# Setting weights for D=50\n",
    "D=50\n",
    "setWeights(D)\n",
    "\n",
    "# Calculating test accuarcy \n",
    "loss3, accuracy3 = model.evaluate(x_test,  y_test)\n",
    "print(\"Test accuracy:\", round(accuracy3*100,2))\n",
    "accuracy_vals.append(accuracy3)"
   ]
  },
  {
   "cell_type": "markdown",
   "metadata": {
    "id": "HY2ZL1QC_Z7j"
   },
   "source": [
    "The total number of parameters when D = 20 is:\n",
    "50x1024 + 1024 + 50x1024 + 1024 + 50x1024 + 1024 + 50x1024 + 1024 + 50x1024 + 1024 + 10x1024 = 271,360\n",
    "\n",
    "This is 5.4% of base model parameters."
   ]
  },
  {
   "cell_type": "code",
   "execution_count": 19,
   "metadata": {
    "colab": {
     "base_uri": "https://localhost:8080/"
    },
    "id": "9xtKfvZz3Exa",
    "outputId": "a1c17ad3-b02e-4528-d86e-d622cda9b0a0"
   },
   "outputs": [
    {
     "name": "stdout",
     "output_type": "stream",
     "text": [
      "313/313 [==============================] - 1s 3ms/step - loss: 0.1026 - accuracy: 0.9841\n",
      "Test accuracy: 98.41\n"
     ]
    }
   ],
   "source": [
    "# Setting weights for D=100\n",
    "D=100\n",
    "setWeights(D)\n",
    "\n",
    "# Calculating test accuarcy \n",
    "loss4, accuracy4 = model.evaluate(x_test,  y_test)\n",
    "print(\"Test accuracy:\", round(accuracy4*100,2))\n",
    "accuracy_vals.append(accuracy4)"
   ]
  },
  {
   "cell_type": "markdown",
   "metadata": {
    "id": "Zg-RT3RD_jDc"
   },
   "source": [
    "The total number of parameters when D = 20 is:\n",
    "100x1024 + 1024 + 100x1024 + 1024 + 100x1024 + 1024 + 100x1024 + 1024 + 100x1024 + 1024 + 10x1024 = 527,360\n",
    "\n",
    "This is 10.5% of base model parameters."
   ]
  },
  {
   "cell_type": "code",
   "execution_count": 20,
   "metadata": {
    "colab": {
     "base_uri": "https://localhost:8080/"
    },
    "id": "-c_uAdOa3JOW",
    "outputId": "36e6e72f-77ee-4ed5-970d-3257632daa53"
   },
   "outputs": [
    {
     "name": "stdout",
     "output_type": "stream",
     "text": [
      "313/313 [==============================] - 1s 2ms/step - loss: 0.1031 - accuracy: 0.9855\n",
      "Test accuracy: 98.55\n"
     ]
    }
   ],
   "source": [
    "# Setting weights for D=200\n",
    "D=200\n",
    "setWeights(D)\n",
    "\n",
    "# Calculating test accuarcy \n",
    "loss5, accuracy5 = model.evaluate(x_test,  y_test)\n",
    "print(\"Test accuracy:\", round(accuracy5*100,2))\n",
    "accuracy_vals.append(accuracy5)"
   ]
  },
  {
   "cell_type": "markdown",
   "metadata": {
    "id": "hPQGLLG8_xIK"
   },
   "source": [
    "The total number of parameters when D = 200 is:\n",
    "200x1024 + 1024 + 200x1024 + 1024 + 200x1024 + 1024 + 200x1024 + 1024 + 200x1024 + 1024 + 10x1024 = 1,039,360\n",
    "\n",
    "This is 20.7% of base model parameters.\n"
   ]
  },
  {
   "cell_type": "code",
   "execution_count": 21,
   "metadata": {
    "colab": {
     "base_uri": "https://localhost:8080/"
    },
    "id": "-v4HpvTj3XX7",
    "outputId": "f6ee4e67-283c-4aae-80b9-9a0c9c147b9a"
   },
   "outputs": [
    {
     "name": "stdout",
     "output_type": "stream",
     "text": [
      "313/313 [==============================] - 1s 3ms/step - loss: 0.1157 - accuracy: 0.9854\n",
      "Test accuracy: 98.54\n"
     ]
    }
   ],
   "source": [
    "# Setting weights for D=Full\n",
    "D=1024\n",
    "\n",
    "for i in range(5):\n",
    "       #first layer\n",
    "      if i==0:\n",
    "        sv = tf.matmul(tf.linalg.diag(s[i][:784]), v[i][:,:784], adjoint_b=True)\n",
    "        wts = tf.matmul(u[i][:,:784], sv)\n",
    "        model.layers[i].set_weights((wts,model_bias[i]))\n",
    "      \n",
    "      else:\n",
    "        sv = tf.matmul(tf.linalg.diag(s[i][:D]), v[i][:,:D], adjoint_b=True)\n",
    "        wts = tf.matmul(u[i][:,:D], sv)\n",
    "        model.layers[i].set_weights((wts,model_bias[i]))\n",
    "\n",
    "\n",
    "# Calculating test accuarcy \n",
    "loss6, accuracy6 = model.evaluate(x_test,  y_test)\n",
    "print(\"Test accuracy:\", round(accuracy6*100,2))\n",
    "accuracy_vals.append(accuracy6)"
   ]
  },
  {
   "cell_type": "markdown",
   "metadata": {
    "id": "vUoZduKPADb-"
   },
   "source": [
    "The total number of parameters when D = 200 is: 784x1024 + 1024 + 1024x1024 + 1024 + 1024x1024 + 1024 + 1024x1024 + 1024 + 1024x1024 + 1024 + 10x1024 = 5,012,490\n",
    "\n",
    "This is same as the number of base model parameters."
   ]
  },
  {
   "cell_type": "code",
   "execution_count": 22,
   "metadata": {
    "colab": {
     "base_uri": "https://localhost:8080/"
    },
    "id": "4rnAGB6L3c0b",
    "outputId": "69d3dec1-e4b2-4f91-97b3-3e66de43a8c3"
   },
   "outputs": [
    {
     "data": {
      "text/plain": [
       "[0.6417999863624573,\n",
       " 0.9212999939918518,\n",
       " 0.9812999963760376,\n",
       " 0.9840999841690063,\n",
       " 0.9854999780654907,\n",
       " 0.9854000210762024,\n",
       " 0.9854000210762024]"
      ]
     },
     "execution_count": 22,
     "metadata": {},
     "output_type": "execute_result"
    }
   ],
   "source": [
    "accuracy_vals.append(accuracy_base)\n",
    "accuracy_vals"
   ]
  },
  {
   "cell_type": "code",
   "execution_count": 23,
   "metadata": {
    "colab": {
     "base_uri": "https://localhost:8080/",
     "height": 565
    },
    "id": "L-ok0mKe3gaN",
    "outputId": "7266be13-6e2b-4bd4-9e8c-90bb8e0ec3d9"
   },
   "outputs": [
    {
     "data": {
      "text/plain": [
       "<Figure size 864x576 with 0 Axes>"
      ]
     },
     "execution_count": 23,
     "metadata": {},
     "output_type": "execute_result"
    },
    {
     "data": {
      "text/plain": [
       "[<matplotlib.lines.Line2D at 0x7f7e9a1ec550>]"
      ]
     },
     "execution_count": 23,
     "metadata": {},
     "output_type": "execute_result"
    },
    {
     "data": {
      "text/plain": [
       "Text(0.5, 0, 'Dimension values')"
      ]
     },
     "execution_count": 23,
     "metadata": {},
     "output_type": "execute_result"
    },
    {
     "data": {
      "text/plain": [
       "Text(0, 0.5, 'Test Accuracy')"
      ]
     },
     "execution_count": 23,
     "metadata": {},
     "output_type": "execute_result"
    },
    {
     "data": {
      "text/plain": [
       "Text(0.5, 1.0, 'SVD Networks Performance')"
      ]
     },
     "execution_count": 23,
     "metadata": {},
     "output_type": "execute_result"
    },
    {
     "name": "stderr",
     "output_type": "stream",
     "text": [
      "WARNING:matplotlib.legend:No handles with labels found to put in legend.\n"
     ]
    },
    {
     "data": {
      "text/plain": [
       "<matplotlib.legend.Legend at 0x7f7e9a1e64d0>"
      ]
     },
     "execution_count": 23,
     "metadata": {},
     "output_type": "execute_result"
    },
    {
     "data": {
      "image/png": "[encoded data removed]",
      "text/plain": [
       "<Figure size 864x576 with 1 Axes>"
      ]
     },
     "metadata": {
      "needs_background": "light"
     },
     "output_type": "display_data"
    }
   ],
   "source": [
    "# Plotting the test accuracies\n",
    "\n",
    "df_accuracy = pd.DataFrame(list(zip(['10', '20', '50', '100', '200', 'Full', 'Base'], accuracy_vals)), columns =['D_vals', 'Accuracy_vals'])\n",
    "plt.figure(figsize=(12,8))\n",
    "plt.plot(df_accuracy['D_vals'], df_accuracy['Accuracy_vals'])\n",
    "plt.xlabel('Dimension values')\n",
    "plt.ylabel('Test Accuracy')\n",
    "plt.title('SVD Networks Performance')\n",
    "plt.legend()"
   ]
  },
  {
   "cell_type": "code",
   "execution_count": 23,
   "metadata": {
    "id": "lhJUc3wmsjPK"
   },
   "outputs": [],
   "source": []
  },
  {
   "cell_type": "markdown",
   "metadata": {
    "id": "GC7QtJ2FketA"
   },
   "source": [
    "## Problem 2: Network Compression Using SVD"
   ]
  },
  {
   "cell_type": "code",
   "execution_count": 24,
   "metadata": {
    "colab": {
     "base_uri": "https://localhost:8080/"
    },
    "id": "mtP5VXi0dqLV",
    "outputId": "2d191564-5417-4f94-cff1-8cf5a7bab4a7"
   },
   "outputs": [
    {
     "data": {
      "text/plain": [
       "(6, 6)"
      ]
     },
     "execution_count": 24,
     "metadata": {},
     "output_type": "execute_result"
    }
   ],
   "source": [
    "# Getting the weights and bias of the model\n",
    "\n",
    "model_wts = []\n",
    "model_bias = []\n",
    "for i in range(len(model.layers)):\n",
    "  model_wts.append(model.layers[i].get_weights()[0])\n",
    "  model_bias.append(model.layers[i].get_weights()[1])\n",
    "\n",
    "len(model_wts), len(model_bias)"
   ]
  },
  {
   "cell_type": "code",
   "execution_count": 25,
   "metadata": {
    "id": "_V2fKoL_dve6"
   },
   "outputs": [],
   "source": [
    "# Performing svd on weights to get U, V\n",
    "\n",
    "V = [[] for i in range(5)]\n",
    "U = [[] for i in range(5)]\n",
    "\n",
    "for i in range(5):\n",
    "  s, u, v = tf.linalg.svd(model_wts[i], compute_uv=True)\n",
    "  V[i] = tf.matmul(tf.linalg.diag(s[:20]), v[:,:20], adjoint_b=True)\n",
    "  U[i] = u[:,:20]"
   ]
  },
  {
   "cell_type": "code",
   "execution_count": 26,
   "metadata": {
    "colab": {
     "base_uri": "https://localhost:8080/"
    },
    "id": "YbTVeFaAlz41",
    "outputId": "36d82b5c-3505-40e1-87bc-55f561c4ad7b"
   },
   "outputs": [
    {
     "data": {
      "text/plain": [
       "(5, 5)"
      ]
     },
     "execution_count": 26,
     "metadata": {},
     "output_type": "execute_result"
    }
   ],
   "source": [
    "len(U), len(V)"
   ]
  },
  {
   "cell_type": "code",
   "execution_count": 27,
   "metadata": {
    "colab": {
     "base_uri": "https://localhost:8080/"
    },
    "id": "F3B4TSqUl2-b",
    "outputId": "470e837e-c418-4622-9497-eb8d0acaa836"
   },
   "outputs": [
    {
     "name": "stdout",
     "output_type": "stream",
     "text": [
      "784\n",
      "1024\n",
      "1024\n",
      "1024\n",
      "1024\n"
     ]
    }
   ],
   "source": [
    "for i in range(5):\n",
    "  print(len(U[i]))"
   ]
  },
  {
   "cell_type": "code",
   "execution_count": 28,
   "metadata": {
    "colab": {
     "base_uri": "https://localhost:8080/"
    },
    "id": "dOvRKxM_l7f2",
    "outputId": "b08990bf-633b-441f-bf7f-47526b7c457d"
   },
   "outputs": [
    {
     "name": "stdout",
     "output_type": "stream",
     "text": [
      "20\n",
      "20\n",
      "20\n",
      "20\n",
      "20\n"
     ]
    }
   ],
   "source": [
    "for i in range(5):\n",
    "  print(len(V[i]))"
   ]
  },
  {
   "cell_type": "code",
   "execution_count": 29,
   "metadata": {
    "id": "73mb70b7mgWY"
   },
   "outputs": [],
   "source": [
    "# # Building a model \n",
    "\n",
    "# model = Sequential()\n",
    "# model.add(Dense(1024, input_dim = 784,activation='relu'))\n",
    "# model.add(Dense(1024, input_dim = 1024,activation='relu'))\n",
    "# model.add(Dense(1024, input_dim = 1024,activation='relu'))\n",
    "# model.add(Dense(1024, input_dim = 1024,activation='relu'))\n",
    "# model.add(Dense(1024, input_dim = 1024,activation='relu'))\n",
    "# model.add(Dense(20, input_dim = 1024,activation='relu'))\n",
    "# model.add(Dense(20, input_dim = 20,activation='relu'))\n",
    "# model.add(Dense(20, input_dim = 20,activation='relu'))\n",
    "# model.add(Dense(20, input_dim = 20,activation='relu'))\n",
    "# model.add(Dense(20, input_dim = 20,activation='relu'))\n",
    "# model.add(Dense(10, input_dim = 20 ,activation='softmax'))\n",
    "\n",
    "# model.summary()"
   ]
  },
  {
   "cell_type": "code",
   "execution_count": 30,
   "metadata": {
    "colab": {
     "base_uri": "https://localhost:8080/"
    },
    "id": "uvupOcaRy6uG",
    "outputId": "9de4bd59-3f35-4657-81e9-ea03ac9b1645"
   },
   "outputs": [
    {
     "name": "stdout",
     "output_type": "stream",
     "text": [
      "Model: \"sequential_1\"\n",
      "_________________________________________________________________\n",
      " Layer (type)                Output Shape              Param #   \n",
      "=================================================================\n",
      " dense_6 (Dense)             (None, 20)                15700     \n",
      "                                                                 \n",
      " dense_7 (Dense)             (None, 1024)              21504     \n",
      "                                                                 \n",
      " dense_8 (Dense)             (None, 20)                20500     \n",
      "                                                                 \n",
      " dense_9 (Dense)             (None, 1024)              21504     \n",
      "                                                                 \n",
      " dense_10 (Dense)            (None, 20)                20500     \n",
      "                                                                 \n",
      " dense_11 (Dense)            (None, 1024)              21504     \n",
      "                                                                 \n",
      " dense_12 (Dense)            (None, 20)                20500     \n",
      "                                                                 \n",
      " dense_13 (Dense)            (None, 1024)              21504     \n",
      "                                                                 \n",
      " dense_14 (Dense)            (None, 20)                20500     \n",
      "                                                                 \n",
      " dense_15 (Dense)            (None, 1024)              21504     \n",
      "                                                                 \n",
      " dense_16 (Dense)            (None, 10)                10250     \n",
      "                                                                 \n",
      "=================================================================\n",
      "Total params: 215,470\n",
      "Trainable params: 215,470\n",
      "Non-trainable params: 0\n",
      "_________________________________________________________________\n"
     ]
    }
   ],
   "source": [
    "# Building a model \n",
    "\n",
    "model = Sequential()\n",
    "model.add(Dense(20, input_dim = 784,activation=None))\n",
    "model.add(Dense(1024, input_dim = 20,activation='relu'))\n",
    "model.add(Dense(20, input_dim = 1024,activation=None))\n",
    "model.add(Dense(1024, input_dim = 20,activation='relu'))\n",
    "model.add(Dense(20, input_dim = 1024,activation=None))\n",
    "model.add(Dense(1024, input_dim = 20,activation='relu'))\n",
    "model.add(Dense(20, input_dim = 1024,activation=None))\n",
    "model.add(Dense(1024, input_dim = 20,activation='relu'))\n",
    "model.add(Dense(20, input_dim = 1024,activation=None))\n",
    "model.add(Dense(1024, input_dim = 20,activation='relu'))\n",
    "model.add(Dense(10, input_dim =1024 ,activation='softmax'))\n",
    "\n",
    "model.summary()"
   ]
  },
  {
   "cell_type": "markdown",
   "metadata": {
    "id": "KL-anNXGnrIw"
   },
   "source": [
    "This architecture resulted in the least number of parameters compared to others."
   ]
  },
  {
   "cell_type": "code",
   "execution_count": 32,
   "metadata": {
    "id": "pTg1otyWJfSP"
   },
   "outputs": [],
   "source": [
    "# Calculating loss and optimizing it\n",
    "\n",
    "model.compile(optimizer='adam', loss='categorical_crossentropy', metrics=['accuracy'])"
   ]
  },
  {
   "cell_type": "code",
   "execution_count": 33,
   "metadata": {
    "id": "9sUf0uQEuY6x"
   },
   "outputs": [],
   "source": [
    "# Initialising the weights using U and V from SVD\n",
    "\n",
    "u_ind = 0\n",
    "v_ind = 0\n",
    "for i in range(10):\n",
    "  if i in [0,2,4,6,8]:\n",
    "    model.layers[i].set_weights((U[u_ind], model_bias[u_ind][:20]))\n",
    "    u_ind+=1\n",
    "  else:\n",
    "    model.layers[i].set_weights((V[v_ind],model_bias[v_ind]))\n",
    "    v_ind+=1"
   ]
  },
  {
   "cell_type": "code",
   "execution_count": 34,
   "metadata": {
    "colab": {
     "base_uri": "https://localhost:8080/"
    },
    "id": "bQcKzxw6dtMw",
    "outputId": "be45cfdc-233a-4870-eea0-2ddce114f5ae"
   },
   "outputs": [
    {
     "name": "stdout",
     "output_type": "stream",
     "text": [
      "Epoch 1/20\n",
      "600/600 [==============================] - 2s 3ms/step - loss: 0.1963 - accuracy: 0.9454\n",
      "Epoch 2/20\n",
      "600/600 [==============================] - 2s 3ms/step - loss: 0.0840 - accuracy: 0.9770\n",
      "Epoch 3/20\n",
      "600/600 [==============================] - 2s 3ms/step - loss: 0.0717 - accuracy: 0.9811\n",
      "Epoch 4/20\n",
      "600/600 [==============================] - 2s 3ms/step - loss: 0.0592 - accuracy: 0.9837\n",
      "Epoch 5/20\n",
      "600/600 [==============================] - 2s 3ms/step - loss: 0.0521 - accuracy: 0.9856\n",
      "Epoch 6/20\n",
      "600/600 [==============================] - 2s 3ms/step - loss: 0.0429 - accuracy: 0.9879\n",
      "Epoch 7/20\n",
      "600/600 [==============================] - 2s 3ms/step - loss: 0.0402 - accuracy: 0.9891\n",
      "Epoch 8/20\n",
      "600/600 [==============================] - 2s 3ms/step - loss: 0.0387 - accuracy: 0.9894\n",
      "Epoch 9/20\n",
      "600/600 [==============================] - 2s 3ms/step - loss: 0.0374 - accuracy: 0.9895\n",
      "Epoch 10/20\n",
      "600/600 [==============================] - 2s 3ms/step - loss: 0.0339 - accuracy: 0.9907\n",
      "Epoch 11/20\n",
      "600/600 [==============================] - 2s 3ms/step - loss: 0.0295 - accuracy: 0.9918\n",
      "Epoch 12/20\n",
      "600/600 [==============================] - 2s 3ms/step - loss: 0.0293 - accuracy: 0.9917\n",
      "Epoch 13/20\n",
      "600/600 [==============================] - 2s 3ms/step - loss: 0.0305 - accuracy: 0.9913\n",
      "Epoch 14/20\n",
      "600/600 [==============================] - 2s 3ms/step - loss: 0.0241 - accuracy: 0.9935\n",
      "Epoch 15/20\n",
      "600/600 [==============================] - 2s 3ms/step - loss: 0.0243 - accuracy: 0.9930\n",
      "Epoch 16/20\n",
      "600/600 [==============================] - 2s 3ms/step - loss: 0.0292 - accuracy: 0.9922\n",
      "Epoch 17/20\n",
      "600/600 [==============================] - 2s 3ms/step - loss: 0.0201 - accuracy: 0.9950\n",
      "Epoch 18/20\n",
      "600/600 [==============================] - 2s 3ms/step - loss: 0.0235 - accuracy: 0.9938\n",
      "Epoch 19/20\n",
      "600/600 [==============================] - 2s 3ms/step - loss: 0.0240 - accuracy: 0.9941\n",
      "Epoch 20/20\n",
      "600/600 [==============================] - 2s 3ms/step - loss: 0.0189 - accuracy: 0.9948\n"
     ]
    },
    {
     "data": {
      "text/plain": [
       "<keras.callbacks.History at 0x7f7e6b274d50>"
      ]
     },
     "execution_count": 34,
     "metadata": {},
     "output_type": "execute_result"
    }
   ],
   "source": [
    "# Fitting the model\n",
    "\n",
    "model.fit(x_train, y_train, epochs=20, batch_size=100)"
   ]
  },
  {
   "cell_type": "code",
   "execution_count": 35,
   "metadata": {
    "colab": {
     "base_uri": "https://localhost:8080/"
    },
    "id": "wFKgZulvpKd6",
    "outputId": "bf7caedf-f5ae-402c-de4d-827a2634b1d1"
   },
   "outputs": [
    {
     "name": "stdout",
     "output_type": "stream",
     "text": [
      "313/313 [==============================] - 1s 3ms/step - loss: 0.1258 - accuracy: 0.9774\n",
      "Test accuracy: 97.74\n"
     ]
    }
   ],
   "source": [
    "# Calculating test accuarcy \n",
    "\n",
    "loss, accuracy = model.evaluate(x_test,  y_test)\n",
    "print(\"Test accuracy:\", round(accuracy*100,2))"
   ]
  },
  {
   "cell_type": "code",
   "execution_count": null,
   "metadata": {
    "id": "tA_mlnB51Uay"
   },
   "outputs": [],
   "source": []
  },
  {
   "cell_type": "markdown",
   "metadata": {
    "id": "4hKQLT42khL-"
   },
   "source": [
    "## Problem 3: Network Compression Using SVD"
   ]
  },
  {
   "cell_type": "code",
   "execution_count": 38,
   "metadata": {
    "colab": {
     "base_uri": "https://localhost:8080/"
    },
    "id": "mSge3R6lQsEF",
    "outputId": "7afc4653-0033-47af-96b8-cfb6d15facb9"
   },
   "outputs": [
    {
     "data": {
      "text/plain": [
       "(6, 6)"
      ]
     },
     "execution_count": 38,
     "metadata": {},
     "output_type": "execute_result"
    }
   ],
   "source": [
    "# Loading the base model weights\n",
    "model.load_weights('model_weights.h5')\n",
    "\n",
    "# Getting the weights and bias of the base model\n",
    "model_wts = []\n",
    "model_bias = []\n",
    "for i in range(6):\n",
    "  model_wts.append(model.layers[i].get_weights()[0])\n",
    "  model_bias.append(model.layers[i].get_weights()[1])\n",
    "\n",
    "len(model_wts), len(model_bias)"
   ]
  },
  {
   "cell_type": "code",
   "execution_count": 39,
   "metadata": {
    "id": "NcI80xMms9sI"
   },
   "outputs": [],
   "source": [
    "# Function to define custome derivative\n",
    "\n",
    "@tf.custom_gradient\n",
    "def SetCustomWeights(wt):\n",
    "    s, u, v = tf.linalg.svd(wt, compute_uv=True, full_matrices=True)\n",
    "    sv = tf.matmul(tf.linalg.diag(s[:20]), v[:,:20], adjoint_b=True)\n",
    "    wts = tf.matmul(u[:,:20], sv)\n",
    "\n",
    "    def grad(dy):\n",
    "      gradient = tf.gradients(dy, wts)\n",
    "      return gradient\n",
    "\n",
    "    return wts, grad"
   ]
  },
  {
   "cell_type": "code",
   "execution_count": 40,
   "metadata": {
    "id": "_rJ2kosTs9pm"
   },
   "outputs": [],
   "source": [
    "# Function to create custom layers\n",
    "\n",
    "class customLayers(keras.layers.Layer): \n",
    "\n",
    "     def __init__(self, units, layer_val, input_dim):\n",
    "      super(customLayers, self).__init__()\n",
    "      # w_init = tf.random_normal_initializer()\n",
    "      self.units = units\n",
    "      self.layer_val = layer_val\n",
    "      self.w=tf.Variable(\n",
    "            initial_value = model_wts[self.layer_val],\n",
    "            trainable=True,\n",
    "        )\n",
    "      # b_init = tf.zeros_initializer()\n",
    "      self.b=tf.Variable(\n",
    "            initial_value = model_bias[self.layer_val],\n",
    "            trainable=True,\n",
    "        )\n",
    "      \n",
    "      def call(self, inputs):\n",
    "          custom_wts1 = SetCustomWeights(self.w)  \n",
    "          custom_wts = keras.activations.relu(tf.matmul(inputs, custom_wts1)+self.b)\n",
    "          return custom_wts"
   ]
  },
  {
   "cell_type": "markdown",
   "metadata": {
    "id": "HH76RSt2C1Zz"
   },
   "source": [
    "Reference - https://keras.io/guides/making_new_layers_and_models_via_subclassing/"
   ]
  },
  {
   "cell_type": "code",
   "execution_count": 41,
   "metadata": {
    "id": "dA2RCAvMs9m6"
   },
   "outputs": [],
   "source": [
    "# Building a model and adding 4 hidden layers \n",
    "\n",
    "model = Sequential()\n",
    "model.add(customLayers(units=1024, layer_val=0, input_dim=(784,)))\n",
    "model.add(customLayers(units=1024, layer_val=1, input_dim=(1024,)))\n",
    "model.add(customLayers(units=1024, layer_val=2, input_dim=(1024,)))\n",
    "model.add(customLayers(units=1024, layer_val=3, input_dim=(1024,)))\n",
    "model.add(customLayers(units=1024, layer_val=4, input_dim=(1024,)))\n",
    "model.add(Dense(units=10,activation='softmax'))"
   ]
  },
  {
   "cell_type": "code",
   "execution_count": 42,
   "metadata": {
    "id": "qTqNbNvys9jv"
   },
   "outputs": [],
   "source": [
    "# Calculating loss and optimizing it\n",
    "\n",
    "lr = 0.0001\n",
    "model.compile(tf.keras.optimizers.Adam(learning_rate=lr), loss='categorical_crossentropy',metrics=['accuracy'])"
   ]
  },
  {
   "cell_type": "code",
   "execution_count": 49,
   "metadata": {
    "colab": {
     "base_uri": "https://localhost:8080/"
    },
    "id": "7MJgIfOVs9Lf",
    "outputId": "6e4076b4-b98f-4969-fe2b-39bd4f8c9df6"
   },
   "outputs": [
    {
     "name": "stdout",
     "output_type": "stream",
     "text": [
      "Epoch 1/100\n",
      "60/60 [==============================] - 0s 5ms/step - loss: 0.2579 - accuracy: 0.9285 - val_loss: 0.2651 - val_accuracy: 0.9257\n",
      "Epoch 2/100\n",
      "60/60 [==============================] - 0s 4ms/step - loss: 0.2578 - accuracy: 0.9284 - val_loss: 0.2652 - val_accuracy: 0.9260\n",
      "Epoch 3/100\n",
      "60/60 [==============================] - 0s 4ms/step - loss: 0.2577 - accuracy: 0.9284 - val_loss: 0.2651 - val_accuracy: 0.9257\n",
      "Epoch 4/100\n",
      "60/60 [==============================] - 0s 3ms/step - loss: 0.2576 - accuracy: 0.9286 - val_loss: 0.2650 - val_accuracy: 0.9258\n",
      "Epoch 5/100\n",
      "60/60 [==============================] - 0s 4ms/step - loss: 0.2575 - accuracy: 0.9285 - val_loss: 0.2650 - val_accuracy: 0.9257\n",
      "Epoch 6/100\n",
      "60/60 [==============================] - 0s 4ms/step - loss: 0.2574 - accuracy: 0.9287 - val_loss: 0.2649 - val_accuracy: 0.9259\n",
      "Epoch 7/100\n",
      "60/60 [==============================] - 0s 4ms/step - loss: 0.2572 - accuracy: 0.9285 - val_loss: 0.2649 - val_accuracy: 0.9258\n",
      "Epoch 8/100\n",
      "60/60 [==============================] - 0s 4ms/step - loss: 0.2571 - accuracy: 0.9287 - val_loss: 0.2649 - val_accuracy: 0.9258\n",
      "Epoch 9/100\n",
      "60/60 [==============================] - 0s 4ms/step - loss: 0.2570 - accuracy: 0.9287 - val_loss: 0.2648 - val_accuracy: 0.9260\n",
      "Epoch 10/100\n",
      "60/60 [==============================] - 0s 4ms/step - loss: 0.2569 - accuracy: 0.9287 - val_loss: 0.2648 - val_accuracy: 0.9262\n",
      "Epoch 11/100\n",
      "60/60 [==============================] - 0s 4ms/step - loss: 0.2568 - accuracy: 0.9288 - val_loss: 0.2649 - val_accuracy: 0.9262\n",
      "Epoch 12/100\n",
      "60/60 [==============================] - 0s 4ms/step - loss: 0.2567 - accuracy: 0.9288 - val_loss: 0.2647 - val_accuracy: 0.9259\n",
      "Epoch 13/100\n",
      "60/60 [==============================] - 0s 4ms/step - loss: 0.2566 - accuracy: 0.9290 - val_loss: 0.2647 - val_accuracy: 0.9260\n",
      "Epoch 14/100\n",
      "60/60 [==============================] - 0s 4ms/step - loss: 0.2565 - accuracy: 0.9286 - val_loss: 0.2646 - val_accuracy: 0.9263\n",
      "Epoch 15/100\n",
      "60/60 [==============================] - 0s 4ms/step - loss: 0.2564 - accuracy: 0.9290 - val_loss: 0.2646 - val_accuracy: 0.9262\n",
      "Epoch 16/100\n",
      "60/60 [==============================] - 0s 4ms/step - loss: 0.2563 - accuracy: 0.9291 - val_loss: 0.2645 - val_accuracy: 0.9262\n",
      "Epoch 17/100\n",
      "60/60 [==============================] - 0s 4ms/step - loss: 0.2562 - accuracy: 0.9288 - val_loss: 0.2645 - val_accuracy: 0.9262\n",
      "Epoch 18/100\n",
      "60/60 [==============================] - 0s 4ms/step - loss: 0.2561 - accuracy: 0.9291 - val_loss: 0.2644 - val_accuracy: 0.9264\n",
      "Epoch 19/100\n",
      "60/60 [==============================] - 0s 4ms/step - loss: 0.2560 - accuracy: 0.9291 - val_loss: 0.2644 - val_accuracy: 0.9262\n",
      "Epoch 20/100\n",
      "60/60 [==============================] - 0s 4ms/step - loss: 0.2559 - accuracy: 0.9291 - val_loss: 0.2644 - val_accuracy: 0.9264\n",
      "Epoch 21/100\n",
      "60/60 [==============================] - 0s 4ms/step - loss: 0.2558 - accuracy: 0.9292 - val_loss: 0.2643 - val_accuracy: 0.9264\n",
      "Epoch 22/100\n",
      "60/60 [==============================] - 0s 4ms/step - loss: 0.2557 - accuracy: 0.9290 - val_loss: 0.2642 - val_accuracy: 0.9264\n",
      "Epoch 23/100\n",
      "60/60 [==============================] - 0s 4ms/step - loss: 0.2556 - accuracy: 0.9291 - val_loss: 0.2642 - val_accuracy: 0.9263\n",
      "Epoch 24/100\n",
      "60/60 [==============================] - 0s 4ms/step - loss: 0.2555 - accuracy: 0.9290 - val_loss: 0.2644 - val_accuracy: 0.9265\n",
      "Epoch 25/100\n",
      "60/60 [==============================] - 0s 4ms/step - loss: 0.2554 - accuracy: 0.9293 - val_loss: 0.2642 - val_accuracy: 0.9266\n",
      "Epoch 26/100\n",
      "60/60 [==============================] - 0s 4ms/step - loss: 0.2553 - accuracy: 0.9291 - val_loss: 0.2641 - val_accuracy: 0.9266\n",
      "Epoch 27/100\n",
      "60/60 [==============================] - 0s 4ms/step - loss: 0.2552 - accuracy: 0.9292 - val_loss: 0.2640 - val_accuracy: 0.9265\n",
      "Epoch 28/100\n",
      "60/60 [==============================] - 0s 4ms/step - loss: 0.2551 - accuracy: 0.9291 - val_loss: 0.2641 - val_accuracy: 0.9265\n",
      "Epoch 29/100\n",
      "60/60 [==============================] - 0s 4ms/step - loss: 0.2550 - accuracy: 0.9293 - val_loss: 0.2640 - val_accuracy: 0.9267\n",
      "Epoch 30/100\n",
      "60/60 [==============================] - 0s 4ms/step - loss: 0.2549 - accuracy: 0.9291 - val_loss: 0.2639 - val_accuracy: 0.9266\n",
      "Epoch 31/100\n",
      "60/60 [==============================] - 0s 3ms/step - loss: 0.2548 - accuracy: 0.9294 - val_loss: 0.2640 - val_accuracy: 0.9265\n",
      "Epoch 32/100\n",
      "60/60 [==============================] - 0s 4ms/step - loss: 0.2547 - accuracy: 0.9293 - val_loss: 0.2639 - val_accuracy: 0.9267\n",
      "Epoch 33/100\n",
      "60/60 [==============================] - 0s 4ms/step - loss: 0.2547 - accuracy: 0.9293 - val_loss: 0.2638 - val_accuracy: 0.9266\n",
      "Epoch 34/100\n",
      "60/60 [==============================] - 0s 3ms/step - loss: 0.2545 - accuracy: 0.9294 - val_loss: 0.2639 - val_accuracy: 0.9266\n",
      "Epoch 35/100\n",
      "60/60 [==============================] - 0s 4ms/step - loss: 0.2544 - accuracy: 0.9294 - val_loss: 0.2638 - val_accuracy: 0.9266\n",
      "Epoch 36/100\n",
      "60/60 [==============================] - 0s 4ms/step - loss: 0.2543 - accuracy: 0.9293 - val_loss: 0.2638 - val_accuracy: 0.9267\n",
      "Epoch 37/100\n",
      "60/60 [==============================] - 0s 4ms/step - loss: 0.2543 - accuracy: 0.9295 - val_loss: 0.2637 - val_accuracy: 0.9266\n",
      "Epoch 38/100\n",
      "60/60 [==============================] - 0s 4ms/step - loss: 0.2542 - accuracy: 0.9294 - val_loss: 0.2637 - val_accuracy: 0.9265\n",
      "Epoch 39/100\n",
      "60/60 [==============================] - 0s 4ms/step - loss: 0.2541 - accuracy: 0.9295 - val_loss: 0.2636 - val_accuracy: 0.9261\n",
      "Epoch 40/100\n",
      "60/60 [==============================] - 0s 4ms/step - loss: 0.2540 - accuracy: 0.9295 - val_loss: 0.2637 - val_accuracy: 0.9266\n",
      "Epoch 41/100\n",
      "60/60 [==============================] - 0s 4ms/step - loss: 0.2539 - accuracy: 0.9294 - val_loss: 0.2636 - val_accuracy: 0.9267\n",
      "Epoch 42/100\n",
      "60/60 [==============================] - 0s 4ms/step - loss: 0.2538 - accuracy: 0.9296 - val_loss: 0.2636 - val_accuracy: 0.9265\n",
      "Epoch 43/100\n",
      "60/60 [==============================] - 0s 4ms/step - loss: 0.2537 - accuracy: 0.9296 - val_loss: 0.2636 - val_accuracy: 0.9267\n",
      "Epoch 44/100\n",
      "60/60 [==============================] - 0s 4ms/step - loss: 0.2537 - accuracy: 0.9295 - val_loss: 0.2635 - val_accuracy: 0.9268\n",
      "Epoch 45/100\n",
      "60/60 [==============================] - 0s 4ms/step - loss: 0.2536 - accuracy: 0.9298 - val_loss: 0.2635 - val_accuracy: 0.9263\n",
      "Epoch 46/100\n",
      "60/60 [==============================] - 0s 3ms/step - loss: 0.2535 - accuracy: 0.9297 - val_loss: 0.2634 - val_accuracy: 0.9267\n",
      "Epoch 47/100\n",
      "60/60 [==============================] - 0s 4ms/step - loss: 0.2534 - accuracy: 0.9297 - val_loss: 0.2634 - val_accuracy: 0.9269\n",
      "Epoch 48/100\n",
      "60/60 [==============================] - 0s 4ms/step - loss: 0.2533 - accuracy: 0.9297 - val_loss: 0.2633 - val_accuracy: 0.9267\n",
      "Epoch 49/100\n",
      "60/60 [==============================] - 0s 4ms/step - loss: 0.2532 - accuracy: 0.9298 - val_loss: 0.2635 - val_accuracy: 0.9263\n",
      "Epoch 50/100\n",
      "60/60 [==============================] - 0s 4ms/step - loss: 0.2531 - accuracy: 0.9298 - val_loss: 0.2633 - val_accuracy: 0.9264\n",
      "Epoch 51/100\n",
      "60/60 [==============================] - 0s 3ms/step - loss: 0.2531 - accuracy: 0.9300 - val_loss: 0.2633 - val_accuracy: 0.9266\n",
      "Epoch 52/100\n",
      "60/60 [==============================] - 0s 4ms/step - loss: 0.2530 - accuracy: 0.9296 - val_loss: 0.2632 - val_accuracy: 0.9263\n",
      "Epoch 53/100\n",
      "60/60 [==============================] - 0s 4ms/step - loss: 0.2529 - accuracy: 0.9299 - val_loss: 0.2632 - val_accuracy: 0.9265\n",
      "Epoch 54/100\n",
      "60/60 [==============================] - 0s 4ms/step - loss: 0.2528 - accuracy: 0.9299 - val_loss: 0.2631 - val_accuracy: 0.9268\n",
      "Epoch 55/100\n",
      "60/60 [==============================] - 0s 4ms/step - loss: 0.2527 - accuracy: 0.9302 - val_loss: 0.2632 - val_accuracy: 0.9266\n",
      "Epoch 56/100\n",
      "60/60 [==============================] - 0s 4ms/step - loss: 0.2526 - accuracy: 0.9298 - val_loss: 0.2631 - val_accuracy: 0.9266\n",
      "Epoch 57/100\n",
      "60/60 [==============================] - 0s 4ms/step - loss: 0.2526 - accuracy: 0.9299 - val_loss: 0.2632 - val_accuracy: 0.9267\n",
      "Epoch 58/100\n",
      "60/60 [==============================] - 0s 4ms/step - loss: 0.2525 - accuracy: 0.9302 - val_loss: 0.2631 - val_accuracy: 0.9268\n",
      "Epoch 59/100\n",
      "60/60 [==============================] - 0s 4ms/step - loss: 0.2524 - accuracy: 0.9300 - val_loss: 0.2630 - val_accuracy: 0.9265\n",
      "Epoch 60/100\n",
      "60/60 [==============================] - 0s 4ms/step - loss: 0.2523 - accuracy: 0.9301 - val_loss: 0.2631 - val_accuracy: 0.9265\n",
      "Epoch 61/100\n",
      "60/60 [==============================] - 0s 4ms/step - loss: 0.2522 - accuracy: 0.9301 - val_loss: 0.2630 - val_accuracy: 0.9268\n",
      "Epoch 62/100\n",
      "60/60 [==============================] - 0s 4ms/step - loss: 0.2522 - accuracy: 0.9303 - val_loss: 0.2630 - val_accuracy: 0.9264\n",
      "Epoch 63/100\n",
      "60/60 [==============================] - 0s 4ms/step - loss: 0.2521 - accuracy: 0.9302 - val_loss: 0.2630 - val_accuracy: 0.9268\n",
      "Epoch 64/100\n",
      "60/60 [==============================] - 0s 4ms/step - loss: 0.2520 - accuracy: 0.9303 - val_loss: 0.2628 - val_accuracy: 0.9269\n",
      "Epoch 65/100\n",
      "60/60 [==============================] - 0s 4ms/step - loss: 0.2519 - accuracy: 0.9303 - val_loss: 0.2628 - val_accuracy: 0.9268\n",
      "Epoch 66/100\n",
      "60/60 [==============================] - 0s 4ms/step - loss: 0.2518 - accuracy: 0.9302 - val_loss: 0.2629 - val_accuracy: 0.9266\n",
      "Epoch 67/100\n",
      "60/60 [==============================] - 0s 4ms/step - loss: 0.2518 - accuracy: 0.9304 - val_loss: 0.2628 - val_accuracy: 0.9270\n",
      "Epoch 68/100\n",
      "60/60 [==============================] - 0s 4ms/step - loss: 0.2517 - accuracy: 0.9303 - val_loss: 0.2627 - val_accuracy: 0.9271\n",
      "Epoch 69/100\n",
      "60/60 [==============================] - 0s 4ms/step - loss: 0.2516 - accuracy: 0.9302 - val_loss: 0.2627 - val_accuracy: 0.9271\n",
      "Epoch 70/100\n",
      "60/60 [==============================] - 0s 4ms/step - loss: 0.2515 - accuracy: 0.9302 - val_loss: 0.2627 - val_accuracy: 0.9269\n",
      "Epoch 71/100\n",
      "60/60 [==============================] - 0s 4ms/step - loss: 0.2515 - accuracy: 0.9303 - val_loss: 0.2628 - val_accuracy: 0.9268\n",
      "Epoch 72/100\n",
      "60/60 [==============================] - 0s 3ms/step - loss: 0.2514 - accuracy: 0.9303 - val_loss: 0.2627 - val_accuracy: 0.9272\n",
      "Epoch 73/100\n",
      "60/60 [==============================] - 0s 3ms/step - loss: 0.2513 - accuracy: 0.9306 - val_loss: 0.2626 - val_accuracy: 0.9266\n",
      "Epoch 74/100\n",
      "60/60 [==============================] - 0s 4ms/step - loss: 0.2512 - accuracy: 0.9304 - val_loss: 0.2627 - val_accuracy: 0.9268\n",
      "Epoch 75/100\n",
      "60/60 [==============================] - 0s 4ms/step - loss: 0.2512 - accuracy: 0.9303 - val_loss: 0.2627 - val_accuracy: 0.9269\n",
      "Epoch 76/100\n",
      "60/60 [==============================] - 0s 4ms/step - loss: 0.2511 - accuracy: 0.9305 - val_loss: 0.2626 - val_accuracy: 0.9270\n",
      "Epoch 77/100\n",
      "60/60 [==============================] - 0s 4ms/step - loss: 0.2510 - accuracy: 0.9305 - val_loss: 0.2627 - val_accuracy: 0.9271\n",
      "Epoch 78/100\n",
      "60/60 [==============================] - 0s 4ms/step - loss: 0.2509 - accuracy: 0.9306 - val_loss: 0.2626 - val_accuracy: 0.9266\n",
      "Epoch 79/100\n",
      "60/60 [==============================] - 0s 4ms/step - loss: 0.2509 - accuracy: 0.9306 - val_loss: 0.2626 - val_accuracy: 0.9269\n",
      "Epoch 80/100\n",
      "60/60 [==============================] - 0s 4ms/step - loss: 0.2508 - accuracy: 0.9308 - val_loss: 0.2625 - val_accuracy: 0.9271\n",
      "Epoch 81/100\n",
      "60/60 [==============================] - 0s 4ms/step - loss: 0.2507 - accuracy: 0.9307 - val_loss: 0.2627 - val_accuracy: 0.9268\n",
      "Epoch 82/100\n",
      "60/60 [==============================] - 0s 4ms/step - loss: 0.2506 - accuracy: 0.9305 - val_loss: 0.2625 - val_accuracy: 0.9268\n",
      "Epoch 83/100\n",
      "60/60 [==============================] - 0s 4ms/step - loss: 0.2506 - accuracy: 0.9308 - val_loss: 0.2625 - val_accuracy: 0.9270\n",
      "Epoch 84/100\n",
      "60/60 [==============================] - 0s 4ms/step - loss: 0.2505 - accuracy: 0.9308 - val_loss: 0.2623 - val_accuracy: 0.9271\n",
      "Epoch 85/100\n",
      "60/60 [==============================] - 0s 4ms/step - loss: 0.2504 - accuracy: 0.9307 - val_loss: 0.2624 - val_accuracy: 0.9271\n",
      "Epoch 86/100\n",
      "60/60 [==============================] - 0s 4ms/step - loss: 0.2504 - accuracy: 0.9306 - val_loss: 0.2624 - val_accuracy: 0.9269\n",
      "Epoch 87/100\n",
      "60/60 [==============================] - 0s 4ms/step - loss: 0.2503 - accuracy: 0.9307 - val_loss: 0.2624 - val_accuracy: 0.9272\n",
      "Epoch 88/100\n",
      "60/60 [==============================] - 0s 4ms/step - loss: 0.2503 - accuracy: 0.9308 - val_loss: 0.2625 - val_accuracy: 0.9268\n",
      "Epoch 89/100\n",
      "60/60 [==============================] - 0s 4ms/step - loss: 0.2502 - accuracy: 0.9307 - val_loss: 0.2624 - val_accuracy: 0.9268\n",
      "Epoch 90/100\n",
      "60/60 [==============================] - 0s 4ms/step - loss: 0.2501 - accuracy: 0.9307 - val_loss: 0.2623 - val_accuracy: 0.9268\n",
      "Epoch 91/100\n",
      "60/60 [==============================] - 0s 4ms/step - loss: 0.2500 - accuracy: 0.9307 - val_loss: 0.2622 - val_accuracy: 0.9272\n",
      "Epoch 92/100\n",
      "60/60 [==============================] - 0s 4ms/step - loss: 0.2500 - accuracy: 0.9309 - val_loss: 0.2622 - val_accuracy: 0.9274\n",
      "Epoch 93/100\n",
      "60/60 [==============================] - 0s 4ms/step - loss: 0.2499 - accuracy: 0.9311 - val_loss: 0.2623 - val_accuracy: 0.9271\n",
      "Epoch 94/100\n",
      "60/60 [==============================] - 0s 4ms/step - loss: 0.2498 - accuracy: 0.9309 - val_loss: 0.2622 - val_accuracy: 0.9268\n",
      "Epoch 95/100\n",
      "60/60 [==============================] - 0s 4ms/step - loss: 0.2497 - accuracy: 0.9308 - val_loss: 0.2622 - val_accuracy: 0.9272\n",
      "Epoch 96/100\n",
      "60/60 [==============================] - 0s 4ms/step - loss: 0.2497 - accuracy: 0.9310 - val_loss: 0.2622 - val_accuracy: 0.9270\n",
      "Epoch 97/100\n",
      "60/60 [==============================] - 0s 4ms/step - loss: 0.2496 - accuracy: 0.9310 - val_loss: 0.2622 - val_accuracy: 0.9268\n",
      "Epoch 98/100\n",
      "60/60 [==============================] - 0s 4ms/step - loss: 0.2496 - accuracy: 0.9310 - val_loss: 0.2621 - val_accuracy: 0.9268\n",
      "Epoch 99/100\n",
      "60/60 [==============================] - 0s 4ms/step - loss: 0.2495 - accuracy: 0.9311 - val_loss: 0.2622 - val_accuracy: 0.9269\n",
      "Epoch 100/100\n",
      "60/60 [==============================] - 0s 4ms/step - loss: 0.2494 - accuracy: 0.9310 - val_loss: 0.2620 - val_accuracy: 0.9272\n"
     ]
    }
   ],
   "source": [
    "# Fitting the model\n",
    "\n",
    "model_hist=model.fit(x=x_train, y=y_train, epochs=100, batch_size=1000, validation_data=(x_test,y_test))"
   ]
  },
  {
   "cell_type": "code",
   "execution_count": 50,
   "metadata": {
    "colab": {
     "base_uri": "https://localhost:8080/"
    },
    "id": "1nf90OkmtNht",
    "outputId": "cd5d3c8b-eeb2-4108-b8ea-7a91e6c027d7"
   },
   "outputs": [
    {
     "name": "stdout",
     "output_type": "stream",
     "text": [
      "313/313 [==============================] - 1s 2ms/step - loss: 0.2620 - accuracy: 0.9272\n",
      "Test accuracy: 92.72\n"
     ]
    }
   ],
   "source": [
    "# Calculating test accuarcy \n",
    "\n",
    "loss, accuracy = model.evaluate(x_test, y_test)\n",
    "print(\"Test accuracy:\", round(accuracy*100,2))"
   ]
  },
  {
   "cell_type": "code",
   "execution_count": null,
   "metadata": {
    "id": "9ttOAZacyu-U"
   },
   "outputs": [],
   "source": []
  },
  {
   "cell_type": "markdown",
   "metadata": {
    "id": "zuRdFcUhkib_"
   },
   "source": [
    "## Problem 4: Speaker Verification"
   ]
  },
  {
   "cell_type": "code",
   "execution_count": 51,
   "metadata": {
    "id": "kVdygQ8Lkmu-"
   },
   "outputs": [],
   "source": [
    "# Loading the data\n",
    "\n",
    "with open('hw4_trs.pkl','rb') as file:\n",
    "  trs=pickle.load(file)\n",
    "\n",
    "with open('hw4_tes.pkl','rb') as file:\n",
    "  tes=pickle.load(file)"
   ]
  },
  {
   "cell_type": "code",
   "execution_count": 52,
   "metadata": {
    "colab": {
     "base_uri": "https://localhost:8080/"
    },
    "id": "dHxyqFwEV40E",
    "outputId": "c54cc897-88ae-4c27-9070-d925e7a18ef1"
   },
   "outputs": [
    {
     "data": {
      "text/plain": [
       "((500, 16180), (200, 22631))"
      ]
     },
     "execution_count": 52,
     "metadata": {},
     "output_type": "execute_result"
    }
   ],
   "source": [
    "trs.shape, tes.shape"
   ]
  },
  {
   "cell_type": "code",
   "execution_count": 53,
   "metadata": {
    "colab": {
     "base_uri": "https://localhost:8080/"
    },
    "id": "5fO2CmkbWG_D",
    "outputId": "2194205e-cd09-442f-cc85-0f9f8d3f245c"
   },
   "outputs": [
    {
     "data": {
      "text/plain": [
       "(500, 513, 32)"
      ]
     },
     "execution_count": 53,
     "metadata": {},
     "output_type": "execute_result"
    }
   ],
   "source": [
    "# Coverting train signals into spectograms\n",
    "\n",
    "trs_stft = []\n",
    "\n",
    "for i in range(len(trs)):\n",
    "  trs_S = librosa.stft(trs[i], n_fft=1024, hop_length=512)\n",
    "  trs_abs = np.abs(trs_S)\n",
    "  trs_stft.append(trs_abs)\n",
    "\n",
    "trs_stft = np.array(trs_stft)\n",
    "trs_stft.shape"
   ]
  },
  {
   "cell_type": "code",
   "execution_count": 54,
   "metadata": {
    "colab": {
     "base_uri": "https://localhost:8080/"
    },
    "id": "btP0cZV0XOJe",
    "outputId": "3cc6a829-93b8-4429-b1c6-30c1014b7b55"
   },
   "outputs": [
    {
     "data": {
      "text/plain": [
       "(200, 513, 45)"
      ]
     },
     "execution_count": 54,
     "metadata": {},
     "output_type": "execute_result"
    }
   ],
   "source": [
    "# Coverting test signals into spectograms\n",
    "\n",
    "tes_stft = []\n",
    "\n",
    "for i in range(len(tes)):\n",
    "  tes_S = librosa.stft(tes[i], n_fft=1024, hop_length=512)\n",
    "  tes_abs = np.abs(tes_S)\n",
    "  tes_stft.append(tes_abs)\n",
    "\n",
    "tes_stft = np.array(tes_stft)\n",
    "tes_stft.shape"
   ]
  },
  {
   "cell_type": "code",
   "execution_count": 55,
   "metadata": {
    "id": "6mntSso9ribp"
   },
   "outputs": [],
   "source": [
    "# Function to sample positive pairs\n",
    "\n",
    "def posSampling(spk_index, df):\n",
    "  pos_data = []\n",
    "  for i in spk_index:\n",
    "    spk_list = [i for i in range(i,i+10)]\n",
    "    pair1_index = np.random.choice(spk_list,size=45,replace=True)\n",
    "    pair1_data = df[pair1_index]\n",
    "    \n",
    "    pair2_index = np.random.choice(spk_list,size=45,replace=True)\n",
    "    pair2_data = df[pair2_index]\n",
    "    \n",
    "    if i==0:\n",
    "      pos_data =  np.concatenate((pair1_data, pair2_data))\n",
    "    else:\n",
    "      pos_data = np.concatenate((pos_data, pair1_data, pair2_data))\n",
    "\n",
    "  return pos_data\n"
   ]
  },
  {
   "cell_type": "code",
   "execution_count": 56,
   "metadata": {
    "colab": {
     "base_uri": "https://localhost:8080/"
    },
    "id": "3BqI5buJskbn",
    "outputId": "0ceee61c-b261-4a22-8dca-7c83d5323bcf"
   },
   "outputs": [
    {
     "data": {
      "text/plain": [
       "(4500, 513, 32)"
      ]
     },
     "execution_count": 56,
     "metadata": {},
     "output_type": "execute_result"
    },
    {
     "data": {
      "text/plain": [
       "(1800, 513, 45)"
      ]
     },
     "execution_count": 56,
     "metadata": {},
     "output_type": "execute_result"
    }
   ],
   "source": [
    "# Sampling postive pairs for train and test data\n",
    "\n",
    "trs_speakers_index = []\n",
    "for i in range(0,len(trs_stft),10):\n",
    "  trs_speakers_index.append(i)\n",
    "trs_pos_data = posSampling(trs_speakers_index, trs_stft)\n",
    "trs_pos_data.shape\n",
    "\n",
    "tes_speakers_index = []\n",
    "for i in range(0,len(tes_stft),10):\n",
    "  tes_speakers_index.append(i)\n",
    "tes_pos_data = posSampling(tes_speakers_index, tes_stft)\n",
    "tes_pos_data.shape"
   ]
  },
  {
   "cell_type": "code",
   "execution_count": 57,
   "metadata": {
    "id": "7R_mVLoqs61T"
   },
   "outputs": [],
   "source": [
    "# Function to sample negtaive pairs\n",
    "\n",
    "def negSampling(spk_index,total_list,df):\n",
    "  neg_data = []\n",
    "  for i in spk_index:\n",
    "    spk_list = [i for i in range(i,i+10)]\n",
    "    rem_spk_list = ([x for x in total_list if x not in set(spk_list)])\n",
    "\n",
    "    pair1_index = np.random.choice(rem_spk_list,size=45,replace=False)\n",
    "    pair1_data = df[pair1_index]\n",
    "  \n",
    "    pair2_index = np.random.choice(spk_list,size=45,replace=True)\n",
    "    pair2_data = df[pair2_index]\n",
    "  \n",
    "    if i==0:\n",
    "      neg_data =  np.concatenate((pair1_data, pair2_data))\n",
    "    else:\n",
    "      neg_data = np.concatenate((neg_data, pair1_data, pair2_data))\n",
    "  \n",
    "  return neg_data"
   ]
  },
  {
   "cell_type": "code",
   "execution_count": 58,
   "metadata": {
    "colab": {
     "base_uri": "https://localhost:8080/"
    },
    "id": "uuHVoGpBwVkO",
    "outputId": "091ada28-27ed-4cf4-d17b-4af32c8e7dfd"
   },
   "outputs": [
    {
     "data": {
      "text/plain": [
       "(4500, 513, 32)"
      ]
     },
     "execution_count": 58,
     "metadata": {},
     "output_type": "execute_result"
    },
    {
     "data": {
      "text/plain": [
       "(1800, 513, 45)"
      ]
     },
     "execution_count": 58,
     "metadata": {},
     "output_type": "execute_result"
    }
   ],
   "source": [
    "# Sampling negative pairs for train and test data\n",
    "\n",
    "trs_total_list = [i for i in range(0,len(trs_stft))]\n",
    "trs_neg_data = negSampling(trs_speakers_index,trs_total_list,trs_stft)\n",
    "trs_neg_data.shape\n",
    "\n",
    "tes_total_list = [i for i in range(0,len(tes_stft))]\n",
    "tes_neg_data = negSampling(tes_speakers_index,tes_total_list,tes_stft)\n",
    "tes_neg_data.shape"
   ]
  },
  {
   "cell_type": "code",
   "execution_count": 59,
   "metadata": {
    "colab": {
     "base_uri": "https://localhost:8080/"
    },
    "id": "cPQkXMzzxptt",
    "outputId": "c3ee23d0-9de4-46d6-e128-599c5dc78d84"
   },
   "outputs": [
    {
     "data": {
      "text/plain": [
       "(4500, 1800)"
      ]
     },
     "execution_count": 59,
     "metadata": {},
     "output_type": "execute_result"
    }
   ],
   "source": [
    "# Creating labels for train and test data\n",
    "\n",
    "trs_labels = []\n",
    "for i in range(0,50):\n",
    "  ones = np.ones((45,1))\n",
    "  zeros = np.zeros((45,1))\n",
    "  if i==0:\n",
    "    trs_labels =  np.concatenate((ones, zeros))\n",
    "  else:\n",
    "    trs_labels = np.concatenate((trs_labels, ones, zeros))\n",
    "\n",
    "tes_labels = []\n",
    "for i in range(0,20):\n",
    "  ones = np.ones((45,1))\n",
    "  zeros = np.zeros((45,1))\n",
    "  if i==0:\n",
    "    tes_labels =  np.concatenate((ones, zeros))\n",
    "  else:\n",
    "    tes_labels = np.concatenate((tes_labels, ones, zeros))\n",
    "\n",
    "len(trs_labels),len(tes_labels)"
   ]
  },
  {
   "cell_type": "code",
   "execution_count": 76,
   "metadata": {
    "id": "UV2LGhnqzT-8"
   },
   "outputs": [],
   "source": [
    "# Function to build a Siamese model\n",
    "\n",
    "def siameseModel(inputShape, embeddingDim=48):\n",
    "  inputs = Input(inputShape) # Define input\n",
    "  x = GRU(activation='tanh', units=64, return_sequences=False)(inputs) # Define layers\n",
    "  outputs = Dense(embeddingDim)(x)   # Define output\n",
    "  model = Model(inputs, outputs)  # Build the model\n",
    "  return model"
   ]
  },
  {
   "cell_type": "code",
   "execution_count": 77,
   "metadata": {
    "id": "FTMbCcjp7eTr"
   },
   "outputs": [],
   "source": [
    "# Configuring the siamese network\n",
    "\n",
    "pos_input = Input(shape=(None,513))\n",
    "neg_input = Input(shape=(None,513))\n",
    "featureExtractor = siameseModel((None,513))\n",
    "embed_vec1 = featureExtractor(pos_input)\n",
    "embed_vec2 = featureExtractor(neg_input)"
   ]
  },
  {
   "cell_type": "code",
   "execution_count": 78,
   "metadata": {
    "id": "z6BRRE7V7eXD"
   },
   "outputs": [],
   "source": [
    "# Fucntion to calculate the inner product of the two latent embedding vectors\n",
    "\n",
    "def distanceCalc(input1, input2):\n",
    "  dist = tf.multiply(input1, input2)\n",
    "  return dist"
   ]
  },
  {
   "cell_type": "code",
   "execution_count": 79,
   "metadata": {
    "id": "VVaOio7J7ear"
   },
   "outputs": [],
   "source": [
    "# Constructing the siamese network\n",
    "\n",
    "distance = distanceCalc(embed_vec1, embed_vec2)\n",
    "outputs = Dense(1, activation=\"sigmoid\")(distance)\n",
    "model = Model(inputs=[pos_input, neg_input], outputs=outputs)"
   ]
  },
  {
   "cell_type": "code",
   "execution_count": 80,
   "metadata": {
    "id": "On5EymaH-B9J"
   },
   "outputs": [],
   "source": [
    "# Calculating loss and optimizing the model\n",
    "\n",
    "model.compile(loss=\"binary_crossentropy\", optimizer=\"adam\", metrics=[\"accuracy\"])"
   ]
  },
  {
   "cell_type": "code",
   "execution_count": 81,
   "metadata": {
    "colab": {
     "base_uri": "https://localhost:8080/"
    },
    "id": "RrB9AiUD9uGN",
    "outputId": "b23006fe-5740-42d4-a824-548056d16281"
   },
   "outputs": [
    {
     "data": {
      "text/plain": [
       "((4500, 32, 513), (4500, 32, 513))"
      ]
     },
     "execution_count": 81,
     "metadata": {},
     "output_type": "execute_result"
    },
    {
     "data": {
      "text/plain": [
       "((1800, 45, 513), (1800, 45, 513))"
      ]
     },
     "execution_count": 81,
     "metadata": {},
     "output_type": "execute_result"
    }
   ],
   "source": [
    "# Changing the shape of train and test data\n",
    "\n",
    "trs_pos_data1 = np.transpose(trs_pos_data,axes=(0,2,1))\n",
    "trs_neg_data1 = np.transpose(trs_neg_data,axes=(0,2,1))\n",
    "trs_pos_data1.shape, trs_neg_data1.shape\n",
    "\n",
    "tes_pos_data1 = np.transpose(tes_pos_data,axes=(0,2,1))\n",
    "tes_neg_data1 = np.transpose(tes_neg_data,axes=(0,2,1))\n",
    "tes_pos_data1.shape, tes_neg_data1.shape"
   ]
  },
  {
   "cell_type": "code",
   "execution_count": 87,
   "metadata": {
    "colab": {
     "base_uri": "https://localhost:8080/"
    },
    "id": "LtdFLkNB93SZ",
    "outputId": "0a8ea06f-0d4d-4d55-fdd2-f2b81f58707e"
   },
   "outputs": [
    {
     "name": "stdout",
     "output_type": "stream",
     "text": [
      "Epoch 1/10\n",
      "45/45 [==============================] - 1s 26ms/step - loss: 0.0013 - accuracy: 1.0000 - val_loss: 2.3201 - val_accuracy: 0.6617\n",
      "Epoch 2/10\n",
      "45/45 [==============================] - 1s 15ms/step - loss: 0.0012 - accuracy: 1.0000 - val_loss: 2.3008 - val_accuracy: 0.6661\n",
      "Epoch 3/10\n",
      "45/45 [==============================] - 1s 15ms/step - loss: 0.0011 - accuracy: 1.0000 - val_loss: 2.3568 - val_accuracy: 0.6617\n",
      "Epoch 4/10\n",
      "45/45 [==============================] - 1s 15ms/step - loss: 9.9403e-04 - accuracy: 1.0000 - val_loss: 2.3697 - val_accuracy: 0.6650\n",
      "Epoch 5/10\n",
      "45/45 [==============================] - 1s 15ms/step - loss: 9.0419e-04 - accuracy: 1.0000 - val_loss: 2.3658 - val_accuracy: 0.6650\n",
      "Epoch 6/10\n",
      "45/45 [==============================] - 1s 15ms/step - loss: 8.4350e-04 - accuracy: 1.0000 - val_loss: 2.4096 - val_accuracy: 0.6667\n",
      "Epoch 7/10\n",
      "45/45 [==============================] - 1s 15ms/step - loss: 7.8773e-04 - accuracy: 1.0000 - val_loss: 2.4777 - val_accuracy: 0.6589\n",
      "Epoch 8/10\n",
      "45/45 [==============================] - 1s 15ms/step - loss: 7.3755e-04 - accuracy: 1.0000 - val_loss: 2.4176 - val_accuracy: 0.6644\n",
      "Epoch 9/10\n",
      "45/45 [==============================] - 1s 15ms/step - loss: 6.8700e-04 - accuracy: 1.0000 - val_loss: 2.5051 - val_accuracy: 0.6656\n",
      "Epoch 10/10\n",
      "45/45 [==============================] - 1s 15ms/step - loss: 6.3770e-04 - accuracy: 1.0000 - val_loss: 2.5262 - val_accuracy: 0.6633\n"
     ]
    },
    {
     "data": {
      "text/plain": [
       "<keras.callbacks.History at 0x7f7e6d5c6190>"
      ]
     },
     "execution_count": 87,
     "metadata": {},
     "output_type": "execute_result"
    }
   ],
   "source": [
    "# Fitting the model\n",
    "\n",
    "model.fit([trs_pos_data1, trs_neg_data1], trs_labels,\n",
    "          validation_data=([tes_pos_data1, tes_neg_data1], tes_labels),\n",
    "\t        batch_size=100, \n",
    "\t        epochs=10)"
   ]
  },
  {
   "cell_type": "code",
   "execution_count": 85,
   "metadata": {
    "colab": {
     "base_uri": "https://localhost:8080/"
    },
    "id": "dmP-T0kT-3KL",
    "outputId": "66c6f3b6-3ead-45d2-d9a4-6b7b77b8c075"
   },
   "outputs": [
    {
     "name": "stdout",
     "output_type": "stream",
     "text": [
      "57/57 [==============================] - 0s 5ms/step\n",
      "Test accuracy: 66.22\n"
     ]
    }
   ],
   "source": [
    "# Calculating test accuarcy \n",
    "\n",
    "preds = model.predict([tes_pos_data1,tes_neg_data1])\n",
    "preds1 = preds>=0.5\n",
    "accuracy = (sum(preds1 == tes_labels)/len(tes_labels))[0]\n",
    "print(\"Test accuracy:\", round(accuracy*100,2))"
   ]
  },
  {
   "cell_type": "markdown",
   "metadata": {
    "id": "O_onsLTlBtVK"
   },
   "source": [
    "Reference - https://pyimagesearch.com/2020/11/30/siamese-networks-with-keras-tensorflow-and-deep-learning/"
   ]
  },
  {
   "cell_type": "code",
   "execution_count": null,
   "metadata": {
    "id": "e8SYXgGZ9uJD"
   },
   "outputs": [],
   "source": []
  }
 ],
 "metadata": {
  "accelerator": "GPU",
  "colab": {
   "collapsed_sections": [],
   "machine_shape": "hm",
   "provenance": []
  },
  "gpuClass": "premium",
  "kernelspec": {
   "display_name": "Python 3 (ipykernel)",
   "language": "python",
   "name": "python3"
  },
  "language_info": {
   "codemirror_mode": {
    "name": "ipython",
    "version": 3
   },
   "file_extension": ".py",
   "mimetype": "text/x-python",
   "name": "python",
   "nbconvert_exporter": "python",
   "pygments_lexer": "ipython3",
   "version": "3.9.13"
  }
 },
 "nbformat": 4,
 "nbformat_minor": 1
}
